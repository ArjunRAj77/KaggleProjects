{
 "cells": [
  {
   "cell_type": "code",
   "execution_count": 1,
   "id": "c4be36d2",
   "metadata": {
    "_cell_guid": "b1076dfc-b9ad-4769-8c92-a6c4dae69d19",
    "_uuid": "8f2839f25d086af736a60e9eeb907d3b93b6e0e5",
    "execution": {
     "iopub.execute_input": "2022-09-11T19:39:38.158088Z",
     "iopub.status.busy": "2022-09-11T19:39:38.157038Z",
     "iopub.status.idle": "2022-09-11T19:39:38.172408Z",
     "shell.execute_reply": "2022-09-11T19:39:38.171150Z"
    },
    "papermill": {
     "duration": 0.026061,
     "end_time": "2022-09-11T19:39:38.175505",
     "exception": false,
     "start_time": "2022-09-11T19:39:38.149444",
     "status": "completed"
    },
    "tags": []
   },
   "outputs": [
    {
     "name": "stdout",
     "output_type": "stream",
     "text": [
      "/kaggle/input/spaceship-titanic/sample_submission.csv\n",
      "/kaggle/input/spaceship-titanic/train.csv\n",
      "/kaggle/input/spaceship-titanic/test.csv\n"
     ]
    }
   ],
   "source": [
    "# This Python 3 environment comes with many helpful analytics libraries installed\n",
    "# It is defined by the kaggle/python Docker image: https://github.com/kaggle/docker-python\n",
    "# For example, here's several helpful packages to load\n",
    "\n",
    "import numpy as np # linear algebra\n",
    "import pandas as pd # data processing, CSV file I/O (e.g. pd.read_csv)\n",
    "\n",
    "# Input data files are available in the read-only \"../input/\" directory\n",
    "# For example, running this (by clicking run or pressing Shift+Enter) will list all files under the input directory\n",
    "\n",
    "import os\n",
    "for dirname, _, filenames in os.walk('/kaggle/input'):\n",
    "    for filename in filenames:\n",
    "        print(os.path.join(dirname, filename))\n",
    "\n",
    "# You can write up to 20GB to the current directory (/kaggle/working/) that gets preserved as output when you create a version using \"Save & Run All\" \n",
    "# You can also write temporary files to /kaggle/temp/, but they won't be saved outside of the current session"
   ]
  },
  {
   "cell_type": "code",
   "execution_count": 2,
   "id": "fe3ad43c",
   "metadata": {
    "execution": {
     "iopub.execute_input": "2022-09-11T19:39:38.187458Z",
     "iopub.status.busy": "2022-09-11T19:39:38.186621Z",
     "iopub.status.idle": "2022-09-11T19:39:39.559663Z",
     "shell.execute_reply": "2022-09-11T19:39:39.558581Z"
    },
    "papermill": {
     "duration": 1.382292,
     "end_time": "2022-09-11T19:39:39.562482",
     "exception": false,
     "start_time": "2022-09-11T19:39:38.180190",
     "status": "completed"
    },
    "tags": []
   },
   "outputs": [],
   "source": [
    "# Import helpful libraries\n",
    "import pandas as pd\n",
    "from sklearn.ensemble import RandomForestRegressor\n",
    "from sklearn.metrics import mean_absolute_error\n",
    "from sklearn.model_selection import train_test_split"
   ]
  },
  {
   "cell_type": "code",
   "execution_count": 3,
   "id": "bddbfdff",
   "metadata": {
    "execution": {
     "iopub.execute_input": "2022-09-11T19:39:39.572891Z",
     "iopub.status.busy": "2022-09-11T19:39:39.572497Z",
     "iopub.status.idle": "2022-09-11T19:39:39.649757Z",
     "shell.execute_reply": "2022-09-11T19:39:39.648004Z"
    },
    "papermill": {
     "duration": 0.08553,
     "end_time": "2022-09-11T19:39:39.652415",
     "exception": false,
     "start_time": "2022-09-11T19:39:39.566885",
     "status": "completed"
    },
    "tags": []
   },
   "outputs": [
    {
     "name": "stdout",
     "output_type": "stream",
     "text": [
      "     PassengerId HomePlanet CryoSleep     Cabin    Destination   Age    VIP  \\\n",
      "0        0001_01     Europa     False     B/0/P    TRAPPIST-1e  39.0  False   \n",
      "1        0002_01      Earth     False     F/0/S    TRAPPIST-1e  24.0  False   \n",
      "2        0003_01     Europa     False     A/0/S    TRAPPIST-1e  58.0   True   \n",
      "3        0003_02     Europa     False     A/0/S    TRAPPIST-1e  33.0  False   \n",
      "4        0004_01      Earth     False     F/1/S    TRAPPIST-1e  16.0  False   \n",
      "...          ...        ...       ...       ...            ...   ...    ...   \n",
      "8688     9276_01     Europa     False    A/98/P    55 Cancri e  41.0   True   \n",
      "8689     9278_01      Earth      True  G/1499/S  PSO J318.5-22  18.0  False   \n",
      "8690     9279_01      Earth     False  G/1500/S    TRAPPIST-1e  26.0  False   \n",
      "8691     9280_01     Europa     False   E/608/S    55 Cancri e  32.0  False   \n",
      "8692     9280_02     Europa     False   E/608/S    TRAPPIST-1e  44.0  False   \n",
      "\n",
      "      RoomService  FoodCourt  ShoppingMall     Spa  VRDeck               Name  \\\n",
      "0             0.0        0.0           0.0     0.0     0.0    Maham Ofracculy   \n",
      "1           109.0        9.0          25.0   549.0    44.0       Juanna Vines   \n",
      "2            43.0     3576.0           0.0  6715.0    49.0      Altark Susent   \n",
      "3             0.0     1283.0         371.0  3329.0   193.0       Solam Susent   \n",
      "4           303.0       70.0         151.0   565.0     2.0  Willy Santantines   \n",
      "...           ...        ...           ...     ...     ...                ...   \n",
      "8688          0.0     6819.0           0.0  1643.0    74.0  Gravior Noxnuther   \n",
      "8689          0.0        0.0           0.0     0.0     0.0    Kurta Mondalley   \n",
      "8690          0.0        0.0        1872.0     1.0     0.0       Fayey Connon   \n",
      "8691          0.0     1049.0           0.0   353.0  3235.0   Celeon Hontichre   \n",
      "8692        126.0     4688.0           0.0     0.0    12.0   Propsh Hontichre   \n",
      "\n",
      "      Transported  \n",
      "0           False  \n",
      "1            True  \n",
      "2           False  \n",
      "3           False  \n",
      "4            True  \n",
      "...           ...  \n",
      "8688        False  \n",
      "8689        False  \n",
      "8690         True  \n",
      "8691        False  \n",
      "8692         True  \n",
      "\n",
      "[8693 rows x 14 columns]\n"
     ]
    }
   ],
   "source": [
    "# Load the data, and separate the target\n",
    "space_file_path = '../input/spaceship-titanic/train.csv'\n",
    "space_data = pd.read_csv(space_file_path)\n",
    "print(space_data)\n",
    "y = space_data.Transported\n"
   ]
  },
  {
   "cell_type": "code",
   "execution_count": 4,
   "id": "a20e775d",
   "metadata": {
    "execution": {
     "iopub.execute_input": "2022-09-11T19:39:39.664623Z",
     "iopub.status.busy": "2022-09-11T19:39:39.664226Z",
     "iopub.status.idle": "2022-09-11T19:39:39.682495Z",
     "shell.execute_reply": "2022-09-11T19:39:39.681240Z"
    },
    "papermill": {
     "duration": 0.026343,
     "end_time": "2022-09-11T19:39:39.684956",
     "exception": false,
     "start_time": "2022-09-11T19:39:39.658613",
     "status": "completed"
    },
    "tags": []
   },
   "outputs": [
    {
     "data": {
      "text/plain": [
       "G/734/S     8\n",
       "G/109/P     7\n",
       "B/201/P     7\n",
       "G/1368/P    7\n",
       "G/981/S     7\n",
       "           ..\n",
       "G/556/P     1\n",
       "E/231/S     1\n",
       "G/545/S     1\n",
       "G/543/S     1\n",
       "F/947/P     1\n",
       "Name: Cabin, Length: 6560, dtype: int64"
      ]
     },
     "execution_count": 4,
     "metadata": {},
     "output_type": "execute_result"
    }
   ],
   "source": [
    "space_data.Cabin.value_counts()"
   ]
  },
  {
   "cell_type": "code",
   "execution_count": 5,
   "id": "49e77e98",
   "metadata": {
    "execution": {
     "iopub.execute_input": "2022-09-11T19:39:39.696567Z",
     "iopub.status.busy": "2022-09-11T19:39:39.695542Z",
     "iopub.status.idle": "2022-09-11T19:39:39.700263Z",
     "shell.execute_reply": "2022-09-11T19:39:39.699411Z"
    },
    "papermill": {
     "duration": 0.013215,
     "end_time": "2022-09-11T19:39:39.702709",
     "exception": false,
     "start_time": "2022-09-11T19:39:39.689494",
     "status": "completed"
    },
    "tags": []
   },
   "outputs": [],
   "source": [
    "# Create X \n",
    "features = ['Age','CryoSleep','VIP','Spa','ShoppingMall','FoodCourt','RoomService','VRDeck']\n"
   ]
  },
  {
   "cell_type": "code",
   "execution_count": 6,
   "id": "5b21d71e",
   "metadata": {
    "execution": {
     "iopub.execute_input": "2022-09-11T19:39:39.714038Z",
     "iopub.status.busy": "2022-09-11T19:39:39.713038Z",
     "iopub.status.idle": "2022-09-11T19:39:39.727064Z",
     "shell.execute_reply": "2022-09-11T19:39:39.725409Z"
    },
    "papermill": {
     "duration": 0.023106,
     "end_time": "2022-09-11T19:39:39.730441",
     "exception": false,
     "start_time": "2022-09-11T19:39:39.707335",
     "status": "completed"
    },
    "tags": []
   },
   "outputs": [],
   "source": [
    "# Creating X based on features\n",
    "X = space_data[features]\n",
    "X=X.fillna(0)"
   ]
  },
  {
   "cell_type": "code",
   "execution_count": 7,
   "id": "e9603e35",
   "metadata": {
    "execution": {
     "iopub.execute_input": "2022-09-11T19:39:39.743953Z",
     "iopub.status.busy": "2022-09-11T19:39:39.742855Z",
     "iopub.status.idle": "2022-09-11T19:39:39.797715Z",
     "shell.execute_reply": "2022-09-11T19:39:39.796707Z"
    },
    "papermill": {
     "duration": 0.064255,
     "end_time": "2022-09-11T19:39:39.800721",
     "exception": false,
     "start_time": "2022-09-11T19:39:39.736466",
     "status": "completed"
    },
    "tags": []
   },
   "outputs": [
    {
     "data": {
      "text/html": [
       "<div>\n",
       "<style scoped>\n",
       "    .dataframe tbody tr th:only-of-type {\n",
       "        vertical-align: middle;\n",
       "    }\n",
       "\n",
       "    .dataframe tbody tr th {\n",
       "        vertical-align: top;\n",
       "    }\n",
       "\n",
       "    .dataframe thead th {\n",
       "        text-align: right;\n",
       "    }\n",
       "</style>\n",
       "<table border=\"1\" class=\"dataframe\">\n",
       "  <thead>\n",
       "    <tr style=\"text-align: right;\">\n",
       "      <th></th>\n",
       "      <th>Age</th>\n",
       "      <th>CryoSleep</th>\n",
       "      <th>VIP</th>\n",
       "      <th>Spa</th>\n",
       "      <th>ShoppingMall</th>\n",
       "      <th>FoodCourt</th>\n",
       "      <th>RoomService</th>\n",
       "      <th>VRDeck</th>\n",
       "    </tr>\n",
       "  </thead>\n",
       "  <tbody>\n",
       "    <tr>\n",
       "      <th>0</th>\n",
       "      <td>27.0</td>\n",
       "      <td>True</td>\n",
       "      <td>False</td>\n",
       "      <td>0.0</td>\n",
       "      <td>0.0</td>\n",
       "      <td>0.0</td>\n",
       "      <td>0.0</td>\n",
       "      <td>0.0</td>\n",
       "    </tr>\n",
       "    <tr>\n",
       "      <th>1</th>\n",
       "      <td>19.0</td>\n",
       "      <td>False</td>\n",
       "      <td>False</td>\n",
       "      <td>2823.0</td>\n",
       "      <td>0.0</td>\n",
       "      <td>9.0</td>\n",
       "      <td>0.0</td>\n",
       "      <td>0.0</td>\n",
       "    </tr>\n",
       "    <tr>\n",
       "      <th>2</th>\n",
       "      <td>31.0</td>\n",
       "      <td>True</td>\n",
       "      <td>False</td>\n",
       "      <td>0.0</td>\n",
       "      <td>0.0</td>\n",
       "      <td>0.0</td>\n",
       "      <td>0.0</td>\n",
       "      <td>0.0</td>\n",
       "    </tr>\n",
       "    <tr>\n",
       "      <th>3</th>\n",
       "      <td>38.0</td>\n",
       "      <td>False</td>\n",
       "      <td>False</td>\n",
       "      <td>181.0</td>\n",
       "      <td>0.0</td>\n",
       "      <td>6652.0</td>\n",
       "      <td>0.0</td>\n",
       "      <td>585.0</td>\n",
       "    </tr>\n",
       "    <tr>\n",
       "      <th>4</th>\n",
       "      <td>20.0</td>\n",
       "      <td>False</td>\n",
       "      <td>False</td>\n",
       "      <td>0.0</td>\n",
       "      <td>635.0</td>\n",
       "      <td>0.0</td>\n",
       "      <td>10.0</td>\n",
       "      <td>0.0</td>\n",
       "    </tr>\n",
       "  </tbody>\n",
       "</table>\n",
       "</div>"
      ],
      "text/plain": [
       "    Age CryoSleep    VIP     Spa  ShoppingMall  FoodCourt  RoomService  VRDeck\n",
       "0  27.0      True  False     0.0           0.0        0.0          0.0     0.0\n",
       "1  19.0     False  False  2823.0           0.0        9.0          0.0     0.0\n",
       "2  31.0      True  False     0.0           0.0        0.0          0.0     0.0\n",
       "3  38.0     False  False   181.0           0.0     6652.0          0.0   585.0\n",
       "4  20.0     False  False     0.0         635.0        0.0         10.0     0.0"
      ]
     },
     "execution_count": 7,
     "metadata": {},
     "output_type": "execute_result"
    }
   ],
   "source": [
    "#Loading the test data\n",
    "test_data = pd.read_csv(\"../input/spaceship-titanic/test.csv\")\n",
    "test_data.head()\n",
    "test_X = test_data[features]\n",
    "test_X=test_X.fillna(0)\n",
    "test_X.head()\n"
   ]
  },
  {
   "cell_type": "code",
   "execution_count": 8,
   "id": "ddfad6df",
   "metadata": {
    "execution": {
     "iopub.execute_input": "2022-09-11T19:39:39.818419Z",
     "iopub.status.busy": "2022-09-11T19:39:39.817482Z",
     "iopub.status.idle": "2022-09-11T19:39:39.839915Z",
     "shell.execute_reply": "2022-09-11T19:39:39.838651Z"
    },
    "papermill": {
     "duration": 0.03505,
     "end_time": "2022-09-11T19:39:39.842982",
     "exception": false,
     "start_time": "2022-09-11T19:39:39.807932",
     "status": "completed"
    },
    "tags": []
   },
   "outputs": [
    {
     "data": {
      "text/html": [
       "<div>\n",
       "<style scoped>\n",
       "    .dataframe tbody tr th:only-of-type {\n",
       "        vertical-align: middle;\n",
       "    }\n",
       "\n",
       "    .dataframe tbody tr th {\n",
       "        vertical-align: top;\n",
       "    }\n",
       "\n",
       "    .dataframe thead th {\n",
       "        text-align: right;\n",
       "    }\n",
       "</style>\n",
       "<table border=\"1\" class=\"dataframe\">\n",
       "  <thead>\n",
       "    <tr style=\"text-align: right;\">\n",
       "      <th></th>\n",
       "      <th>PassengerId</th>\n",
       "      <th>HomePlanet</th>\n",
       "      <th>CryoSleep</th>\n",
       "      <th>Cabin</th>\n",
       "      <th>Destination</th>\n",
       "      <th>Age</th>\n",
       "      <th>VIP</th>\n",
       "      <th>RoomService</th>\n",
       "      <th>FoodCourt</th>\n",
       "      <th>ShoppingMall</th>\n",
       "      <th>Spa</th>\n",
       "      <th>VRDeck</th>\n",
       "      <th>Name</th>\n",
       "    </tr>\n",
       "  </thead>\n",
       "  <tbody>\n",
       "    <tr>\n",
       "      <th>0</th>\n",
       "      <td>0013_01</td>\n",
       "      <td>Earth</td>\n",
       "      <td>True</td>\n",
       "      <td>G/3/S</td>\n",
       "      <td>TRAPPIST-1e</td>\n",
       "      <td>27.0</td>\n",
       "      <td>False</td>\n",
       "      <td>0.0</td>\n",
       "      <td>0.0</td>\n",
       "      <td>0.0</td>\n",
       "      <td>0.0</td>\n",
       "      <td>0.0</td>\n",
       "      <td>Nelly Carsoning</td>\n",
       "    </tr>\n",
       "    <tr>\n",
       "      <th>1</th>\n",
       "      <td>0018_01</td>\n",
       "      <td>Earth</td>\n",
       "      <td>False</td>\n",
       "      <td>F/4/S</td>\n",
       "      <td>TRAPPIST-1e</td>\n",
       "      <td>19.0</td>\n",
       "      <td>False</td>\n",
       "      <td>0.0</td>\n",
       "      <td>9.0</td>\n",
       "      <td>0.0</td>\n",
       "      <td>2823.0</td>\n",
       "      <td>0.0</td>\n",
       "      <td>Lerome Peckers</td>\n",
       "    </tr>\n",
       "    <tr>\n",
       "      <th>2</th>\n",
       "      <td>0019_01</td>\n",
       "      <td>Europa</td>\n",
       "      <td>True</td>\n",
       "      <td>C/0/S</td>\n",
       "      <td>55 Cancri e</td>\n",
       "      <td>31.0</td>\n",
       "      <td>False</td>\n",
       "      <td>0.0</td>\n",
       "      <td>0.0</td>\n",
       "      <td>0.0</td>\n",
       "      <td>0.0</td>\n",
       "      <td>0.0</td>\n",
       "      <td>Sabih Unhearfus</td>\n",
       "    </tr>\n",
       "    <tr>\n",
       "      <th>3</th>\n",
       "      <td>0021_01</td>\n",
       "      <td>Europa</td>\n",
       "      <td>False</td>\n",
       "      <td>C/1/S</td>\n",
       "      <td>TRAPPIST-1e</td>\n",
       "      <td>38.0</td>\n",
       "      <td>False</td>\n",
       "      <td>0.0</td>\n",
       "      <td>6652.0</td>\n",
       "      <td>0.0</td>\n",
       "      <td>181.0</td>\n",
       "      <td>585.0</td>\n",
       "      <td>Meratz Caltilter</td>\n",
       "    </tr>\n",
       "    <tr>\n",
       "      <th>4</th>\n",
       "      <td>0023_01</td>\n",
       "      <td>Earth</td>\n",
       "      <td>False</td>\n",
       "      <td>F/5/S</td>\n",
       "      <td>TRAPPIST-1e</td>\n",
       "      <td>20.0</td>\n",
       "      <td>False</td>\n",
       "      <td>10.0</td>\n",
       "      <td>0.0</td>\n",
       "      <td>635.0</td>\n",
       "      <td>0.0</td>\n",
       "      <td>0.0</td>\n",
       "      <td>Brence Harperez</td>\n",
       "    </tr>\n",
       "  </tbody>\n",
       "</table>\n",
       "</div>"
      ],
      "text/plain": [
       "  PassengerId HomePlanet CryoSleep  Cabin  Destination   Age    VIP  \\\n",
       "0     0013_01      Earth      True  G/3/S  TRAPPIST-1e  27.0  False   \n",
       "1     0018_01      Earth     False  F/4/S  TRAPPIST-1e  19.0  False   \n",
       "2     0019_01     Europa      True  C/0/S  55 Cancri e  31.0  False   \n",
       "3     0021_01     Europa     False  C/1/S  TRAPPIST-1e  38.0  False   \n",
       "4     0023_01      Earth     False  F/5/S  TRAPPIST-1e  20.0  False   \n",
       "\n",
       "   RoomService  FoodCourt  ShoppingMall     Spa  VRDeck              Name  \n",
       "0          0.0        0.0           0.0     0.0     0.0   Nelly Carsoning  \n",
       "1          0.0        9.0           0.0  2823.0     0.0    Lerome Peckers  \n",
       "2          0.0        0.0           0.0     0.0     0.0   Sabih Unhearfus  \n",
       "3          0.0     6652.0           0.0   181.0   585.0  Meratz Caltilter  \n",
       "4         10.0        0.0         635.0     0.0     0.0   Brence Harperez  "
      ]
     },
     "execution_count": 8,
     "metadata": {},
     "output_type": "execute_result"
    }
   ],
   "source": [
    "test_data.head()"
   ]
  },
  {
   "cell_type": "code",
   "execution_count": 9,
   "id": "4408d044",
   "metadata": {
    "execution": {
     "iopub.execute_input": "2022-09-11T19:39:39.856083Z",
     "iopub.status.busy": "2022-09-11T19:39:39.854968Z",
     "iopub.status.idle": "2022-09-11T19:39:39.876174Z",
     "shell.execute_reply": "2022-09-11T19:39:39.874869Z"
    },
    "papermill": {
     "duration": 0.03051,
     "end_time": "2022-09-11T19:39:39.878996",
     "exception": false,
     "start_time": "2022-09-11T19:39:39.848486",
     "status": "completed"
    },
    "tags": []
   },
   "outputs": [
    {
     "data": {
      "text/html": [
       "<div>\n",
       "<style scoped>\n",
       "    .dataframe tbody tr th:only-of-type {\n",
       "        vertical-align: middle;\n",
       "    }\n",
       "\n",
       "    .dataframe tbody tr th {\n",
       "        vertical-align: top;\n",
       "    }\n",
       "\n",
       "    .dataframe thead th {\n",
       "        text-align: right;\n",
       "    }\n",
       "</style>\n",
       "<table border=\"1\" class=\"dataframe\">\n",
       "  <thead>\n",
       "    <tr style=\"text-align: right;\">\n",
       "      <th></th>\n",
       "      <th>PassengerId</th>\n",
       "      <th>Transported</th>\n",
       "    </tr>\n",
       "  </thead>\n",
       "  <tbody>\n",
       "    <tr>\n",
       "      <th>0</th>\n",
       "      <td>0013_01</td>\n",
       "      <td>False</td>\n",
       "    </tr>\n",
       "    <tr>\n",
       "      <th>1</th>\n",
       "      <td>0018_01</td>\n",
       "      <td>False</td>\n",
       "    </tr>\n",
       "    <tr>\n",
       "      <th>2</th>\n",
       "      <td>0019_01</td>\n",
       "      <td>False</td>\n",
       "    </tr>\n",
       "    <tr>\n",
       "      <th>3</th>\n",
       "      <td>0021_01</td>\n",
       "      <td>False</td>\n",
       "    </tr>\n",
       "    <tr>\n",
       "      <th>4</th>\n",
       "      <td>0023_01</td>\n",
       "      <td>False</td>\n",
       "    </tr>\n",
       "  </tbody>\n",
       "</table>\n",
       "</div>"
      ],
      "text/plain": [
       "  PassengerId  Transported\n",
       "0     0013_01        False\n",
       "1     0018_01        False\n",
       "2     0019_01        False\n",
       "3     0021_01        False\n",
       "4     0023_01        False"
      ]
     },
     "execution_count": 9,
     "metadata": {},
     "output_type": "execute_result"
    }
   ],
   "source": [
    "sample_data = pd.read_csv(\"../input/spaceship-titanic/sample_submission.csv\")\n",
    "sample_data.head()"
   ]
  },
  {
   "cell_type": "code",
   "execution_count": 10,
   "id": "2d6993bf",
   "metadata": {
    "execution": {
     "iopub.execute_input": "2022-09-11T19:39:39.891647Z",
     "iopub.status.busy": "2022-09-11T19:39:39.891021Z",
     "iopub.status.idle": "2022-09-11T19:39:41.689325Z",
     "shell.execute_reply": "2022-09-11T19:39:41.687876Z"
    },
    "papermill": {
     "duration": 1.807511,
     "end_time": "2022-09-11T19:39:41.691899",
     "exception": false,
     "start_time": "2022-09-11T19:39:39.884388",
     "status": "completed"
    },
    "tags": []
   },
   "outputs": [
    {
     "data": {
      "text/plain": [
       "RandomForestRegressor(random_state=1)"
      ]
     },
     "execution_count": 10,
     "metadata": {},
     "output_type": "execute_result"
    }
   ],
   "source": [
    "# Define a random forest model\n",
    "rf_model = RandomForestRegressor(random_state=1)\n",
    "rf_model.fit(X, y)"
   ]
  },
  {
   "cell_type": "code",
   "execution_count": 11,
   "id": "ee4fcfee",
   "metadata": {
    "execution": {
     "iopub.execute_input": "2022-09-11T19:39:41.704768Z",
     "iopub.status.busy": "2022-09-11T19:39:41.704010Z",
     "iopub.status.idle": "2022-09-11T19:39:41.784980Z",
     "shell.execute_reply": "2022-09-11T19:39:41.783719Z"
    },
    "papermill": {
     "duration": 0.090635,
     "end_time": "2022-09-11T19:39:41.787826",
     "exception": false,
     "start_time": "2022-09-11T19:39:41.697191",
     "status": "completed"
    },
    "tags": []
   },
   "outputs": [],
   "source": [
    "#Predicting the output\n",
    "rf_val_predictions = rf_model.predict(test_X)\n",
    "Transportedvalues=[]"
   ]
  },
  {
   "cell_type": "code",
   "execution_count": 12,
   "id": "2621b8d4",
   "metadata": {
    "execution": {
     "iopub.execute_input": "2022-09-11T19:39:41.800862Z",
     "iopub.status.busy": "2022-09-11T19:39:41.800436Z",
     "iopub.status.idle": "2022-09-11T19:39:41.808196Z",
     "shell.execute_reply": "2022-09-11T19:39:41.806722Z"
    },
    "papermill": {
     "duration": 0.017745,
     "end_time": "2022-09-11T19:39:41.810966",
     "exception": false,
     "start_time": "2022-09-11T19:39:41.793221",
     "status": "completed"
    },
    "tags": []
   },
   "outputs": [],
   "source": [
    "for value in rf_val_predictions:\n",
    "    if value>.5:\n",
    "        Transportedvalues.append(True)\n",
    "    else :\n",
    "        Transportedvalues.append(False)"
   ]
  },
  {
   "cell_type": "code",
   "execution_count": 13,
   "id": "39e0ba01",
   "metadata": {
    "execution": {
     "iopub.execute_input": "2022-09-11T19:39:41.823606Z",
     "iopub.status.busy": "2022-09-11T19:39:41.823190Z",
     "iopub.status.idle": "2022-09-11T19:39:41.829538Z",
     "shell.execute_reply": "2022-09-11T19:39:41.828535Z"
    },
    "papermill": {
     "duration": 0.018232,
     "end_time": "2022-09-11T19:39:41.834692",
     "exception": false,
     "start_time": "2022-09-11T19:39:41.816460",
     "status": "completed"
    },
    "tags": []
   },
   "outputs": [
    {
     "name": "stdout",
     "output_type": "stream",
     "text": [
      "[0.85829522 0.         0.78481558 ... 0.79685747 0.5        0.80692865]\n",
      "[True, False, True, True, False, True, True, True, True, True, False, False, True, True, False, False, False, True, True, False, True, False, True, True, False, False, True, True, True, True, True, False, True, True, False, False, True, True, True, False, True, False, True, True, False, True, False, False, True, False, True, True, False, True, True, True, False, True, True, False, True, False, False, True, True, False, True, False, True, False, False, False, False, False, True, True, True, True, True, True, True, True, False, False, False, True, True, False, True, True, False, False, True, False, False, False, True, False, True, False, True, True, True, False, True, False, True, True, False, True, True, False, True, True, False, True, True, False, False, False, False, False, False, False, True, True, False, False, True, False, True, False, True, True, False, True, False, False, False, False, True, True, True, False, True, False, True, True, True, True, True, True, False, False, False, False, True, True, False, False, False, True, True, True, False, False, True, False, True, False, False, True, True, True, True, True, True, True, True, True, False, True, False, False, False, False, True, False, True, True, True, True, False, False, False, False, True, True, True, False, True, False, False, False, False, True, False, True, False, True, True, True, True, True, False, False, False, True, True, True, False, True, True, True, True, True, False, True, True, True, True, True, True, True, False, True, True, True, True, False, False, True, False, True, True, True, False, False, True, False, True, False, False, False, True, True, True, False, True, True, True, True, True, False, True, True, True, False, False, True, True, True, False, True, True, True, False, False, False, True, True, False, False, True, True, True, True, True, True, True, True, False, True, True, True, True, False, False, True, True, True, True, True, False, True, True, True, True, True, False, False, False, True, True, False, True, True, True, True, True, False, True, True, True, False, False, True, True, True, True, False, False, True, True, True, False, True, False, False, True, False, False, False, False, False, True, True, True, True, False, False, True, False, True, True, True, True, False, True, False, True, False, True, False, True, False, True, True, False, True, True, True, True, False, True, True, True, False, True, True, True, False, True, True, True, False, False, True, False, False, False, True, True, False, True, True, False, True, False, False, True, True, True, False, False, True, False, False, True, False, True, True, True, False, True, True, True, False, True, True, True, False, True, False, True, True, False, False, False, False, True, True, True, True, True, False, False, True, True, True, True, False, True, True, False, False, False, False, False, False, False, True, True, True, False, False, False, False, True, False, False, False, True, True, False, False, False, True, False, False, True, False, True, False, True, False, False, False, False, True, False, False, True, True, True, False, False, True, True, True, True, True, True, True, True, False, True, True, True, True, True, True, False, False, True, True, False, True, True, True, True, True, True, True, False, True, False, True, False, True, False, False, True, True, False, False, True, True, False, False, False, True, True, True, True, True, False, False, True, True, True, True, True, False, True, False, True, False, False, True, True, True, True, True, False, True, True, False, True, True, True, False, True, False, False, False, True, False, False, True, False, True, True, False, False, False, False, False, True, False, True, False, False, False, True, True, True, True, False, False, True, True, False, True, True, True, True, True, True, False, False, True, True, True, False, True, False, False, True, True, True, True, True, False, True, False, True, True, False, False, True, False, False, False, True, True, False, True, True, True, True, False, False, True, True, False, False, True, True, True, True, True, False, False, True, False, False, True, True, True, False, True, False, False, True, False, False, True, True, True, False, True, True, True, True, True, True, True, False, False, True, False, False, False, False, True, True, True, True, True, True, True, True, False, True, True, True, False, True, True, True, True, False, False, True, False, False, False, False, False, False, True, False, False, False, False, True, False, False, False, True, True, True, True, True, True, True, False, False, True, False, False, False, True, True, False, True, True, False, False, False, False, False, True, True, True, True, False, True, True, True, False, False, False, False, True, True, True, False, False, False, False, True, True, False, False, False, True, False, False, True, True, True, False, True, True, True, True, True, True, True, True, False, False, True, True, True, True, True, False, True, True, False, False, True, True, True, False, False, True, False, True, False, False, False, False, True, True, True, True, False, True, True, False, True, False, False, True, True, False, False, True, True, False, True, False, True, False, True, False, False, False, True, True, True, True, True, True, True, False, False, False, False, False, False, False, True, False, True, False, False, True, True, True, False, False, True, True, True, True, False, True, True, False, False, True, False, False, True, False, False, True, True, True, True, False, True, False, False, True, False, True, False, True, True, True, False, True, False, False, True, True, False, True, True, True, True, False, True, False, False, False, True, True, True, True, True, True, False, False, True, True, False, False, False, False, True, False, True, True, False, False, True, False, True, True, False, False, False, False, True, False, True, True, True, True, True, True, False, False, True, False, False, False, False, False, False, False, False, True, False, True, False, False, False, False, True, False, False, True, False, True, True, True, True, True, False, True, True, False, True, False, True, True, False, False, False, True, True, True, True, True, True, False, True, False, False, False, True, True, False, True, True, False, True, True, True, True, True, True, False, True, True, False, True, True, False, True, True, True, True, False, True, False, False, False, True, False, True, True, False, False, False, False, True, True, False, False, False, True, True, False, True, True, True, True, True, True, True, False, False, True, True, True, False, False, False, False, True, False, False, True, True, True, False, False, False, False, False, False, True, False, False, True, False, True, True, False, True, False, True, True, True, True, True, True, False, False, False, True, False, False, True, True, False, False, True, False, False, False, False, True, True, True, True, False, True, True, False, True, True, True, False, False, False, True, False, False, True, False, True, True, False, True, True, False, True, False, False, False, True, False, False, False, False, True, True, False, True, False, False, False, True, True, False, True, False, False, True, True, False, True, True, False, False, True, False, True, False, False, True, False, False, False, True, False, True, False, False, False, True, True, True, True, True, True, True, False, True, True, False, True, False, False, False, False, True, True, False, True, False, False, True, True, False, False, True, False, False, False, True, False, False, True, True, False, False, False, False, True, False, False, True, False, True, False, True, True, False, False, False, True, True, True, False, True, True, True, True, False, True, True, True, True, True, True, True, True, True, False, True, True, True, True, True, True, True, True, True, True, False, False, False, False, False, False, True, False, False, False, True, True, False, False, True, True, True, False, True, False, True, False, True, False, False, True, True, False, True, True, False, False, True, False, False, True, True, True, False, True, True, True, True, False, False, False, True, False, True, False, False, True, False, False, True, True, True, False, False, True, True, False, False, False, True, True, False, False, False, False, False, True, True, False, True, True, True, True, True, True, True, False, True, False, False, True, False, True, True, True, True, False, True, False, True, True, True, True, True, False, True, True, False, True, False, True, False, True, True, True, True, False, False, False, False, False, True, False, True, True, True, False, True, True, True, True, True, False, False, False, True, True, False, True, False, True, False, False, True, False, False, False, False, True, False, False, False, True, True, True, False, False, True, True, True, False, False, False, False, False, False, True, True, False, False, False, True, False, False, True, False, False, False, True, False, True, True, True, True, True, True, True, True, False, True, True, True, True, True, True, False, True, True, False, False, False, True, False, False, True, False, True, False, True, True, True, False, False, True, False, True, True, True, True, False, False, True, True, True, True, True, True, True, True, False, False, False, False, True, True, False, True, False, True, False, False, True, False, True, True, False, True, True, True, True, False, False, False, False, True, True, True, False, True, False, True, False, False, True, True, False, True, True, False, False, True, False, True, False, True, True, False, False, True, True, True, False, False, True, False, True, False, False, True, False, True, False, False, True, True, True, False, True, False, True, True, False, True, False, True, True, False, True, False, False, False, True, True, False, False, True, True, True, False, False, True, False, True, True, True, False, True, False, True, False, True, True, False, True, False, False, False, False, True, True, True, True, False, True, True, False, False, False, True, False, False, True, True, True, True, True, True, False, False, True, False, False, False, True, False, False, True, True, False, False, False, True, True, False, True, True, True, False, False, True, False, False, False, False, True, False, True, False, False, False, True, True, False, True, False, False, False, False, False, False, True, True, True, False, True, True, True, False, True, False, False, True, False, False, True, True, False, False, False, False, False, False, True, False, False, False, True, False, False, True, True, False, False, True, True, False, True, False, True, True, True, False, True, True, False, True, True, False, True, True, True, True, False, False, True, True, True, False, False, True, False, True, False, True, False, False, False, True, True, False, True, True, False, False, False, True, False, False, False, True, True, False, True, True, True, True, True, True, True, False, True, True, False, True, True, False, True, False, True, True, True, True, True, True, True, True, True, True, False, True, False, True, False, True, False, False, True, True, True, True, True, True, True, True, True, False, True, True, True, True, True, False, False, False, True, False, True, True, True, False, False, True, True, True, True, False, True, True, True, True, True, False, False, False, True, True, True, False, False, True, False, False, False, True, False, False, False, True, False, False, False, True, True, True, False, False, False, False, True, False, True, True, True, False, False, True, True, False, False, True, True, True, True, True, False, False, True, False, True, False, False, True, False, False, True, True, False, False, True, False, False, True, True, True, False, False, True, True, True, False, False, False, False, False, True, True, True, True, True, False, False, False, True, True, True, False, False, True, False, False, False, False, False, True, True, True, False, True, False, False, False, True, True, True, True, False, True, True, False, True, True, True, True, True, True, True, True, True, False, False, False, True, False, False, False, True, True, False, False, True, False, False, True, False, True, True, True, True, True, False, False, True, False, True, False, False, True, False, False, False, True, False, True, True, True, False, False, False, True, True, False, True, False, False, True, True, True, False, False, True, False, True, False, True, False, False, True, False, False, True, False, False, True, False, True, False, False, False, False, True, False, True, True, True, False, False, False, True, True, True, True, True, True, True, True, False, False, True, False, False, True, False, True, False, False, True, False, False, True, True, False, False, False, True, True, False, False, True, True, False, True, True, True, True, True, False, False, True, True, False, True, True, True, True, True, False, True, True, False, True, True, False, True, False, False, True, False, False, False, False, False, True, True, False, False, False, False, False, True, True, False, False, False, False, False, True, False, True, True, False, True, True, True, False, True, True, False, True, False, False, True, True, True, True, False, False, True, False, False, False, False, False, True, False, True, False, False, True, False, True, True, False, True, True, True, False, True, False, True, False, True, False, False, True, True, True, True, True, False, False, False, False, True, True, True, True, True, True, False, True, True, True, True, False, False, False, False, False, True, True, True, False, True, False, False, False, True, True, False, False, False, True, True, True, False, False, True, False, True, True, False, True, True, True, False, True, True, False, False, False, False, True, True, True, True, False, False, False, True, True, True, False, True, True, True, True, False, True, True, False, False, False, True, True, False, True, False, True, False, False, False, True, False, False, True, False, True, False, True, True, False, False, False, False, True, True, False, True, True, True, True, True, False, True, True, True, True, False, False, True, False, False, False, False, True, False, True, True, False, True, True, False, True, False, True, True, True, True, False, False, True, False, False, False, False, False, True, True, True, True, True, False, True, False, False, False, False, False, False, False, True, True, False, True, False, False, True, False, True, False, False, True, False, True, False, False, False, False, True, False, True, False, True, True, False, False, True, True, False, True, False, True, True, True, True, False, False, True, False, True, True, False, False, True, True, False, True, True, True, False, True, False, True, True, False, False, False, False, False, True, False, True, False, True, True, True, True, True, True, False, False, False, True, True, True, True, True, True, False, False, True, True, False, True, False, False, True, False, False, False, False, True, True, False, True, True, False, False, True, False, True, False, True, True, False, False, False, True, False, False, False, True, False, False, False, True, True, True, False, True, False, True, True, False, False, False, False, True, True, False, False, False, True, True, False, False, True, True, True, False, True, False, False, False, False, True, False, True, True, False, False, False, True, True, True, True, False, True, True, False, True, False, False, False, False, False, True, False, True, True, True, False, True, True, False, True, True, True, False, False, True, True, False, True, True, True, False, True, True, True, True, True, False, True, True, False, False, True, True, False, True, True, True, True, False, False, True, True, False, False, True, True, True, False, True, True, False, True, True, True, False, True, True, True, False, False, True, False, True, False, False, True, False, False, False, True, False, True, False, True, True, False, False, False, False, False, False, False, False, False, True, False, True, False, False, True, True, True, True, True, True, False, False, False, True, True, True, False, True, False, False, False, True, False, False, False, False, True, True, True, True, False, True, False, True, True, False, False, False, True, False, True, True, True, True, True, True, True, False, False, True, True, False, True, True, False, True, True, False, False, True, True, False, True, False, False, True, True, True, False, True, False, False, True, True, True, False, False, False, False, False, True, True, True, False, False, False, True, True, True, True, False, False, True, True, True, False, False, True, True, True, False, False, True, True, True, True, False, False, True, True, False, False, False, True, False, False, False, False, True, False, False, True, True, False, True, False, False, True, True, True, False, True, True, True, True, True, True, False, True, False, False, False, False, False, False, True, False, False, True, True, True, True, True, True, False, True, False, False, False, False, False, True, True, False, True, False, True, True, False, False, False, True, False, True, False, True, False, False, True, False, False, True, True, True, True, True, True, True, False, True, False, True, True, False, True, False, True, False, True, True, False, False, False, True, True, True, True, True, True, True, False, False, True, False, True, True, True, True, True, True, True, False, True, False, False, False, True, False, True, False, True, False, True, False, True, False, False, False, False, True, False, True, False, True, True, True, True, True, True, False, True, True, False, True, True, True, True, False, False, True, False, False, True, True, True, False, False, False, True, True, False, True, True, False, False, True, True, False, False, True, True, True, True, False, False, False, True, True, True, True, True, False, True, False, True, True, False, True, False, True, False, True, True, True, True, True, False, True, False, True, True, False, False, False, True, True, True, True, False, True, False, True, True, False, True, True, False, False, False, True, True, False, True, True, True, True, True, False, False, True, False, True, False, True, True, True, False, False, False, False, True, False, True, True, False, True, True, False, True, False, True, False, False, True, True, False, False, False, True, True, True, False, False, True, False, False, False, False, True, False, False, True, True, True, True, True, True, True, False, True, True, False, True, False, False, True, True, False, True, True, False, False, True, True, True, True, True, True, False, False, False, False, True, False, False, False, True, False, True, False, False, False, True, False, False, True, True, False, False, True, False, False, True, True, True, False, True, False, False, True, False, True, True, True, True, False, False, True, True, False, True, True, True, True, True, False, False, False, True, True, True, True, True, False, False, False, True, True, False, True, False, False, False, False, False, False, True, False, True, True, True, True, True, True, True, True, False, False, True, True, False, False, True, True, True, True, False, True, True, True, False, False, True, False, True, True, True, True, True, False, False, True, True, True, True, True, True, True, False, True, True, False, True, True, False, True, False, True, True, True, True, False, True, False, True, False, True, False, True, False, False, False, False, True, False, True, True, False, True, True, False, True, False, True, False, True, False, False, False, False, True, False, True, True, False, False, False, False, True, False, True, False, False, False, False, True, False, False, False, True, True, True, True, False, True, False, True, True, True, True, False, True, True, True, False, False, False, False, True, True, False, True, False, False, False, False, True, True, True, True, True, True, False, False, True, False, False, False, True, False, False, False, True, False, False, False, False, False, False, True, True, True, False, True, True, True, True, False, True, False, True, True, False, True, False, False, False, False, True, True, True, True, True, True, True, True, True, False, True, True, False, False, False, True, True, True, True, True, True, True, False, False, False, False, True, True, False, False, True, False, False, False, True, False, True, False, True, True, True, False, True, True, True, False, True, False, False, False, True, False, True, False, False, True, True, False, False, False, True, True, True, False, False, False, True, False, True, True, True, False, True, False, True, True, True, True, False, False, False, True, False, True, True, False, True, True, True, False, True, True, False, True, True, True, True, False, False, True, True, False, True, True, False, True, True, True, False, False, False, False, False, True, False, True, False, False, False, True, True, False, False, True, False, False, False, True, True, True, True, True, True, False, False, True, True, False, True, True, False, True, True, True, False, True, True, True, False, True, True, True, False, True, True, True, False, True, True, False, False, False, False, False, False, True, True, False, True, True, True, False, True, False, True, False, True, True, False, False, False, True, True, False, True, True, False, False, True, True, True, False, False, True, True, False, True, False, False, True, True, False, False, True, True, True, False, True, False, False, True, False, True, True, True, False, True, True, True, False, True, True, False, True, True, True, True, False, False, True, True, True, False, True, True, False, False, True, True, True, False, False, False, False, False, True, True, False, True, False, True, True, True, True, False, False, True, False, True, True, False, False, False, False, False, False, False, False, True, True, True, False, False, True, True, False, True, False, True, False, True, True, True, True, True, True, False, True, True, True, False, True, True, False, False, False, True, True, True, True, False, True, True, True, True, True, False, True, True, False, True, True, False, True, False, True, True, False, True, False, False, False, False, False, False, False, False, True, True, True, False, True, True, True, True, True, True, True, True, True, False, True, False, True, False, True, False, True, True, False, True, False, False, False, False, True, True, False, False, True, True, False, True, False, True, False, True, True, True, True, True, True, False, True, True, False, True, False, True, True, False, True, False, False, False, False, True, True, True, False, False, True, True, True, False, True, True, False, False, False, True, False, True, True, True, False, False, True, False, True, False, True, True, True, False, True, True, False, True, True, True, False, True, False, False, True, False, False, True, False, False, True, True, True, False, True, False, True, False, True, False, True, True, False, True, False, False, True, True, False, True, False, True, False, False, False, True, False, True, False, True, True, True, True, True, True, False, False, False, False, False, False, True, False, True, False, True, True, True, False, True, True, True, True, True, False, False, False, True, True, True, True, False, False, True, False, True, False, False, True, False, True, False, True, True, True, False, True, True, False, True, False, True, False, False, False, False, False, True, True, True, True, True, True, True, True, False, False, False, True, True, True, False, True, False, False, True, True, True, False, True, True, False, True, True, True, True, False, True, False, False, False, True, True, True, True, False, False, True, True, True, True, True, False, False, True, True, True, True, False, True, True, True, False, False, False, True, True, True, True, False, True, True, False, True, True, False, True, True, False, True, False, False, False, True, False, False, False, False, False, True, True, False, True, True, True, False, True, True, False, False, False, True, True, True, True, True, True, False, True, False, False, False, False, False, True, False, True, True, True, True, False, True, True, False, True, False, False, True, True, True, True, True, False, False, False, True, True, False, False, False, False, False, True, False, True, False, False, False, False, False, True, True, True, False, False, False, False, True, True, True, True, True, True, False, True, True, False, True, True, True, True, False, False, False, True, False, True, True, True, False, True, True, True, False, True, False, False, True, True, True, False, True, True, False, False, True, False, True, True, True, False, True, True, True, False, True, False, True, True, False, False, False, True, True, False, True, False, True, True, True, False, False, False, False, True, True, False, True, False, True, False, False, False, True, True, True, False, True, True, True, False, True, True, False, True, False, True, True, True, True, False, False, True, True, True, False, False, False, True, False, True, False, False, False, True, True, True, True, False, False, False, True, True, False, False, False, False, True, True, True, True, False, True, True, True, True, False, True, False, True, False, True, True, False, False, False, True, True, True, True, True, False, True, False, False, False, False, True, True, True, True, True, False, True, True, True, False, True, False, True, True, False, True, True, False, True, True, True, True, False, True, False, False, False, False, True, True, False, False, True, True, False, False, True, True, False, False, False, False, True, True, False, False, False, False, False, True, False, False, False, True, False, False, False, True, True, False, True, False, True, True, False, False, False, False, True, True, False, True, False, True, True, True, True, True, True, True, True, True, False, False, False, True, True, False, False, True, False, False, False, True, True, False, True, False, True, True, False, True, False, True, True, False, True, True, True, True, False, True, False, True, True, True, False, True, True, False, False, True, True, True, True, False, False, True, True, True, True, True, True, True, True, True, False, True, False, False, False, False, True, False, False, True, False, False, False, False, True, False, True, True, False, True, False, True, False, False, True, False, False, False, True, False, False, True, True, False, True, True, False, True, False, False, False, True, False, False, False, True, False, True, False, True, True, False, True, False, True, True, False, False, False, False, True, True, False, True, True, True, False, False, False, False, True, True, True, False, True, False, True, False, True, True, True, False, False, True, False, True, False, False, False, True, True, False, True, True, True, True, False, True, True, True, False, False, False, False, False, False, False, True, True, False, True, False, False, True, True, True, False, False, True, True, True, True, False, False, False, True, False, False, False, True, False, False, True, False, False, False, True, False, True, False, True, True, False, False, False, True, True, True, True, False, True, True, False, False, True, False, True, True, True, True, False, True, True, True, True, False, True, False, True]\n"
     ]
    }
   ],
   "source": [
    "print(rf_val_predictions)\n",
    "print(Transportedvalues)"
   ]
  },
  {
   "cell_type": "code",
   "execution_count": 14,
   "id": "1bd408a6",
   "metadata": {
    "execution": {
     "iopub.execute_input": "2022-09-11T19:39:41.849316Z",
     "iopub.status.busy": "2022-09-11T19:39:41.848865Z",
     "iopub.status.idle": "2022-09-11T19:39:41.863910Z",
     "shell.execute_reply": "2022-09-11T19:39:41.862412Z"
    },
    "papermill": {
     "duration": 0.025363,
     "end_time": "2022-09-11T19:39:41.866890",
     "exception": false,
     "start_time": "2022-09-11T19:39:41.841527",
     "status": "completed"
    },
    "tags": []
   },
   "outputs": [
    {
     "name": "stdout",
     "output_type": "stream",
     "text": [
      "Your submission was successfully completed!\n"
     ]
    }
   ],
   "source": [
    "#Printing the output\n",
    "output = pd.DataFrame({'PassengerId': test_data.PassengerId , 'Transported': Transportedvalues})\n",
    "output.to_csv('submission.csv', index=False)\n",
    "print(\"Your submission was successfully completed!\")"
   ]
  }
 ],
 "metadata": {
  "kernelspec": {
   "display_name": "Python 3",
   "language": "python",
   "name": "python3"
  },
  "language_info": {
   "codemirror_mode": {
    "name": "ipython",
    "version": 3
   },
   "file_extension": ".py",
   "mimetype": "text/x-python",
   "name": "python",
   "nbconvert_exporter": "python",
   "pygments_lexer": "ipython3",
   "version": "3.7.12"
  },
  "papermill": {
   "default_parameters": {},
   "duration": 13.771075,
   "end_time": "2022-09-11T19:39:42.695803",
   "environment_variables": {},
   "exception": null,
   "input_path": "__notebook__.ipynb",
   "output_path": "__notebook__.ipynb",
   "parameters": {},
   "start_time": "2022-09-11T19:39:28.924728",
   "version": "2.3.4"
  }
 },
 "nbformat": 4,
 "nbformat_minor": 5
}
