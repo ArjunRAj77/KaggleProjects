{
 "cells": [
  {
   "cell_type": "markdown",
   "id": "2bd805a9",
   "metadata": {
    "papermill": {
     "duration": 0.006588,
     "end_time": "2022-09-12T08:28:47.915778",
     "exception": false,
     "start_time": "2022-09-12T08:28:47.909190",
     "status": "completed"
    },
    "tags": []
   },
   "source": [
    "# Project Name : Spaceship Titanic\n",
    "\n",
    "The **Spaceship Titanic** was an interstellar passenger liner launched a month ago. With almost 13,000 passengers on board, the vessel set out on its maiden voyage transporting emigrants from our solar system to three newly habitable exoplanets orbiting nearby stars.\n",
    "\n",
    "<p>\n",
    "    While rounding Alpha Centauri en route to its first destination—the torrid 55 Cancri E—the unwary Spaceship Titanic collided with a spacetime anomaly hidden within a dust cloud. Sadly, it met a similar fate as its namesake from 1000 years before. Though the ship stayed intact, almost half of the passengers were transported to an alternate dimension!\n",
    "    </p>\n",
    "\n",
    "## Problem Statement\n",
    "Predict which passengers were transported by the anomaly using records recovered from the spaceship’s damaged computer system."
   ]
  },
  {
   "cell_type": "markdown",
   "id": "1ad2bf2d",
   "metadata": {
    "papermill": {
     "duration": 0.004985,
     "end_time": "2022-09-12T08:28:47.926213",
     "exception": false,
     "start_time": "2022-09-12T08:28:47.921228",
     "status": "completed"
    },
    "tags": []
   },
   "source": [
    "## Steps\n",
    "\n",
    "1. Firstly,  we will be importing the essential python libraries. "
   ]
  },
  {
   "cell_type": "code",
   "execution_count": 1,
   "id": "f16b5716",
   "metadata": {
    "execution": {
     "iopub.execute_input": "2022-09-12T08:28:47.940251Z",
     "iopub.status.busy": "2022-09-12T08:28:47.939209Z",
     "iopub.status.idle": "2022-09-12T08:28:49.461560Z",
     "shell.execute_reply": "2022-09-12T08:28:49.460696Z"
    },
    "papermill": {
     "duration": 1.532716,
     "end_time": "2022-09-12T08:28:49.464241",
     "exception": false,
     "start_time": "2022-09-12T08:28:47.931525",
     "status": "completed"
    },
    "tags": []
   },
   "outputs": [],
   "source": [
    "# Import helpful libraries\n",
    "import pandas as pd\n",
    "from sklearn.ensemble import RandomForestRegressor\n",
    "from sklearn.metrics import mean_absolute_error\n",
    "from sklearn.model_selection import train_test_split\n",
    "import matplotlib.pyplot as plt\n",
    "import seaborn as sns"
   ]
  },
  {
   "cell_type": "markdown",
   "id": "2cabbdaa",
   "metadata": {
    "papermill": {
     "duration": 0.005164,
     "end_time": "2022-09-12T08:28:49.474887",
     "exception": false,
     "start_time": "2022-09-12T08:28:49.469723",
     "status": "completed"
    },
    "tags": []
   },
   "source": [
    "2. Next, we will read the contents of training data provided and load it into python. And seperate the target. <br/>\n",
    "   Here, the outcome we require is the list of passengers who were transported by Anomaly. <br/>\n",
    "\n",
    "  "
   ]
  },
  {
   "cell_type": "code",
   "execution_count": 2,
   "id": "0a775d78",
   "metadata": {
    "execution": {
     "iopub.execute_input": "2022-09-12T08:28:49.487420Z",
     "iopub.status.busy": "2022-09-12T08:28:49.486995Z",
     "iopub.status.idle": "2022-09-12T08:28:49.559516Z",
     "shell.execute_reply": "2022-09-12T08:28:49.558725Z"
    },
    "papermill": {
     "duration": 0.082147,
     "end_time": "2022-09-12T08:28:49.562345",
     "exception": false,
     "start_time": "2022-09-12T08:28:49.480198",
     "status": "completed"
    },
    "tags": []
   },
   "outputs": [
    {
     "name": "stdout",
     "output_type": "stream",
     "text": [
      "     PassengerId HomePlanet CryoSleep     Cabin    Destination   Age    VIP  \\\n",
      "0        0001_01     Europa     False     B/0/P    TRAPPIST-1e  39.0  False   \n",
      "1        0002_01      Earth     False     F/0/S    TRAPPIST-1e  24.0  False   \n",
      "2        0003_01     Europa     False     A/0/S    TRAPPIST-1e  58.0   True   \n",
      "3        0003_02     Europa     False     A/0/S    TRAPPIST-1e  33.0  False   \n",
      "4        0004_01      Earth     False     F/1/S    TRAPPIST-1e  16.0  False   \n",
      "...          ...        ...       ...       ...            ...   ...    ...   \n",
      "8688     9276_01     Europa     False    A/98/P    55 Cancri e  41.0   True   \n",
      "8689     9278_01      Earth      True  G/1499/S  PSO J318.5-22  18.0  False   \n",
      "8690     9279_01      Earth     False  G/1500/S    TRAPPIST-1e  26.0  False   \n",
      "8691     9280_01     Europa     False   E/608/S    55 Cancri e  32.0  False   \n",
      "8692     9280_02     Europa     False   E/608/S    TRAPPIST-1e  44.0  False   \n",
      "\n",
      "      RoomService  FoodCourt  ShoppingMall     Spa  VRDeck               Name  \\\n",
      "0             0.0        0.0           0.0     0.0     0.0    Maham Ofracculy   \n",
      "1           109.0        9.0          25.0   549.0    44.0       Juanna Vines   \n",
      "2            43.0     3576.0           0.0  6715.0    49.0      Altark Susent   \n",
      "3             0.0     1283.0         371.0  3329.0   193.0       Solam Susent   \n",
      "4           303.0       70.0         151.0   565.0     2.0  Willy Santantines   \n",
      "...           ...        ...           ...     ...     ...                ...   \n",
      "8688          0.0     6819.0           0.0  1643.0    74.0  Gravior Noxnuther   \n",
      "8689          0.0        0.0           0.0     0.0     0.0    Kurta Mondalley   \n",
      "8690          0.0        0.0        1872.0     1.0     0.0       Fayey Connon   \n",
      "8691          0.0     1049.0           0.0   353.0  3235.0   Celeon Hontichre   \n",
      "8692        126.0     4688.0           0.0     0.0    12.0   Propsh Hontichre   \n",
      "\n",
      "      Transported  \n",
      "0           False  \n",
      "1            True  \n",
      "2           False  \n",
      "3           False  \n",
      "4            True  \n",
      "...           ...  \n",
      "8688        False  \n",
      "8689        False  \n",
      "8690         True  \n",
      "8691        False  \n",
      "8692         True  \n",
      "\n",
      "[8693 rows x 14 columns]\n"
     ]
    }
   ],
   "source": [
    "# Load the data, and separate the target\n",
    "space_file_path = '../input/spaceship-titanic/train.csv'\n",
    "space_data = pd.read_csv(space_file_path)\n",
    "print(space_data)\n",
    "y = space_data.Transported\n"
   ]
  },
  {
   "cell_type": "markdown",
   "id": "f25c35a0",
   "metadata": {
    "papermill": {
     "duration": 0.005157,
     "end_time": "2022-09-12T08:28:49.573235",
     "exception": false,
     "start_time": "2022-09-12T08:28:49.568078",
     "status": "completed"
    },
    "tags": []
   },
   "source": [
    "Before going further, let's look at the expected output of the prediction\n",
    "<br/>Hence, the final result should be a table containing **PassengerId** and **Transported** columns"
   ]
  },
  {
   "cell_type": "code",
   "execution_count": 3,
   "id": "7aea2634",
   "metadata": {
    "execution": {
     "iopub.execute_input": "2022-09-12T08:28:49.585925Z",
     "iopub.status.busy": "2022-09-12T08:28:49.585238Z",
     "iopub.status.idle": "2022-09-12T08:28:49.608550Z",
     "shell.execute_reply": "2022-09-12T08:28:49.607389Z"
    },
    "papermill": {
     "duration": 0.032305,
     "end_time": "2022-09-12T08:28:49.610862",
     "exception": false,
     "start_time": "2022-09-12T08:28:49.578557",
     "status": "completed"
    },
    "tags": []
   },
   "outputs": [
    {
     "data": {
      "text/html": [
       "<div>\n",
       "<style scoped>\n",
       "    .dataframe tbody tr th:only-of-type {\n",
       "        vertical-align: middle;\n",
       "    }\n",
       "\n",
       "    .dataframe tbody tr th {\n",
       "        vertical-align: top;\n",
       "    }\n",
       "\n",
       "    .dataframe thead th {\n",
       "        text-align: right;\n",
       "    }\n",
       "</style>\n",
       "<table border=\"1\" class=\"dataframe\">\n",
       "  <thead>\n",
       "    <tr style=\"text-align: right;\">\n",
       "      <th></th>\n",
       "      <th>PassengerId</th>\n",
       "      <th>Transported</th>\n",
       "    </tr>\n",
       "  </thead>\n",
       "  <tbody>\n",
       "    <tr>\n",
       "      <th>0</th>\n",
       "      <td>0013_01</td>\n",
       "      <td>False</td>\n",
       "    </tr>\n",
       "    <tr>\n",
       "      <th>1</th>\n",
       "      <td>0018_01</td>\n",
       "      <td>False</td>\n",
       "    </tr>\n",
       "    <tr>\n",
       "      <th>2</th>\n",
       "      <td>0019_01</td>\n",
       "      <td>False</td>\n",
       "    </tr>\n",
       "    <tr>\n",
       "      <th>3</th>\n",
       "      <td>0021_01</td>\n",
       "      <td>False</td>\n",
       "    </tr>\n",
       "    <tr>\n",
       "      <th>4</th>\n",
       "      <td>0023_01</td>\n",
       "      <td>False</td>\n",
       "    </tr>\n",
       "  </tbody>\n",
       "</table>\n",
       "</div>"
      ],
      "text/plain": [
       "  PassengerId  Transported\n",
       "0     0013_01        False\n",
       "1     0018_01        False\n",
       "2     0019_01        False\n",
       "3     0021_01        False\n",
       "4     0023_01        False"
      ]
     },
     "execution_count": 3,
     "metadata": {},
     "output_type": "execute_result"
    }
   ],
   "source": [
    "sample_data = pd.read_csv(\"../input/spaceship-titanic/sample_submission.csv\")\n",
    "sample_data.head()"
   ]
  },
  {
   "cell_type": "markdown",
   "id": "edf08c1a",
   "metadata": {
    "papermill": {
     "duration": 0.005369,
     "end_time": "2022-09-12T08:28:49.622049",
     "exception": false,
     "start_time": "2022-09-12T08:28:49.616680",
     "status": "completed"
    },
    "tags": []
   },
   "source": [
    "3. Creating X with the features that needs to taken consideration for the machine learning model."
   ]
  },
  {
   "cell_type": "code",
   "execution_count": 4,
   "id": "234f2570",
   "metadata": {
    "execution": {
     "iopub.execute_input": "2022-09-12T08:28:49.634960Z",
     "iopub.status.busy": "2022-09-12T08:28:49.634567Z",
     "iopub.status.idle": "2022-09-12T08:28:49.639486Z",
     "shell.execute_reply": "2022-09-12T08:28:49.638389Z"
    },
    "papermill": {
     "duration": 0.013814,
     "end_time": "2022-09-12T08:28:49.641611",
     "exception": false,
     "start_time": "2022-09-12T08:28:49.627797",
     "status": "completed"
    },
    "tags": []
   },
   "outputs": [],
   "source": [
    "# Selecting features for X\n",
    "features = ['Age','Spa','ShoppingMall','FoodCourt','RoomService','VRDeck']\n"
   ]
  },
  {
   "cell_type": "code",
   "execution_count": 5,
   "id": "d8cac64c",
   "metadata": {
    "execution": {
     "iopub.execute_input": "2022-09-12T08:28:49.654501Z",
     "iopub.status.busy": "2022-09-12T08:28:49.653868Z",
     "iopub.status.idle": "2022-09-12T08:28:51.178805Z",
     "shell.execute_reply": "2022-09-12T08:28:51.177997Z"
    },
    "papermill": {
     "duration": 1.533634,
     "end_time": "2022-09-12T08:28:51.180887",
     "exception": false,
     "start_time": "2022-09-12T08:28:49.647253",
     "status": "completed"
    },
    "tags": []
   },
   "outputs": [
    {
     "data": {
      "image/png": "[encoded data removed]",
      "text/plain": [
       "<Figure size 2160x360 with 6 Axes>"
      ]
     },
     "metadata": {
      "needs_background": "light"
     },
     "output_type": "display_data"
    }
   ],
   "source": [
    " sns.relplot(\n",
    "    x=\"value\", y=\"Transported\", col=\"variable\", data=space_data.melt(id_vars=\"Transported\", value_vars=features), facet_kws=dict(sharex=False),\n",
    ");"
   ]
  },
  {
   "cell_type": "markdown",
   "id": "f3b25329",
   "metadata": {
    "papermill": {
     "duration": 0.006127,
     "end_time": "2022-09-12T08:28:51.193558",
     "exception": false,
     "start_time": "2022-09-12T08:28:51.187431",
     "status": "completed"
    },
    "tags": []
   },
   "source": [
    "4. Once the features are identified, we will be creating X based on the features. And fill any empty data cells in the input data."
   ]
  },
  {
   "cell_type": "code",
   "execution_count": 6,
   "id": "40d75fb9",
   "metadata": {
    "execution": {
     "iopub.execute_input": "2022-09-12T08:28:51.208373Z",
     "iopub.status.busy": "2022-09-12T08:28:51.207459Z",
     "iopub.status.idle": "2022-09-12T08:28:51.213549Z",
     "shell.execute_reply": "2022-09-12T08:28:51.212571Z"
    },
    "papermill": {
     "duration": 0.015686,
     "end_time": "2022-09-12T08:28:51.215630",
     "exception": false,
     "start_time": "2022-09-12T08:28:51.199944",
     "status": "completed"
    },
    "tags": []
   },
   "outputs": [],
   "source": [
    "# Creating X based on features\n",
    "X = space_data[features]\n",
    "X=X.fillna(0)"
   ]
  },
  {
   "cell_type": "markdown",
   "id": "978544d0",
   "metadata": {
    "papermill": {
     "duration": 0.005981,
     "end_time": "2022-09-12T08:28:51.227922",
     "exception": false,
     "start_time": "2022-09-12T08:28:51.221941",
     "status": "completed"
    },
    "tags": []
   },
   "source": [
    "5. Next, we will load the testing data "
   ]
  },
  {
   "cell_type": "code",
   "execution_count": 7,
   "id": "fe1c9564",
   "metadata": {
    "execution": {
     "iopub.execute_input": "2022-09-12T08:28:51.243256Z",
     "iopub.status.busy": "2022-09-12T08:28:51.242625Z",
     "iopub.status.idle": "2022-09-12T08:28:51.288895Z",
     "shell.execute_reply": "2022-09-12T08:28:51.287672Z"
    },
    "papermill": {
     "duration": 0.057301,
     "end_time": "2022-09-12T08:28:51.291435",
     "exception": false,
     "start_time": "2022-09-12T08:28:51.234134",
     "status": "completed"
    },
    "tags": []
   },
   "outputs": [
    {
     "data": {
      "text/html": [
       "<div>\n",
       "<style scoped>\n",
       "    .dataframe tbody tr th:only-of-type {\n",
       "        vertical-align: middle;\n",
       "    }\n",
       "\n",
       "    .dataframe tbody tr th {\n",
       "        vertical-align: top;\n",
       "    }\n",
       "\n",
       "    .dataframe thead th {\n",
       "        text-align: right;\n",
       "    }\n",
       "</style>\n",
       "<table border=\"1\" class=\"dataframe\">\n",
       "  <thead>\n",
       "    <tr style=\"text-align: right;\">\n",
       "      <th></th>\n",
       "      <th>Age</th>\n",
       "      <th>Spa</th>\n",
       "      <th>ShoppingMall</th>\n",
       "      <th>FoodCourt</th>\n",
       "      <th>RoomService</th>\n",
       "      <th>VRDeck</th>\n",
       "    </tr>\n",
       "  </thead>\n",
       "  <tbody>\n",
       "    <tr>\n",
       "      <th>0</th>\n",
       "      <td>27.0</td>\n",
       "      <td>0.0</td>\n",
       "      <td>0.0</td>\n",
       "      <td>0.0</td>\n",
       "      <td>0.0</td>\n",
       "      <td>0.0</td>\n",
       "    </tr>\n",
       "    <tr>\n",
       "      <th>1</th>\n",
       "      <td>19.0</td>\n",
       "      <td>2823.0</td>\n",
       "      <td>0.0</td>\n",
       "      <td>9.0</td>\n",
       "      <td>0.0</td>\n",
       "      <td>0.0</td>\n",
       "    </tr>\n",
       "    <tr>\n",
       "      <th>2</th>\n",
       "      <td>31.0</td>\n",
       "      <td>0.0</td>\n",
       "      <td>0.0</td>\n",
       "      <td>0.0</td>\n",
       "      <td>0.0</td>\n",
       "      <td>0.0</td>\n",
       "    </tr>\n",
       "    <tr>\n",
       "      <th>3</th>\n",
       "      <td>38.0</td>\n",
       "      <td>181.0</td>\n",
       "      <td>0.0</td>\n",
       "      <td>6652.0</td>\n",
       "      <td>0.0</td>\n",
       "      <td>585.0</td>\n",
       "    </tr>\n",
       "    <tr>\n",
       "      <th>4</th>\n",
       "      <td>20.0</td>\n",
       "      <td>0.0</td>\n",
       "      <td>635.0</td>\n",
       "      <td>0.0</td>\n",
       "      <td>10.0</td>\n",
       "      <td>0.0</td>\n",
       "    </tr>\n",
       "  </tbody>\n",
       "</table>\n",
       "</div>"
      ],
      "text/plain": [
       "    Age     Spa  ShoppingMall  FoodCourt  RoomService  VRDeck\n",
       "0  27.0     0.0           0.0        0.0          0.0     0.0\n",
       "1  19.0  2823.0           0.0        9.0          0.0     0.0\n",
       "2  31.0     0.0           0.0        0.0          0.0     0.0\n",
       "3  38.0   181.0           0.0     6652.0          0.0   585.0\n",
       "4  20.0     0.0         635.0        0.0         10.0     0.0"
      ]
     },
     "execution_count": 7,
     "metadata": {},
     "output_type": "execute_result"
    }
   ],
   "source": [
    "#Loading the test data\n",
    "test_data = pd.read_csv(\"../input/spaceship-titanic/test.csv\")\n",
    "test_data.head()\n",
    "test_X = test_data[features]\n",
    "test_X=test_X.fillna(0)\n",
    "test_X.head()\n"
   ]
  },
  {
   "cell_type": "code",
   "execution_count": 8,
   "id": "881f417d",
   "metadata": {
    "execution": {
     "iopub.execute_input": "2022-09-12T08:28:51.306712Z",
     "iopub.status.busy": "2022-09-12T08:28:51.306279Z",
     "iopub.status.idle": "2022-09-12T08:28:51.328258Z",
     "shell.execute_reply": "2022-09-12T08:28:51.327163Z"
    },
    "papermill": {
     "duration": 0.032997,
     "end_time": "2022-09-12T08:28:51.331126",
     "exception": false,
     "start_time": "2022-09-12T08:28:51.298129",
     "status": "completed"
    },
    "tags": []
   },
   "outputs": [
    {
     "data": {
      "text/html": [
       "<div>\n",
       "<style scoped>\n",
       "    .dataframe tbody tr th:only-of-type {\n",
       "        vertical-align: middle;\n",
       "    }\n",
       "\n",
       "    .dataframe tbody tr th {\n",
       "        vertical-align: top;\n",
       "    }\n",
       "\n",
       "    .dataframe thead th {\n",
       "        text-align: right;\n",
       "    }\n",
       "</style>\n",
       "<table border=\"1\" class=\"dataframe\">\n",
       "  <thead>\n",
       "    <tr style=\"text-align: right;\">\n",
       "      <th></th>\n",
       "      <th>PassengerId</th>\n",
       "      <th>HomePlanet</th>\n",
       "      <th>CryoSleep</th>\n",
       "      <th>Cabin</th>\n",
       "      <th>Destination</th>\n",
       "      <th>Age</th>\n",
       "      <th>VIP</th>\n",
       "      <th>RoomService</th>\n",
       "      <th>FoodCourt</th>\n",
       "      <th>ShoppingMall</th>\n",
       "      <th>Spa</th>\n",
       "      <th>VRDeck</th>\n",
       "      <th>Name</th>\n",
       "    </tr>\n",
       "  </thead>\n",
       "  <tbody>\n",
       "    <tr>\n",
       "      <th>0</th>\n",
       "      <td>0013_01</td>\n",
       "      <td>Earth</td>\n",
       "      <td>True</td>\n",
       "      <td>G/3/S</td>\n",
       "      <td>TRAPPIST-1e</td>\n",
       "      <td>27.0</td>\n",
       "      <td>False</td>\n",
       "      <td>0.0</td>\n",
       "      <td>0.0</td>\n",
       "      <td>0.0</td>\n",
       "      <td>0.0</td>\n",
       "      <td>0.0</td>\n",
       "      <td>Nelly Carsoning</td>\n",
       "    </tr>\n",
       "    <tr>\n",
       "      <th>1</th>\n",
       "      <td>0018_01</td>\n",
       "      <td>Earth</td>\n",
       "      <td>False</td>\n",
       "      <td>F/4/S</td>\n",
       "      <td>TRAPPIST-1e</td>\n",
       "      <td>19.0</td>\n",
       "      <td>False</td>\n",
       "      <td>0.0</td>\n",
       "      <td>9.0</td>\n",
       "      <td>0.0</td>\n",
       "      <td>2823.0</td>\n",
       "      <td>0.0</td>\n",
       "      <td>Lerome Peckers</td>\n",
       "    </tr>\n",
       "    <tr>\n",
       "      <th>2</th>\n",
       "      <td>0019_01</td>\n",
       "      <td>Europa</td>\n",
       "      <td>True</td>\n",
       "      <td>C/0/S</td>\n",
       "      <td>55 Cancri e</td>\n",
       "      <td>31.0</td>\n",
       "      <td>False</td>\n",
       "      <td>0.0</td>\n",
       "      <td>0.0</td>\n",
       "      <td>0.0</td>\n",
       "      <td>0.0</td>\n",
       "      <td>0.0</td>\n",
       "      <td>Sabih Unhearfus</td>\n",
       "    </tr>\n",
       "    <tr>\n",
       "      <th>3</th>\n",
       "      <td>0021_01</td>\n",
       "      <td>Europa</td>\n",
       "      <td>False</td>\n",
       "      <td>C/1/S</td>\n",
       "      <td>TRAPPIST-1e</td>\n",
       "      <td>38.0</td>\n",
       "      <td>False</td>\n",
       "      <td>0.0</td>\n",
       "      <td>6652.0</td>\n",
       "      <td>0.0</td>\n",
       "      <td>181.0</td>\n",
       "      <td>585.0</td>\n",
       "      <td>Meratz Caltilter</td>\n",
       "    </tr>\n",
       "    <tr>\n",
       "      <th>4</th>\n",
       "      <td>0023_01</td>\n",
       "      <td>Earth</td>\n",
       "      <td>False</td>\n",
       "      <td>F/5/S</td>\n",
       "      <td>TRAPPIST-1e</td>\n",
       "      <td>20.0</td>\n",
       "      <td>False</td>\n",
       "      <td>10.0</td>\n",
       "      <td>0.0</td>\n",
       "      <td>635.0</td>\n",
       "      <td>0.0</td>\n",
       "      <td>0.0</td>\n",
       "      <td>Brence Harperez</td>\n",
       "    </tr>\n",
       "  </tbody>\n",
       "</table>\n",
       "</div>"
      ],
      "text/plain": [
       "  PassengerId HomePlanet CryoSleep  Cabin  Destination   Age    VIP  \\\n",
       "0     0013_01      Earth      True  G/3/S  TRAPPIST-1e  27.0  False   \n",
       "1     0018_01      Earth     False  F/4/S  TRAPPIST-1e  19.0  False   \n",
       "2     0019_01     Europa      True  C/0/S  55 Cancri e  31.0  False   \n",
       "3     0021_01     Europa     False  C/1/S  TRAPPIST-1e  38.0  False   \n",
       "4     0023_01      Earth     False  F/5/S  TRAPPIST-1e  20.0  False   \n",
       "\n",
       "   RoomService  FoodCourt  ShoppingMall     Spa  VRDeck              Name  \n",
       "0          0.0        0.0           0.0     0.0     0.0   Nelly Carsoning  \n",
       "1          0.0        9.0           0.0  2823.0     0.0    Lerome Peckers  \n",
       "2          0.0        0.0           0.0     0.0     0.0   Sabih Unhearfus  \n",
       "3          0.0     6652.0           0.0   181.0   585.0  Meratz Caltilter  \n",
       "4         10.0        0.0         635.0     0.0     0.0   Brence Harperez  "
      ]
     },
     "execution_count": 8,
     "metadata": {},
     "output_type": "execute_result"
    }
   ],
   "source": [
    "test_data.head()"
   ]
  },
  {
   "cell_type": "markdown",
   "id": "8d8ac403",
   "metadata": {
    "papermill": {
     "duration": 0.006467,
     "end_time": "2022-09-12T08:28:51.344496",
     "exception": false,
     "start_time": "2022-09-12T08:28:51.338029",
     "status": "completed"
    },
    "tags": []
   },
   "source": [
    "6. Though the best practises is to use the best and efficient machine learning model by using any validation techniques, here we will be using **Random Forest Regressor** model for acheiving the result.\n",
    "    \n",
    " # Random Forest Regressor Model\n",
    " > Random Forest Regression is a supervised learning algorithm that uses ensemble learning method for regression. \n",
    " > Ensemble learning method is a technique that combines predictions from multiple machine learning algorithms to make a more accurate prediction than a single model.\n",
    " \n",
    "The random forest uses many trees, and it makes a prediction by averaging the predictions of each component tree. \n",
    "It generally has much better predictive accuracy than a single decision tree and it works well with default parameters.\n",
    "\n",
    "<br> The steps for defining a random forest model are:\n",
    " - initialize the model into an object\n",
    " - fit the model with training data\n",
    " - predict the model with `model.predict()` function"
   ]
  },
  {
   "cell_type": "code",
   "execution_count": 9,
   "id": "010143e3",
   "metadata": {
    "execution": {
     "iopub.execute_input": "2022-09-12T08:28:51.360190Z",
     "iopub.status.busy": "2022-09-12T08:28:51.359287Z",
     "iopub.status.idle": "2022-09-12T08:28:52.894444Z",
     "shell.execute_reply": "2022-09-12T08:28:52.893397Z"
    },
    "papermill": {
     "duration": 1.545607,
     "end_time": "2022-09-12T08:28:52.896770",
     "exception": false,
     "start_time": "2022-09-12T08:28:51.351163",
     "status": "completed"
    },
    "tags": []
   },
   "outputs": [
    {
     "data": {
      "text/plain": [
       "RandomForestRegressor(random_state=1)"
      ]
     },
     "execution_count": 9,
     "metadata": {},
     "output_type": "execute_result"
    }
   ],
   "source": [
    "# Define a random forest model\n",
    "rf_model = RandomForestRegressor(random_state=1)\n",
    "rf_model.fit(X, y)"
   ]
  },
  {
   "cell_type": "code",
   "execution_count": 10,
   "id": "466bd195",
   "metadata": {
    "execution": {
     "iopub.execute_input": "2022-09-12T08:28:52.912333Z",
     "iopub.status.busy": "2022-09-12T08:28:52.911606Z",
     "iopub.status.idle": "2022-09-12T08:28:52.989441Z",
     "shell.execute_reply": "2022-09-12T08:28:52.988434Z"
    },
    "papermill": {
     "duration": 0.088234,
     "end_time": "2022-09-12T08:28:52.991857",
     "exception": false,
     "start_time": "2022-09-12T08:28:52.903623",
     "status": "completed"
    },
    "tags": []
   },
   "outputs": [
    {
     "data": {
      "text/plain": [
       "array([0.86346201, 0.02      , 0.74364806, ..., 0.79279647, 0.62      ,\n",
       "       0.81365664])"
      ]
     },
     "execution_count": 10,
     "metadata": {},
     "output_type": "execute_result"
    }
   ],
   "source": [
    "#Predicting the output\n",
    "rf_val_predictions = rf_model.predict(test_X)\n",
    "Transportedvalues=[]\n",
    "rf_val_predictions"
   ]
  },
  {
   "cell_type": "markdown",
   "id": "6bb234e4",
   "metadata": {
    "papermill": {
     "duration": 0.007417,
     "end_time": "2022-09-12T08:28:53.006528",
     "exception": false,
     "start_time": "2022-09-12T08:28:52.999111",
     "status": "completed"
    },
    "tags": []
   },
   "source": [
    "Since the model produced numerical values, we will be creating predictions based on the numerical data which we have created."
   ]
  },
  {
   "cell_type": "code",
   "execution_count": 11,
   "id": "2e42f76a",
   "metadata": {
    "execution": {
     "iopub.execute_input": "2022-09-12T08:28:53.022465Z",
     "iopub.status.busy": "2022-09-12T08:28:53.022061Z",
     "iopub.status.idle": "2022-09-12T08:28:53.028768Z",
     "shell.execute_reply": "2022-09-12T08:28:53.027756Z"
    },
    "papermill": {
     "duration": 0.017316,
     "end_time": "2022-09-12T08:28:53.030918",
     "exception": false,
     "start_time": "2022-09-12T08:28:53.013602",
     "status": "completed"
    },
    "tags": []
   },
   "outputs": [],
   "source": [
    "for value in rf_val_predictions:\n",
    "    if value>.5:\n",
    "        Transportedvalues.append(True)\n",
    "    else :\n",
    "        Transportedvalues.append(False)"
   ]
  },
  {
   "cell_type": "code",
   "execution_count": 12,
   "id": "52671561",
   "metadata": {
    "execution": {
     "iopub.execute_input": "2022-09-12T08:28:53.045890Z",
     "iopub.status.busy": "2022-09-12T08:28:53.045548Z",
     "iopub.status.idle": "2022-09-12T08:28:53.052007Z",
     "shell.execute_reply": "2022-09-12T08:28:53.051223Z"
    },
    "papermill": {
     "duration": 0.017946,
     "end_time": "2022-09-12T08:28:53.055704",
     "exception": false,
     "start_time": "2022-09-12T08:28:53.037758",
     "status": "completed"
    },
    "tags": []
   },
   "outputs": [
    {
     "name": "stdout",
     "output_type": "stream",
     "text": [
      "[0.86346201 0.02       0.74364806 ... 0.79279647 0.62       0.81365664]\n",
      "[True, False, True, True, False, True, True, True, True, True, False, False, True, True, False, False, False, True, True, False, True, False, True, True, False, False, True, True, True, True, True, False, True, False, False, False, True, True, True, False, True, False, True, True, False, True, False, False, True, False, True, True, False, True, True, True, False, True, True, False, True, False, False, True, True, False, True, False, True, False, False, False, False, False, True, True, True, True, True, True, True, True, False, False, False, True, True, False, True, True, False, False, False, False, False, False, True, False, True, True, True, True, True, False, True, False, True, True, False, True, True, False, True, True, False, True, True, False, False, False, False, False, False, False, True, True, False, False, True, False, True, True, True, True, False, True, True, False, False, False, True, True, True, False, True, False, True, True, True, True, True, True, True, False, False, True, True, True, False, False, False, True, True, True, False, False, True, False, True, False, False, True, True, True, True, True, False, True, True, True, False, True, False, False, False, False, True, False, True, True, True, True, False, False, False, False, True, True, True, False, True, False, False, False, False, True, False, True, False, True, True, True, True, True, False, True, False, True, True, True, True, True, True, True, True, True, False, True, True, False, True, True, True, True, False, True, True, True, True, False, False, True, False, True, True, True, False, False, True, False, True, False, False, False, True, True, True, False, True, True, True, True, True, False, True, True, True, False, True, True, True, True, False, True, True, True, False, False, False, True, True, False, False, True, True, True, True, True, True, True, True, False, True, True, True, True, False, False, True, True, True, True, True, False, True, True, True, True, True, False, False, False, True, True, False, True, True, True, True, True, False, True, True, True, False, False, True, True, True, True, False, False, True, True, True, False, False, False, False, True, False, False, False, False, False, True, True, True, True, False, False, True, False, True, True, True, True, False, True, False, True, False, True, False, True, False, True, True, False, True, True, True, True, False, True, True, True, False, True, True, True, False, True, True, True, False, False, True, False, True, False, True, True, False, True, True, False, True, False, False, True, True, True, False, False, True, True, False, True, False, True, True, True, False, True, True, True, False, True, True, True, False, False, False, True, True, False, False, False, False, True, True, True, True, True, False, False, True, True, True, True, False, True, True, False, False, False, False, False, False, False, True, True, True, False, False, False, False, True, True, False, False, True, True, False, False, False, True, False, False, True, False, True, False, True, False, False, False, False, True, False, False, True, True, True, False, False, True, True, True, True, True, True, True, True, False, True, True, True, True, True, True, False, False, True, True, False, True, True, True, True, True, False, True, False, True, False, True, False, True, False, False, True, True, False, False, True, True, False, False, False, True, True, True, True, True, False, False, True, True, True, True, True, False, True, False, True, False, False, True, True, True, True, False, False, True, True, False, True, True, True, True, True, False, False, False, True, False, False, True, False, True, True, True, False, False, False, False, True, False, True, False, False, False, True, True, True, False, False, False, True, True, False, True, True, True, True, True, True, False, False, True, True, True, False, True, False, False, True, True, True, True, True, False, True, False, True, True, False, False, True, False, False, False, True, True, False, True, True, False, True, False, False, True, True, False, False, True, True, True, True, True, False, False, True, False, False, True, True, True, False, True, False, False, True, False, False, True, True, True, False, True, True, True, True, True, True, True, False, True, True, False, False, False, False, True, True, True, True, True, True, True, True, False, True, True, False, False, True, True, True, True, False, False, True, False, False, False, False, False, False, False, False, False, False, False, True, True, False, False, True, True, True, True, True, True, True, False, False, True, False, False, False, True, True, False, True, True, False, False, False, False, False, True, True, True, True, False, True, True, True, False, False, False, False, True, True, True, False, False, False, False, True, True, False, False, False, True, False, False, True, True, True, False, True, False, True, True, True, True, True, True, False, False, True, True, True, True, True, False, True, True, False, False, True, True, True, False, False, True, False, True, False, False, False, False, True, True, True, True, True, True, True, False, True, False, False, True, True, False, False, True, True, False, True, False, True, False, True, False, False, False, True, True, True, True, True, True, True, False, False, False, False, False, False, False, True, False, True, False, False, True, True, True, False, False, True, True, True, True, False, True, True, False, False, True, False, False, True, False, True, True, True, True, True, False, True, False, False, True, False, True, False, True, True, True, False, True, True, True, False, True, False, True, True, True, True, False, True, False, False, False, True, True, True, True, True, True, False, False, True, True, False, False, False, False, True, False, True, True, False, False, True, False, True, True, False, True, False, False, True, False, True, True, True, True, True, True, False, False, True, False, False, False, False, False, False, False, False, True, False, True, False, False, False, False, True, False, False, True, False, True, True, True, True, True, False, True, True, False, True, False, True, True, False, True, False, True, True, True, True, True, True, False, True, False, False, False, True, True, False, True, True, False, True, True, True, True, True, True, False, True, True, False, True, True, False, True, True, True, True, False, True, False, False, False, True, False, True, True, False, False, False, False, True, True, False, False, False, True, True, False, True, True, True, True, True, True, True, False, False, True, True, False, False, False, False, False, True, False, False, True, True, True, False, False, False, False, False, False, True, False, False, True, False, True, True, False, True, False, True, True, True, True, True, True, False, False, False, True, False, True, True, True, False, False, True, False, False, False, False, True, True, True, True, False, True, True, True, True, True, True, False, False, False, True, False, False, True, False, True, True, False, True, True, False, True, False, False, False, True, False, False, False, False, True, True, False, True, False, False, True, True, True, False, True, False, False, False, True, False, True, True, False, False, True, False, True, False, False, True, False, False, False, True, False, True, False, False, False, True, True, True, False, True, True, True, False, True, True, False, True, False, False, False, False, True, True, False, True, False, False, True, True, False, False, True, False, False, False, True, False, False, True, True, False, False, False, False, True, False, False, True, False, True, False, True, True, False, False, False, True, True, True, False, False, True, True, True, False, True, True, True, True, True, True, True, True, True, False, True, True, True, True, True, True, True, True, True, True, False, False, False, False, False, False, True, False, False, False, True, True, False, False, True, True, True, False, True, False, True, False, True, False, False, True, True, False, True, True, False, False, True, False, False, True, True, True, False, True, True, True, True, False, False, False, True, False, True, False, False, True, True, False, True, True, True, False, False, True, True, False, False, False, True, True, False, False, False, False, False, True, True, False, True, True, True, True, True, True, True, False, True, True, False, True, False, True, True, True, True, False, True, False, True, True, True, True, True, False, True, True, False, True, False, True, False, True, True, True, True, False, False, False, False, False, True, False, True, True, True, False, True, True, True, True, True, False, False, False, True, True, False, True, False, True, False, False, True, False, False, False, False, True, False, False, False, True, True, True, False, False, True, True, True, False, False, False, False, False, False, True, True, False, False, False, True, False, False, True, False, False, False, True, False, True, True, True, True, True, True, True, True, False, False, True, True, True, True, True, False, True, True, False, False, False, True, False, False, True, False, True, True, True, True, True, False, False, True, False, True, True, True, True, False, False, True, True, True, True, True, True, True, True, False, False, False, False, True, True, False, True, False, True, False, False, True, False, True, True, True, True, True, True, True, False, False, False, False, True, True, True, False, True, False, True, False, False, True, True, False, True, True, False, False, True, False, True, False, True, False, False, False, True, True, True, False, False, True, False, True, False, False, True, False, True, False, False, True, True, True, False, True, False, True, True, False, True, False, True, True, False, True, False, False, False, True, True, False, False, True, True, True, False, False, True, False, True, True, True, False, True, False, True, False, True, True, False, True, False, False, False, False, True, True, True, True, False, True, True, False, False, False, True, False, False, True, True, True, True, True, True, False, False, True, False, True, False, True, False, False, True, True, False, False, False, True, True, False, True, True, False, False, False, True, False, True, False, False, True, False, True, False, False, False, True, True, False, True, False, False, False, False, False, False, True, True, True, False, True, True, True, False, True, False, False, True, False, False, True, True, False, False, False, False, False, False, True, False, False, False, True, False, False, True, True, False, False, True, True, True, True, False, True, True, True, False, True, True, False, True, True, False, True, True, True, True, False, True, True, True, True, False, False, True, False, True, False, True, False, False, False, True, True, False, True, True, False, False, False, True, False, False, False, True, True, False, True, True, False, True, True, True, True, False, True, True, False, True, True, True, True, False, False, True, True, True, True, True, True, True, True, True, False, True, False, True, False, True, False, False, True, True, True, True, True, True, True, True, True, False, True, True, True, True, True, False, False, False, True, False, True, True, True, False, False, True, True, True, False, False, True, True, True, True, True, False, False, False, True, True, True, False, False, True, False, False, True, True, False, False, False, True, False, True, False, True, True, True, False, False, False, False, True, False, True, True, True, False, False, True, True, False, False, True, True, True, False, True, False, False, True, False, True, False, False, True, False, False, True, True, False, False, True, False, False, True, True, True, False, False, True, True, True, False, False, False, False, False, True, True, True, True, True, False, False, False, True, True, True, False, False, True, False, False, False, False, False, True, True, True, False, True, False, False, False, True, True, True, True, False, True, True, True, True, True, True, True, True, True, True, True, True, False, False, False, True, False, False, False, True, True, True, False, True, False, False, True, False, True, True, True, True, True, False, False, True, True, True, False, False, True, False, False, False, True, False, True, True, True, False, False, False, True, True, False, True, False, True, True, True, True, False, False, True, False, True, False, True, False, False, True, False, False, True, False, False, True, False, True, False, False, False, False, True, True, True, True, True, False, False, False, True, True, True, True, True, True, True, True, False, False, True, False, False, True, False, True, False, True, True, False, True, True, True, False, False, False, True, True, False, False, True, True, False, False, True, True, True, True, False, False, True, True, False, True, True, True, True, True, False, True, True, False, True, True, False, True, False, False, True, False, False, False, False, False, True, True, False, False, False, False, False, True, True, False, False, False, False, False, True, False, True, False, False, True, True, True, False, True, True, False, True, True, False, True, True, True, True, False, False, True, False, False, False, False, False, True, False, True, False, True, False, False, True, True, False, True, True, True, False, True, False, True, False, True, False, False, True, True, True, True, True, False, False, False, False, True, True, True, True, True, True, False, True, True, True, True, False, False, False, False, False, True, True, True, False, False, False, False, False, True, True, False, False, False, True, True, True, False, False, True, True, True, True, False, True, True, True, True, True, True, False, False, False, False, True, True, True, True, False, False, False, True, True, True, True, True, True, True, True, False, True, True, True, False, False, True, True, False, True, False, True, False, True, False, True, False, False, True, False, True, False, True, True, False, False, False, False, True, True, True, True, True, True, True, True, True, True, True, True, True, False, False, True, False, False, False, False, True, False, True, True, False, True, True, False, True, False, False, True, True, True, False, False, True, False, False, False, False, False, True, True, True, True, True, False, True, False, False, False, False, False, False, False, True, True, False, True, False, False, False, False, True, False, False, True, False, True, False, False, False, False, True, False, True, False, True, True, False, True, True, True, True, True, False, True, True, True, True, False, False, True, False, True, True, False, True, True, True, False, True, True, True, False, True, False, True, True, False, False, True, False, False, True, False, True, False, True, True, True, True, True, True, False, False, False, True, True, True, True, True, True, False, False, True, True, False, True, False, False, True, False, False, False, False, True, True, False, True, True, False, False, True, False, True, False, True, True, False, False, True, True, False, False, False, True, False, False, False, True, True, True, False, True, False, True, True, False, False, False, True, True, True, False, False, False, True, True, False, False, True, True, True, False, True, False, False, False, False, True, False, True, True, False, False, False, True, True, True, True, False, True, True, False, True, False, False, False, False, False, True, False, True, True, True, False, True, True, False, True, True, True, False, False, True, True, False, True, True, True, False, True, True, True, True, True, False, True, True, True, False, True, True, False, True, True, True, True, False, False, True, True, False, False, True, True, True, False, True, True, False, True, True, True, False, True, True, True, False, False, True, False, True, False, False, True, False, False, False, True, False, True, False, True, True, False, False, False, False, False, False, False, False, False, True, True, True, False, False, True, True, True, True, True, True, False, False, True, True, True, True, False, True, False, False, False, False, False, False, False, False, True, True, True, True, False, True, False, True, True, False, False, False, True, False, True, True, True, True, True, True, True, False, False, True, True, True, True, True, False, True, True, False, False, True, True, False, True, False, False, True, True, True, False, True, False, False, True, True, True, False, False, False, False, False, True, True, True, False, False, False, True, True, True, True, True, True, True, True, True, False, False, True, True, True, False, False, True, True, True, False, False, False, True, True, False, False, False, True, False, False, False, False, True, False, False, True, True, False, True, False, False, True, True, True, False, True, True, True, True, True, False, False, True, False, False, False, False, False, False, True, False, True, True, True, True, True, True, True, False, True, False, False, True, False, False, True, False, False, True, False, True, True, False, False, False, True, False, True, False, True, False, False, True, False, False, True, True, True, True, True, True, True, True, True, False, True, True, False, True, False, True, False, True, True, False, False, False, True, True, True, True, True, True, True, False, True, True, False, True, True, True, True, True, True, True, False, True, False, False, False, True, False, True, False, True, False, True, False, True, False, False, False, False, True, False, True, False, True, True, True, True, True, True, False, True, True, False, True, True, True, True, False, False, True, False, False, True, True, True, False, False, False, True, True, False, True, True, False, False, True, True, False, False, True, True, True, True, False, False, False, True, True, True, True, True, False, False, False, True, True, False, True, False, True, False, True, True, True, True, True, False, True, False, True, True, False, False, False, True, True, True, True, False, True, False, True, True, False, True, True, False, False, False, True, True, False, True, True, True, True, True, True, False, True, False, True, False, True, True, True, False, True, False, False, True, False, True, True, False, True, True, True, True, False, True, False, False, True, True, False, False, False, True, True, True, False, False, True, True, False, False, False, True, False, False, True, True, True, True, True, True, True, False, True, True, False, True, False, False, True, True, False, True, True, False, False, True, True, True, True, True, True, False, False, False, False, True, True, False, False, True, False, True, False, False, False, True, False, False, False, True, False, False, True, False, False, True, True, True, False, True, False, False, True, False, True, False, True, True, True, False, True, True, False, True, True, True, True, True, False, False, False, True, True, True, True, True, False, False, False, True, True, False, True, False, False, False, False, False, False, True, False, True, True, True, True, True, False, True, True, False, False, True, True, False, False, True, True, True, True, False, True, True, True, False, False, True, False, True, True, True, True, True, False, False, True, True, True, True, True, True, True, False, True, True, False, True, True, False, True, False, True, True, True, True, False, True, False, True, False, True, False, True, True, False, False, False, True, False, True, True, True, True, True, False, True, False, True, False, True, False, False, False, False, True, False, True, False, False, False, False, False, True, False, True, False, False, False, False, True, False, True, False, True, True, True, True, False, True, False, True, True, True, True, False, True, True, True, False, False, False, False, True, True, False, True, False, False, False, False, True, True, True, True, True, True, False, False, True, False, False, False, True, False, False, False, False, False, False, False, False, False, False, True, True, True, False, True, True, True, True, False, True, False, True, True, False, True, True, False, False, False, True, True, True, True, True, True, True, True, True, False, True, True, False, False, False, True, True, True, True, True, True, True, False, False, False, False, True, True, False, False, True, False, False, False, True, False, True, False, True, True, True, True, False, True, True, False, True, False, False, False, True, False, True, False, False, True, True, False, False, False, True, True, True, True, False, False, True, False, True, True, True, False, True, False, True, True, True, True, False, False, False, True, False, True, True, False, True, True, True, False, True, True, True, True, False, True, True, False, False, True, True, False, True, True, False, True, True, True, False, False, True, False, False, True, False, True, False, False, False, True, True, False, False, True, False, False, False, True, True, True, True, True, True, False, False, True, True, False, True, True, False, True, True, True, False, True, True, True, False, True, True, True, False, True, True, True, False, True, True, False, False, False, False, False, False, True, True, False, True, True, True, True, True, False, True, False, True, True, False, False, False, True, True, False, True, True, False, False, True, True, True, False, True, True, True, False, True, False, False, True, True, False, False, True, True, True, False, True, True, False, True, False, True, True, True, False, True, True, True, False, True, True, False, True, True, True, True, False, False, True, True, True, False, True, True, False, True, True, True, True, False, False, False, False, False, True, True, False, True, False, True, True, True, True, False, False, True, False, True, True, True, False, False, False, False, False, False, False, True, True, True, False, False, True, True, False, True, False, True, False, True, True, True, True, True, True, False, True, True, True, False, True, True, False, False, False, True, True, True, True, False, True, True, True, True, True, False, False, True, False, True, True, False, True, False, True, True, False, True, False, False, False, True, False, False, False, False, True, True, True, False, True, True, True, True, True, True, True, True, True, False, True, False, True, False, True, False, True, True, False, True, True, False, False, False, True, True, False, False, True, True, True, True, False, True, False, True, True, True, True, True, True, False, True, True, False, True, False, True, True, False, True, False, False, False, False, True, True, True, False, False, True, True, True, True, True, True, False, False, False, True, False, True, False, True, False, False, True, False, True, False, True, True, True, False, True, True, False, True, True, True, False, True, False, False, True, False, False, True, True, False, True, True, True, False, True, False, True, False, True, False, True, True, False, True, False, False, True, True, False, True, False, True, False, False, False, False, True, True, False, True, True, True, True, True, True, True, False, False, False, False, False, True, False, True, False, True, True, True, False, True, True, True, True, True, False, False, False, True, True, True, True, False, False, True, False, True, False, False, False, False, True, False, True, True, True, False, True, True, False, True, True, True, False, False, False, False, False, True, True, True, True, True, True, True, True, False, False, False, True, True, True, False, True, False, False, True, True, True, False, True, True, False, True, True, True, True, True, True, False, False, False, True, True, True, True, False, False, True, True, True, True, True, False, False, True, True, True, True, False, True, True, True, False, False, False, True, True, True, True, False, True, True, False, True, True, False, True, True, False, True, False, False, False, True, False, False, False, False, False, True, True, False, True, True, True, False, True, True, False, False, False, True, True, True, True, True, True, False, True, False, False, False, False, False, True, False, True, True, True, True, False, True, True, False, True, False, False, True, True, True, True, True, False, False, False, True, True, False, False, True, False, False, True, False, True, False, False, False, False, False, True, True, True, False, False, False, False, True, True, True, True, True, True, False, True, True, False, True, True, True, True, False, False, False, True, False, True, True, True, False, True, True, True, False, True, False, False, True, True, True, False, True, True, False, False, True, False, True, True, True, False, True, True, True, False, True, False, True, True, False, True, False, True, True, False, True, False, True, True, True, False, False, True, False, True, True, False, True, False, True, False, False, False, True, True, True, False, True, True, True, False, True, True, False, True, False, True, True, True, True, False, False, True, True, True, False, False, False, True, False, True, False, False, False, True, False, True, True, False, False, False, True, True, False, False, False, False, True, True, True, True, False, True, True, True, True, False, True, False, True, False, True, True, False, False, False, True, True, True, True, True, False, True, False, False, False, False, True, True, True, True, True, False, True, True, True, False, True, False, True, True, False, True, True, False, True, True, True, True, False, True, False, False, True, False, True, True, False, False, True, True, False, False, True, True, False, False, False, False, True, True, False, False, False, False, False, True, False, False, False, True, False, False, False, False, True, False, True, False, True, True, False, False, False, False, True, True, False, True, False, True, True, True, True, True, True, True, True, True, False, False, False, True, True, False, False, True, False, False, False, True, True, False, True, False, True, True, False, True, False, True, True, False, True, True, True, True, False, True, False, True, True, True, False, True, True, False, True, True, True, True, True, False, False, True, True, True, True, True, True, True, True, True, False, True, False, False, True, False, True, False, False, True, False, False, False, False, True, False, True, True, False, True, False, True, False, True, True, False, False, False, True, False, False, True, True, False, True, True, False, True, False, False, False, True, False, False, False, True, False, True, False, True, True, False, True, False, True, True, False, False, False, False, True, True, False, True, True, True, False, False, False, False, True, True, True, False, True, False, True, False, True, True, True, False, False, True, False, True, False, False, False, True, True, False, True, True, True, True, False, True, True, True, False, False, False, False, False, False, False, True, True, False, True, False, False, True, True, True, False, False, True, True, True, True, False, False, False, True, False, False, False, True, False, True, True, False, False, False, True, False, True, False, True, True, False, False, False, True, True, True, True, False, True, True, False, False, True, False, True, True, True, True, False, True, True, True, True, False, True, True, True]\n"
     ]
    }
   ],
   "source": [
    "print(rf_val_predictions)\n",
    "print(Transportedvalues)"
   ]
  },
  {
   "cell_type": "markdown",
   "id": "79ef2985",
   "metadata": {
    "papermill": {
     "duration": 0.006991,
     "end_time": "2022-09-12T08:28:53.071584",
     "exception": false,
     "start_time": "2022-09-12T08:28:53.064593",
     "status": "completed"
    },
    "tags": []
   },
   "source": [
    "Once the result is obtained from model, we will be creating a dataFrame to store the result in the indended format.\n",
    "<br/> After that we will be converting dataframe to csv as well."
   ]
  },
  {
   "cell_type": "code",
   "execution_count": 13,
   "id": "68bbaa93",
   "metadata": {
    "execution": {
     "iopub.execute_input": "2022-09-12T08:28:53.087589Z",
     "iopub.status.busy": "2022-09-12T08:28:53.087201Z",
     "iopub.status.idle": "2022-09-12T08:28:53.101531Z",
     "shell.execute_reply": "2022-09-12T08:28:53.100499Z"
    },
    "papermill": {
     "duration": 0.025222,
     "end_time": "2022-09-12T08:28:53.104102",
     "exception": false,
     "start_time": "2022-09-12T08:28:53.078880",
     "status": "completed"
    },
    "tags": []
   },
   "outputs": [
    {
     "name": "stdout",
     "output_type": "stream",
     "text": [
      "Your submission was successfully completed!\n"
     ]
    }
   ],
   "source": [
    "#Printing the output\n",
    "output = pd.DataFrame({'PassengerId': test_data.PassengerId , 'Transported': Transportedvalues})\n",
    "output.to_csv('submission.csv', index=False)\n",
    "print(\"Your submission was successfully completed!\")"
   ]
  },
  {
   "cell_type": "markdown",
   "id": "9fc07834",
   "metadata": {
    "papermill": {
     "duration": 0.007195,
     "end_time": "2022-09-12T08:28:53.118846",
     "exception": false,
     "start_time": "2022-09-12T08:28:53.111651",
     "status": "completed"
    },
    "tags": []
   },
   "source": [
    "Hence a machine learning model was created for predicting which passengers were transported by the anomaly using records recovered from the spaceship’s damaged computer system.\n",
    "<br /> The accuracy of the model can be furthur increased by the following:\n",
    "- Adding or removing the features used \n",
    "- Using another machine learning model instead of Random Forest Regressor"
   ]
  }
 ],
 "metadata": {
  "kernelspec": {
   "display_name": "Python 3",
   "language": "python",
   "name": "python3"
  },
  "language_info": {
   "codemirror_mode": {
    "name": "ipython",
    "version": 3
   },
   "file_extension": ".py",
   "mimetype": "text/x-python",
   "name": "python",
   "nbconvert_exporter": "python",
   "pygments_lexer": "ipython3",
   "version": "3.7.12"
  },
  "papermill": {
   "default_parameters": {},
   "duration": 14.703908,
   "end_time": "2022-09-12T08:28:53.848699",
   "environment_variables": {},
   "exception": null,
   "input_path": "__notebook__.ipynb",
   "output_path": "__notebook__.ipynb",
   "parameters": {},
   "start_time": "2022-09-12T08:28:39.144791",
   "version": "2.3.4"
  }
 },
 "nbformat": 4,
 "nbformat_minor": 5
}
