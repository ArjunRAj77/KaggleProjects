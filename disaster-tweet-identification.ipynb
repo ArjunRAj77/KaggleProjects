{
 "cells": [
  {
   "cell_type": "markdown",
   "id": "729ab225",
   "metadata": {
    "papermill": {
     "duration": 0.004255,
     "end_time": "2022-11-23T12:04:04.272429",
     "exception": false,
     "start_time": "2022-11-23T12:04:04.268174",
     "status": "completed"
    },
    "tags": []
   },
   "source": [
    "# Disaster Tweet Identification model using NLP from Twitter\n",
    "\n",
    "### Synopsis\n",
    "\n",
    "From a given set of tweets, we need to identify whether a given tweet is related to disaster or not. \n",
    "\n",
    "- ML Model used : **RidgeClassifier**\n",
    "\n",
    "- Accuracy : **0.78**\n"
   ]
  },
  {
   "cell_type": "code",
   "execution_count": 1,
   "id": "d51b05be",
   "metadata": {
    "_cell_guid": "b1076dfc-b9ad-4769-8c92-a6c4dae69d19",
    "_uuid": "8f2839f25d086af736a60e9eeb907d3b93b6e0e5",
    "execution": {
     "iopub.execute_input": "2022-11-23T12:04:04.281414Z",
     "iopub.status.busy": "2022-11-23T12:04:04.280923Z",
     "iopub.status.idle": "2022-11-23T12:04:05.223728Z",
     "shell.execute_reply": "2022-11-23T12:04:05.222835Z"
    },
    "papermill": {
     "duration": 0.950307,
     "end_time": "2022-11-23T12:04:05.226345",
     "exception": false,
     "start_time": "2022-11-23T12:04:04.276038",
     "status": "completed"
    },
    "tags": []
   },
   "outputs": [],
   "source": [
    "# Importing required libraries\n",
    "import numpy as np # linear algebra\n",
    "import pandas as pd # data processing, CSV file I/O (e.g. pd.read_csv)\n",
    "from sklearn import feature_extraction, linear_model, model_selection, preprocessing"
   ]
  },
  {
   "cell_type": "markdown",
   "id": "aab1aa9b",
   "metadata": {
    "papermill": {
     "duration": 0.003628,
     "end_time": "2022-11-23T12:04:05.234023",
     "exception": false,
     "start_time": "2022-11-23T12:04:05.230395",
     "status": "completed"
    },
    "tags": []
   },
   "source": [
    "### Input Data\n",
    "\n",
    "Here the dataset we will be using contains an index and its corresponding tweet.\n",
    "\n",
    "Training data:\n",
    "- It should contain  \n",
    "    - index,\n",
    "    - tweet \n",
    "    - category number\n",
    "- 1, if the tweet is categorised as disaster, otherwise 0"
   ]
  },
  {
   "cell_type": "code",
   "execution_count": 2,
   "id": "d54278d4",
   "metadata": {
    "execution": {
     "iopub.execute_input": "2022-11-23T12:04:05.243754Z",
     "iopub.status.busy": "2022-11-23T12:04:05.243343Z",
     "iopub.status.idle": "2022-11-23T12:04:05.300532Z",
     "shell.execute_reply": "2022-11-23T12:04:05.299654Z"
    },
    "papermill": {
     "duration": 0.064549,
     "end_time": "2022-11-23T12:04:05.302770",
     "exception": false,
     "start_time": "2022-11-23T12:04:05.238221",
     "status": "completed"
    },
    "tags": []
   },
   "outputs": [],
   "source": [
    "# Creating dataframes from input data\n",
    "train_df = pd.read_csv(\"../input/nlp-getting-started/train.csv\")\n",
    "test_df = pd.read_csv(\"../input/nlp-getting-started/test.csv\")"
   ]
  },
  {
   "cell_type": "code",
   "execution_count": 3,
   "id": "804142ea",
   "metadata": {
    "execution": {
     "iopub.execute_input": "2022-11-23T12:04:05.312486Z",
     "iopub.status.busy": "2022-11-23T12:04:05.312213Z",
     "iopub.status.idle": "2022-11-23T12:04:05.331204Z",
     "shell.execute_reply": "2022-11-23T12:04:05.330323Z"
    },
    "papermill": {
     "duration": 0.027008,
     "end_time": "2022-11-23T12:04:05.334298",
     "exception": false,
     "start_time": "2022-11-23T12:04:05.307290",
     "status": "completed"
    },
    "tags": []
   },
   "outputs": [
    {
     "data": {
      "text/html": [
       "<div>\n",
       "<style scoped>\n",
       "    .dataframe tbody tr th:only-of-type {\n",
       "        vertical-align: middle;\n",
       "    }\n",
       "\n",
       "    .dataframe tbody tr th {\n",
       "        vertical-align: top;\n",
       "    }\n",
       "\n",
       "    .dataframe thead th {\n",
       "        text-align: right;\n",
       "    }\n",
       "</style>\n",
       "<table border=\"1\" class=\"dataframe\">\n",
       "  <thead>\n",
       "    <tr style=\"text-align: right;\">\n",
       "      <th></th>\n",
       "      <th>id</th>\n",
       "      <th>target</th>\n",
       "    </tr>\n",
       "  </thead>\n",
       "  <tbody>\n",
       "    <tr>\n",
       "      <th>0</th>\n",
       "      <td>0</td>\n",
       "      <td>0</td>\n",
       "    </tr>\n",
       "    <tr>\n",
       "      <th>1</th>\n",
       "      <td>2</td>\n",
       "      <td>0</td>\n",
       "    </tr>\n",
       "    <tr>\n",
       "      <th>2</th>\n",
       "      <td>3</td>\n",
       "      <td>0</td>\n",
       "    </tr>\n",
       "    <tr>\n",
       "      <th>3</th>\n",
       "      <td>9</td>\n",
       "      <td>0</td>\n",
       "    </tr>\n",
       "    <tr>\n",
       "      <th>4</th>\n",
       "      <td>11</td>\n",
       "      <td>0</td>\n",
       "    </tr>\n",
       "  </tbody>\n",
       "</table>\n",
       "</div>"
      ],
      "text/plain": [
       "   id  target\n",
       "0   0       0\n",
       "1   2       0\n",
       "2   3       0\n",
       "3   9       0\n",
       "4  11       0"
      ]
     },
     "execution_count": 3,
     "metadata": {},
     "output_type": "execute_result"
    }
   ],
   "source": [
    "submission_csv=pd.read_csv(\"../input/nlp-getting-started/sample_submission.csv\")\n",
    "submission_csv.head()"
   ]
  },
  {
   "cell_type": "code",
   "execution_count": 4,
   "id": "a6bae7e3",
   "metadata": {
    "execution": {
     "iopub.execute_input": "2022-11-23T12:04:05.343258Z",
     "iopub.status.busy": "2022-11-23T12:04:05.343024Z",
     "iopub.status.idle": "2022-11-23T12:04:05.351848Z",
     "shell.execute_reply": "2022-11-23T12:04:05.351193Z"
    },
    "papermill": {
     "duration": 0.014992,
     "end_time": "2022-11-23T12:04:05.353327",
     "exception": false,
     "start_time": "2022-11-23T12:04:05.338335",
     "status": "completed"
    },
    "tags": []
   },
   "outputs": [
    {
     "data": {
      "text/html": [
       "<div>\n",
       "<style scoped>\n",
       "    .dataframe tbody tr th:only-of-type {\n",
       "        vertical-align: middle;\n",
       "    }\n",
       "\n",
       "    .dataframe tbody tr th {\n",
       "        vertical-align: top;\n",
       "    }\n",
       "\n",
       "    .dataframe thead th {\n",
       "        text-align: right;\n",
       "    }\n",
       "</style>\n",
       "<table border=\"1\" class=\"dataframe\">\n",
       "  <thead>\n",
       "    <tr style=\"text-align: right;\">\n",
       "      <th></th>\n",
       "      <th>id</th>\n",
       "      <th>keyword</th>\n",
       "      <th>location</th>\n",
       "      <th>text</th>\n",
       "      <th>target</th>\n",
       "    </tr>\n",
       "  </thead>\n",
       "  <tbody>\n",
       "    <tr>\n",
       "      <th>0</th>\n",
       "      <td>1</td>\n",
       "      <td>NaN</td>\n",
       "      <td>NaN</td>\n",
       "      <td>Our Deeds are the Reason of this #earthquake M...</td>\n",
       "      <td>1</td>\n",
       "    </tr>\n",
       "    <tr>\n",
       "      <th>1</th>\n",
       "      <td>4</td>\n",
       "      <td>NaN</td>\n",
       "      <td>NaN</td>\n",
       "      <td>Forest fire near La Ronge Sask. Canada</td>\n",
       "      <td>1</td>\n",
       "    </tr>\n",
       "    <tr>\n",
       "      <th>2</th>\n",
       "      <td>5</td>\n",
       "      <td>NaN</td>\n",
       "      <td>NaN</td>\n",
       "      <td>All residents asked to 'shelter in place' are ...</td>\n",
       "      <td>1</td>\n",
       "    </tr>\n",
       "    <tr>\n",
       "      <th>3</th>\n",
       "      <td>6</td>\n",
       "      <td>NaN</td>\n",
       "      <td>NaN</td>\n",
       "      <td>13,000 people receive #wildfires evacuation or...</td>\n",
       "      <td>1</td>\n",
       "    </tr>\n",
       "    <tr>\n",
       "      <th>4</th>\n",
       "      <td>7</td>\n",
       "      <td>NaN</td>\n",
       "      <td>NaN</td>\n",
       "      <td>Just got sent this photo from Ruby #Alaska as ...</td>\n",
       "      <td>1</td>\n",
       "    </tr>\n",
       "  </tbody>\n",
       "</table>\n",
       "</div>"
      ],
      "text/plain": [
       "   id keyword location                                               text  \\\n",
       "0   1     NaN      NaN  Our Deeds are the Reason of this #earthquake M...   \n",
       "1   4     NaN      NaN             Forest fire near La Ronge Sask. Canada   \n",
       "2   5     NaN      NaN  All residents asked to 'shelter in place' are ...   \n",
       "3   6     NaN      NaN  13,000 people receive #wildfires evacuation or...   \n",
       "4   7     NaN      NaN  Just got sent this photo from Ruby #Alaska as ...   \n",
       "\n",
       "   target  \n",
       "0       1  \n",
       "1       1  \n",
       "2       1  \n",
       "3       1  \n",
       "4       1  "
      ]
     },
     "execution_count": 4,
     "metadata": {},
     "output_type": "execute_result"
    }
   ],
   "source": [
    "train_df.head()"
   ]
  },
  {
   "cell_type": "code",
   "execution_count": 5,
   "id": "ca9204fb",
   "metadata": {
    "execution": {
     "iopub.execute_input": "2022-11-23T12:04:05.362842Z",
     "iopub.status.busy": "2022-11-23T12:04:05.362079Z",
     "iopub.status.idle": "2022-11-23T12:04:05.370425Z",
     "shell.execute_reply": "2022-11-23T12:04:05.369829Z"
    },
    "papermill": {
     "duration": 0.014806,
     "end_time": "2022-11-23T12:04:05.372033",
     "exception": false,
     "start_time": "2022-11-23T12:04:05.357227",
     "status": "completed"
    },
    "tags": []
   },
   "outputs": [
    {
     "data": {
      "text/html": [
       "<div>\n",
       "<style scoped>\n",
       "    .dataframe tbody tr th:only-of-type {\n",
       "        vertical-align: middle;\n",
       "    }\n",
       "\n",
       "    .dataframe tbody tr th {\n",
       "        vertical-align: top;\n",
       "    }\n",
       "\n",
       "    .dataframe thead th {\n",
       "        text-align: right;\n",
       "    }\n",
       "</style>\n",
       "<table border=\"1\" class=\"dataframe\">\n",
       "  <thead>\n",
       "    <tr style=\"text-align: right;\">\n",
       "      <th></th>\n",
       "      <th>id</th>\n",
       "      <th>keyword</th>\n",
       "      <th>location</th>\n",
       "      <th>text</th>\n",
       "    </tr>\n",
       "  </thead>\n",
       "  <tbody>\n",
       "    <tr>\n",
       "      <th>0</th>\n",
       "      <td>0</td>\n",
       "      <td>NaN</td>\n",
       "      <td>NaN</td>\n",
       "      <td>Just happened a terrible car crash</td>\n",
       "    </tr>\n",
       "    <tr>\n",
       "      <th>1</th>\n",
       "      <td>2</td>\n",
       "      <td>NaN</td>\n",
       "      <td>NaN</td>\n",
       "      <td>Heard about #earthquake is different cities, s...</td>\n",
       "    </tr>\n",
       "    <tr>\n",
       "      <th>2</th>\n",
       "      <td>3</td>\n",
       "      <td>NaN</td>\n",
       "      <td>NaN</td>\n",
       "      <td>there is a forest fire at spot pond, geese are...</td>\n",
       "    </tr>\n",
       "    <tr>\n",
       "      <th>3</th>\n",
       "      <td>9</td>\n",
       "      <td>NaN</td>\n",
       "      <td>NaN</td>\n",
       "      <td>Apocalypse lighting. #Spokane #wildfires</td>\n",
       "    </tr>\n",
       "    <tr>\n",
       "      <th>4</th>\n",
       "      <td>11</td>\n",
       "      <td>NaN</td>\n",
       "      <td>NaN</td>\n",
       "      <td>Typhoon Soudelor kills 28 in China and Taiwan</td>\n",
       "    </tr>\n",
       "  </tbody>\n",
       "</table>\n",
       "</div>"
      ],
      "text/plain": [
       "   id keyword location                                               text\n",
       "0   0     NaN      NaN                 Just happened a terrible car crash\n",
       "1   2     NaN      NaN  Heard about #earthquake is different cities, s...\n",
       "2   3     NaN      NaN  there is a forest fire at spot pond, geese are...\n",
       "3   9     NaN      NaN           Apocalypse lighting. #Spokane #wildfires\n",
       "4  11     NaN      NaN      Typhoon Soudelor kills 28 in China and Taiwan"
      ]
     },
     "execution_count": 5,
     "metadata": {},
     "output_type": "execute_result"
    }
   ],
   "source": [
    "test_df.head()"
   ]
  },
  {
   "cell_type": "code",
   "execution_count": 6,
   "id": "c0e2bd9d",
   "metadata": {
    "execution": {
     "iopub.execute_input": "2022-11-23T12:04:05.381366Z",
     "iopub.status.busy": "2022-11-23T12:04:05.380887Z",
     "iopub.status.idle": "2022-11-23T12:04:05.390647Z",
     "shell.execute_reply": "2022-11-23T12:04:05.390090Z"
    },
    "papermill": {
     "duration": 0.016168,
     "end_time": "2022-11-23T12:04:05.392240",
     "exception": false,
     "start_time": "2022-11-23T12:04:05.376072",
     "status": "completed"
    },
    "tags": []
   },
   "outputs": [
    {
     "data": {
      "text/plain": [
       "array([\"What's up man?\", 'I love fruits', 'Summer is lovely', ...,\n",
       "       'These boxes are ready to explode! Exploding Kittens finally arrived! gameofkittens #explodingkittens\\x89Û_ https://t.co/TFGrAyuDC5',\n",
       "       'Sirens everywhere!',\n",
       "       'I just heard a really loud bang and everyone is asleep great'],\n",
       "      dtype=object)"
      ]
     },
     "execution_count": 6,
     "metadata": {},
     "output_type": "execute_result"
    }
   ],
   "source": [
    "train_df[train_df[\"target\"] == 0][\"text\"].values"
   ]
  },
  {
   "cell_type": "markdown",
   "id": "29bf85f5",
   "metadata": {
    "papermill": {
     "duration": 0.003928,
     "end_time": "2022-11-23T12:04:05.400368",
     "exception": false,
     "start_time": "2022-11-23T12:04:05.396440",
     "status": "completed"
    },
    "tags": []
   },
   "source": [
    "# Building the model\n",
    "\n",
    "Unlike other machine learning model, we need to focus only on one single dataframe, i.e \"Text\". \n",
    "\n",
    "We are considering each data in a text as a tweet ,and we need to classify each tweet as '**disaster type**' or **not**."
   ]
  },
  {
   "cell_type": "code",
   "execution_count": 7,
   "id": "de57e83f",
   "metadata": {
    "execution": {
     "iopub.execute_input": "2022-11-23T12:04:05.410105Z",
     "iopub.status.busy": "2022-11-23T12:04:05.409707Z",
     "iopub.status.idle": "2022-11-23T12:04:05.419298Z",
     "shell.execute_reply": "2022-11-23T12:04:05.418341Z"
    },
    "papermill": {
     "duration": 0.018044,
     "end_time": "2022-11-23T12:04:05.422497",
     "exception": false,
     "start_time": "2022-11-23T12:04:05.404453",
     "status": "completed"
    },
    "tags": []
   },
   "outputs": [
    {
     "name": "stdout",
     "output_type": "stream",
     "text": [
      "(1, 54)\n"
     ]
    }
   ],
   "source": [
    "count_vectorizer = feature_extraction.text.CountVectorizer()\n",
    "\n",
    "## let's get counts for the first 5 tweets in the data\n",
    "example_train_vectors = count_vectorizer.fit_transform(train_df[\"text\"][0:5])\n",
    "\n",
    "print(example_train_vectors[0].todense().shape)"
   ]
  },
  {
   "cell_type": "code",
   "execution_count": 8,
   "id": "5d02b929",
   "metadata": {
    "execution": {
     "iopub.execute_input": "2022-11-23T12:04:05.434111Z",
     "iopub.status.busy": "2022-11-23T12:04:05.433274Z",
     "iopub.status.idle": "2022-11-23T12:04:05.628109Z",
     "shell.execute_reply": "2022-11-23T12:04:05.627097Z"
    },
    "papermill": {
     "duration": 0.203045,
     "end_time": "2022-11-23T12:04:05.630694",
     "exception": false,
     "start_time": "2022-11-23T12:04:05.427649",
     "status": "completed"
    },
    "tags": []
   },
   "outputs": [],
   "source": [
    "\n",
    "train_vectors = count_vectorizer.fit_transform(train_df[\"text\"])\n",
    "test_vectors = count_vectorizer.transform(test_df[\"text\"])"
   ]
  },
  {
   "cell_type": "code",
   "execution_count": 9,
   "id": "8c28de4c",
   "metadata": {
    "execution": {
     "iopub.execute_input": "2022-11-23T12:04:05.641838Z",
     "iopub.status.busy": "2022-11-23T12:04:05.641470Z",
     "iopub.status.idle": "2022-11-23T12:04:05.646229Z",
     "shell.execute_reply": "2022-11-23T12:04:05.645294Z"
    },
    "papermill": {
     "duration": 0.012467,
     "end_time": "2022-11-23T12:04:05.648028",
     "exception": false,
     "start_time": "2022-11-23T12:04:05.635561",
     "status": "completed"
    },
    "tags": []
   },
   "outputs": [],
   "source": [
    "# Creating Ridge Classifier object\n",
    "clf = linear_model.RidgeClassifier()"
   ]
  },
  {
   "cell_type": "code",
   "execution_count": 10,
   "id": "948536e6",
   "metadata": {
    "execution": {
     "iopub.execute_input": "2022-11-23T12:04:05.659366Z",
     "iopub.status.busy": "2022-11-23T12:04:05.658567Z",
     "iopub.status.idle": "2022-11-23T12:04:05.935131Z",
     "shell.execute_reply": "2022-11-23T12:04:05.934252Z"
    },
    "papermill": {
     "duration": 0.28413,
     "end_time": "2022-11-23T12:04:05.937149",
     "exception": false,
     "start_time": "2022-11-23T12:04:05.653019",
     "status": "completed"
    },
    "tags": []
   },
   "outputs": [
    {
     "data": {
      "text/plain": [
       "array([0.59421842, 0.56498283, 0.64113893])"
      ]
     },
     "execution_count": 10,
     "metadata": {},
     "output_type": "execute_result"
    }
   ],
   "source": [
    "scores = model_selection.cross_val_score(clf, train_vectors, train_df[\"target\"], cv=3, scoring=\"f1\")\n",
    "scores"
   ]
  },
  {
   "cell_type": "code",
   "execution_count": 11,
   "id": "9095bb75",
   "metadata": {
    "execution": {
     "iopub.execute_input": "2022-11-23T12:04:05.951863Z",
     "iopub.status.busy": "2022-11-23T12:04:05.951481Z",
     "iopub.status.idle": "2022-11-23T12:04:06.094842Z",
     "shell.execute_reply": "2022-11-23T12:04:06.094064Z"
    },
    "papermill": {
     "duration": 0.152459,
     "end_time": "2022-11-23T12:04:06.096708",
     "exception": false,
     "start_time": "2022-11-23T12:04:05.944249",
     "status": "completed"
    },
    "tags": []
   },
   "outputs": [
    {
     "data": {
      "text/plain": [
       "RidgeClassifier()"
      ]
     },
     "execution_count": 11,
     "metadata": {},
     "output_type": "execute_result"
    }
   ],
   "source": [
    "clf.fit(train_vectors, train_df[\"target\"])"
   ]
  },
  {
   "cell_type": "code",
   "execution_count": 12,
   "id": "b428ab3a",
   "metadata": {
    "execution": {
     "iopub.execute_input": "2022-11-23T12:04:06.110022Z",
     "iopub.status.busy": "2022-11-23T12:04:06.109696Z",
     "iopub.status.idle": "2022-11-23T12:04:06.118743Z",
     "shell.execute_reply": "2022-11-23T12:04:06.117979Z"
    },
    "papermill": {
     "duration": 0.018156,
     "end_time": "2022-11-23T12:04:06.120597",
     "exception": false,
     "start_time": "2022-11-23T12:04:06.102441",
     "status": "completed"
    },
    "tags": []
   },
   "outputs": [
    {
     "data": {
      "text/html": [
       "<div>\n",
       "<style scoped>\n",
       "    .dataframe tbody tr th:only-of-type {\n",
       "        vertical-align: middle;\n",
       "    }\n",
       "\n",
       "    .dataframe tbody tr th {\n",
       "        vertical-align: top;\n",
       "    }\n",
       "\n",
       "    .dataframe thead th {\n",
       "        text-align: right;\n",
       "    }\n",
       "</style>\n",
       "<table border=\"1\" class=\"dataframe\">\n",
       "  <thead>\n",
       "    <tr style=\"text-align: right;\">\n",
       "      <th></th>\n",
       "      <th>id</th>\n",
       "      <th>target</th>\n",
       "    </tr>\n",
       "  </thead>\n",
       "  <tbody>\n",
       "    <tr>\n",
       "      <th>0</th>\n",
       "      <td>0</td>\n",
       "      <td>0</td>\n",
       "    </tr>\n",
       "    <tr>\n",
       "      <th>1</th>\n",
       "      <td>2</td>\n",
       "      <td>1</td>\n",
       "    </tr>\n",
       "    <tr>\n",
       "      <th>2</th>\n",
       "      <td>3</td>\n",
       "      <td>1</td>\n",
       "    </tr>\n",
       "    <tr>\n",
       "      <th>3</th>\n",
       "      <td>9</td>\n",
       "      <td>0</td>\n",
       "    </tr>\n",
       "    <tr>\n",
       "      <th>4</th>\n",
       "      <td>11</td>\n",
       "      <td>1</td>\n",
       "    </tr>\n",
       "  </tbody>\n",
       "</table>\n",
       "</div>"
      ],
      "text/plain": [
       "   id  target\n",
       "0   0       0\n",
       "1   2       1\n",
       "2   3       1\n",
       "3   9       0\n",
       "4  11       1"
      ]
     },
     "execution_count": 12,
     "metadata": {},
     "output_type": "execute_result"
    }
   ],
   "source": [
    "submission_csv[\"target\"] = clf.predict(test_vectors)\n",
    "submission_csv.head()"
   ]
  },
  {
   "cell_type": "markdown",
   "id": "7127befd",
   "metadata": {
    "papermill": {
     "duration": 0.005505,
     "end_time": "2022-11-23T12:04:06.131806",
     "exception": false,
     "start_time": "2022-11-23T12:04:06.126301",
     "status": "completed"
    },
    "tags": []
   },
   "source": [
    "Atlast, the output dataframe can be generated into a CSV file for easier access."
   ]
  },
  {
   "cell_type": "code",
   "execution_count": 13,
   "id": "60884f15",
   "metadata": {
    "execution": {
     "iopub.execute_input": "2022-11-23T12:04:06.144247Z",
     "iopub.status.busy": "2022-11-23T12:04:06.143991Z",
     "iopub.status.idle": "2022-11-23T12:04:06.154990Z",
     "shell.execute_reply": "2022-11-23T12:04:06.154337Z"
    },
    "papermill": {
     "duration": 0.019605,
     "end_time": "2022-11-23T12:04:06.157137",
     "exception": false,
     "start_time": "2022-11-23T12:04:06.137532",
     "status": "completed"
    },
    "tags": []
   },
   "outputs": [],
   "source": [
    "submission_csv.to_csv(\"submission.csv\", index=False)"
   ]
  }
 ],
 "metadata": {
  "kernelspec": {
   "display_name": "Python 3",
   "language": "python",
   "name": "python3"
  },
  "language_info": {
   "codemirror_mode": {
    "name": "ipython",
    "version": 3
   },
   "file_extension": ".py",
   "mimetype": "text/x-python",
   "name": "python",
   "nbconvert_exporter": "python",
   "pygments_lexer": "ipython3",
   "version": "3.7.12"
  },
  "papermill": {
   "default_parameters": {},
   "duration": 9.269506,
   "end_time": "2022-11-23T12:04:06.781052",
   "environment_variables": {},
   "exception": null,
   "input_path": "__notebook__.ipynb",
   "output_path": "__notebook__.ipynb",
   "parameters": {},
   "start_time": "2022-11-23T12:03:57.511546",
   "version": "2.3.4"
  }
 },
 "nbformat": 4,
 "nbformat_minor": 5
}
