{
 "cells": [
  {
   "cell_type": "markdown",
   "id": "663e3dc5",
   "metadata": {
    "papermill": {
     "duration": 0.004871,
     "end_time": "2022-11-22T02:40:00.256126",
     "exception": false,
     "start_time": "2022-11-22T02:40:00.251255",
     "status": "completed"
    },
    "tags": []
   },
   "source": [
    "# Disaster Tweet Identification model using NLP from Twitter\n",
    "\n",
    "### Synopsis\n",
    "\n",
    "From a given set of tweets, we need to identify whether a given tweet is related to disaster or not. \n"
   ]
  },
  {
   "cell_type": "code",
   "execution_count": 1,
   "id": "9daa47e2",
   "metadata": {
    "_cell_guid": "b1076dfc-b9ad-4769-8c92-a6c4dae69d19",
    "_uuid": "8f2839f25d086af736a60e9eeb907d3b93b6e0e5",
    "execution": {
     "iopub.execute_input": "2022-11-22T02:40:00.266609Z",
     "iopub.status.busy": "2022-11-22T02:40:00.265648Z",
     "iopub.status.idle": "2022-11-22T02:40:01.367965Z",
     "shell.execute_reply": "2022-11-22T02:40:01.367009Z"
    },
    "papermill": {
     "duration": 1.11061,
     "end_time": "2022-11-22T02:40:01.370720",
     "exception": false,
     "start_time": "2022-11-22T02:40:00.260110",
     "status": "completed"
    },
    "tags": []
   },
   "outputs": [],
   "source": [
    "# Importing required libraries\n",
    "import numpy as np # linear algebra\n",
    "import pandas as pd # data processing, CSV file I/O (e.g. pd.read_csv)\n",
    "from sklearn import feature_extraction, linear_model, model_selection, preprocessing\n"
   ]
  },
  {
   "cell_type": "markdown",
   "id": "382b354c",
   "metadata": {
    "papermill": {
     "duration": 0.003577,
     "end_time": "2022-11-22T02:40:01.378208",
     "exception": false,
     "start_time": "2022-11-22T02:40:01.374631",
     "status": "completed"
    },
    "tags": []
   },
   "source": [
    "### Input Data\n",
    "\n",
    "Here the dataset we will be using contains an index and its corresponding tweet.\n",
    "\n",
    "training data:\n",
    "- It contains index, tweet and classification\n",
    "- 1, if the tweet is categorised as disaster, otherwise 0"
   ]
  },
  {
   "cell_type": "code",
   "execution_count": 2,
   "id": "6b4f847a",
   "metadata": {
    "execution": {
     "iopub.execute_input": "2022-11-22T02:40:01.386946Z",
     "iopub.status.busy": "2022-11-22T02:40:01.386570Z",
     "iopub.status.idle": "2022-11-22T02:40:01.460308Z",
     "shell.execute_reply": "2022-11-22T02:40:01.459243Z"
    },
    "papermill": {
     "duration": 0.081013,
     "end_time": "2022-11-22T02:40:01.462910",
     "exception": false,
     "start_time": "2022-11-22T02:40:01.381897",
     "status": "completed"
    },
    "tags": []
   },
   "outputs": [],
   "source": [
    "# Creating dataframes from input data\n",
    "train_df = pd.read_csv(\"../input/nlp-getting-started/train.csv\")\n",
    "test_df = pd.read_csv(\"../input/nlp-getting-started/test.csv\")"
   ]
  },
  {
   "cell_type": "code",
   "execution_count": 3,
   "id": "1c4cda48",
   "metadata": {
    "execution": {
     "iopub.execute_input": "2022-11-22T02:40:01.471942Z",
     "iopub.status.busy": "2022-11-22T02:40:01.471609Z",
     "iopub.status.idle": "2022-11-22T02:40:01.493779Z",
     "shell.execute_reply": "2022-11-22T02:40:01.492760Z"
    },
    "papermill": {
     "duration": 0.029589,
     "end_time": "2022-11-22T02:40:01.496396",
     "exception": false,
     "start_time": "2022-11-22T02:40:01.466807",
     "status": "completed"
    },
    "tags": []
   },
   "outputs": [
    {
     "data": {
      "text/html": [
       "<div>\n",
       "<style scoped>\n",
       "    .dataframe tbody tr th:only-of-type {\n",
       "        vertical-align: middle;\n",
       "    }\n",
       "\n",
       "    .dataframe tbody tr th {\n",
       "        vertical-align: top;\n",
       "    }\n",
       "\n",
       "    .dataframe thead th {\n",
       "        text-align: right;\n",
       "    }\n",
       "</style>\n",
       "<table border=\"1\" class=\"dataframe\">\n",
       "  <thead>\n",
       "    <tr style=\"text-align: right;\">\n",
       "      <th></th>\n",
       "      <th>id</th>\n",
       "      <th>target</th>\n",
       "    </tr>\n",
       "  </thead>\n",
       "  <tbody>\n",
       "    <tr>\n",
       "      <th>0</th>\n",
       "      <td>0</td>\n",
       "      <td>0</td>\n",
       "    </tr>\n",
       "    <tr>\n",
       "      <th>1</th>\n",
       "      <td>2</td>\n",
       "      <td>0</td>\n",
       "    </tr>\n",
       "    <tr>\n",
       "      <th>2</th>\n",
       "      <td>3</td>\n",
       "      <td>0</td>\n",
       "    </tr>\n",
       "    <tr>\n",
       "      <th>3</th>\n",
       "      <td>9</td>\n",
       "      <td>0</td>\n",
       "    </tr>\n",
       "    <tr>\n",
       "      <th>4</th>\n",
       "      <td>11</td>\n",
       "      <td>0</td>\n",
       "    </tr>\n",
       "  </tbody>\n",
       "</table>\n",
       "</div>"
      ],
      "text/plain": [
       "   id  target\n",
       "0   0       0\n",
       "1   2       0\n",
       "2   3       0\n",
       "3   9       0\n",
       "4  11       0"
      ]
     },
     "execution_count": 3,
     "metadata": {},
     "output_type": "execute_result"
    }
   ],
   "source": [
    "submission_csv=pd.read_csv(\"../input/nlp-getting-started/sample_submission.csv\")\n",
    "submission_csv.head()"
   ]
  },
  {
   "cell_type": "code",
   "execution_count": 4,
   "id": "48f7aeed",
   "metadata": {
    "execution": {
     "iopub.execute_input": "2022-11-22T02:40:01.506817Z",
     "iopub.status.busy": "2022-11-22T02:40:01.506146Z",
     "iopub.status.idle": "2022-11-22T02:40:01.521907Z",
     "shell.execute_reply": "2022-11-22T02:40:01.519851Z"
    },
    "papermill": {
     "duration": 0.02435,
     "end_time": "2022-11-22T02:40:01.524978",
     "exception": false,
     "start_time": "2022-11-22T02:40:01.500628",
     "status": "completed"
    },
    "tags": []
   },
   "outputs": [
    {
     "data": {
      "text/html": [
       "<div>\n",
       "<style scoped>\n",
       "    .dataframe tbody tr th:only-of-type {\n",
       "        vertical-align: middle;\n",
       "    }\n",
       "\n",
       "    .dataframe tbody tr th {\n",
       "        vertical-align: top;\n",
       "    }\n",
       "\n",
       "    .dataframe thead th {\n",
       "        text-align: right;\n",
       "    }\n",
       "</style>\n",
       "<table border=\"1\" class=\"dataframe\">\n",
       "  <thead>\n",
       "    <tr style=\"text-align: right;\">\n",
       "      <th></th>\n",
       "      <th>id</th>\n",
       "      <th>keyword</th>\n",
       "      <th>location</th>\n",
       "      <th>text</th>\n",
       "    </tr>\n",
       "  </thead>\n",
       "  <tbody>\n",
       "    <tr>\n",
       "      <th>0</th>\n",
       "      <td>0</td>\n",
       "      <td>NaN</td>\n",
       "      <td>NaN</td>\n",
       "      <td>Just happened a terrible car crash</td>\n",
       "    </tr>\n",
       "    <tr>\n",
       "      <th>1</th>\n",
       "      <td>2</td>\n",
       "      <td>NaN</td>\n",
       "      <td>NaN</td>\n",
       "      <td>Heard about #earthquake is different cities, s...</td>\n",
       "    </tr>\n",
       "    <tr>\n",
       "      <th>2</th>\n",
       "      <td>3</td>\n",
       "      <td>NaN</td>\n",
       "      <td>NaN</td>\n",
       "      <td>there is a forest fire at spot pond, geese are...</td>\n",
       "    </tr>\n",
       "    <tr>\n",
       "      <th>3</th>\n",
       "      <td>9</td>\n",
       "      <td>NaN</td>\n",
       "      <td>NaN</td>\n",
       "      <td>Apocalypse lighting. #Spokane #wildfires</td>\n",
       "    </tr>\n",
       "    <tr>\n",
       "      <th>4</th>\n",
       "      <td>11</td>\n",
       "      <td>NaN</td>\n",
       "      <td>NaN</td>\n",
       "      <td>Typhoon Soudelor kills 28 in China and Taiwan</td>\n",
       "    </tr>\n",
       "  </tbody>\n",
       "</table>\n",
       "</div>"
      ],
      "text/plain": [
       "   id keyword location                                               text\n",
       "0   0     NaN      NaN                 Just happened a terrible car crash\n",
       "1   2     NaN      NaN  Heard about #earthquake is different cities, s...\n",
       "2   3     NaN      NaN  there is a forest fire at spot pond, geese are...\n",
       "3   9     NaN      NaN           Apocalypse lighting. #Spokane #wildfires\n",
       "4  11     NaN      NaN      Typhoon Soudelor kills 28 in China and Taiwan"
      ]
     },
     "execution_count": 4,
     "metadata": {},
     "output_type": "execute_result"
    }
   ],
   "source": [
    "test_df.head()"
   ]
  },
  {
   "cell_type": "code",
   "execution_count": 5,
   "id": "eca9eb91",
   "metadata": {
    "execution": {
     "iopub.execute_input": "2022-11-22T02:40:01.535792Z",
     "iopub.status.busy": "2022-11-22T02:40:01.535403Z",
     "iopub.status.idle": "2022-11-22T02:40:01.548009Z",
     "shell.execute_reply": "2022-11-22T02:40:01.547237Z"
    },
    "papermill": {
     "duration": 0.02078,
     "end_time": "2022-11-22T02:40:01.550818",
     "exception": false,
     "start_time": "2022-11-22T02:40:01.530038",
     "status": "completed"
    },
    "tags": []
   },
   "outputs": [
    {
     "data": {
      "text/plain": [
       "array([\"What's up man?\", 'I love fruits', 'Summer is lovely', ...,\n",
       "       'These boxes are ready to explode! Exploding Kittens finally arrived! gameofkittens #explodingkittens\\x89Û_ https://t.co/TFGrAyuDC5',\n",
       "       'Sirens everywhere!',\n",
       "       'I just heard a really loud bang and everyone is asleep great'],\n",
       "      dtype=object)"
      ]
     },
     "execution_count": 5,
     "metadata": {},
     "output_type": "execute_result"
    }
   ],
   "source": [
    "train_df[train_df[\"target\"] == 0][\"text\"].values"
   ]
  },
  {
   "cell_type": "markdown",
   "id": "ac4b4ebc",
   "metadata": {
    "papermill": {
     "duration": 0.005254,
     "end_time": "2022-11-22T02:40:01.563296",
     "exception": false,
     "start_time": "2022-11-22T02:40:01.558042",
     "status": "completed"
    },
    "tags": []
   },
   "source": [
    "# Building the model\n",
    "\n",
    "Unlike other machine learning model, we need to focus only on one single dataframe, i.e \"Text\". \n",
    "\n",
    "We are considering each data in a text as a tweet ,and we need to classify each tweet as '**disaster type**' or **not**."
   ]
  },
  {
   "cell_type": "code",
   "execution_count": 6,
   "id": "450f9a5d",
   "metadata": {
    "execution": {
     "iopub.execute_input": "2022-11-22T02:40:01.575737Z",
     "iopub.status.busy": "2022-11-22T02:40:01.575023Z",
     "iopub.status.idle": "2022-11-22T02:40:01.587076Z",
     "shell.execute_reply": "2022-11-22T02:40:01.585598Z"
    },
    "papermill": {
     "duration": 0.021331,
     "end_time": "2022-11-22T02:40:01.590658",
     "exception": false,
     "start_time": "2022-11-22T02:40:01.569327",
     "status": "completed"
    },
    "tags": []
   },
   "outputs": [
    {
     "name": "stdout",
     "output_type": "stream",
     "text": [
      "(1, 54)\n"
     ]
    }
   ],
   "source": [
    "count_vectorizer = feature_extraction.text.CountVectorizer()\n",
    "\n",
    "## let's get counts for the first 5 tweets in the data\n",
    "example_train_vectors = count_vectorizer.fit_transform(train_df[\"text\"][0:5])\n",
    "\n",
    "print(example_train_vectors[0].todense().shape)"
   ]
  },
  {
   "cell_type": "code",
   "execution_count": 7,
   "id": "92463bce",
   "metadata": {
    "execution": {
     "iopub.execute_input": "2022-11-22T02:40:01.601662Z",
     "iopub.status.busy": "2022-11-22T02:40:01.601059Z",
     "iopub.status.idle": "2022-11-22T02:40:01.843133Z",
     "shell.execute_reply": "2022-11-22T02:40:01.842179Z"
    },
    "papermill": {
     "duration": 0.250091,
     "end_time": "2022-11-22T02:40:01.845773",
     "exception": false,
     "start_time": "2022-11-22T02:40:01.595682",
     "status": "completed"
    },
    "tags": []
   },
   "outputs": [],
   "source": [
    "train_vectors = count_vectorizer.fit_transform(train_df[\"text\"])\n",
    "test_vectors = count_vectorizer.transform(test_df[\"text\"])"
   ]
  },
  {
   "cell_type": "code",
   "execution_count": 8,
   "id": "92820524",
   "metadata": {
    "execution": {
     "iopub.execute_input": "2022-11-22T02:40:01.856214Z",
     "iopub.status.busy": "2022-11-22T02:40:01.855875Z",
     "iopub.status.idle": "2022-11-22T02:40:01.860375Z",
     "shell.execute_reply": "2022-11-22T02:40:01.859195Z"
    },
    "papermill": {
     "duration": 0.012393,
     "end_time": "2022-11-22T02:40:01.862812",
     "exception": false,
     "start_time": "2022-11-22T02:40:01.850419",
     "status": "completed"
    },
    "tags": []
   },
   "outputs": [],
   "source": [
    "clf = linear_model.RidgeClassifier()"
   ]
  },
  {
   "cell_type": "code",
   "execution_count": 9,
   "id": "db7bb6a9",
   "metadata": {
    "execution": {
     "iopub.execute_input": "2022-11-22T02:40:01.872260Z",
     "iopub.status.busy": "2022-11-22T02:40:01.871925Z",
     "iopub.status.idle": "2022-11-22T02:40:02.406358Z",
     "shell.execute_reply": "2022-11-22T02:40:02.405276Z"
    },
    "papermill": {
     "duration": 0.543201,
     "end_time": "2022-11-22T02:40:02.410087",
     "exception": false,
     "start_time": "2022-11-22T02:40:01.866886",
     "status": "completed"
    },
    "tags": []
   },
   "outputs": [
    {
     "data": {
      "text/plain": [
       "array([0.59421842, 0.56498283, 0.64113893])"
      ]
     },
     "execution_count": 9,
     "metadata": {},
     "output_type": "execute_result"
    }
   ],
   "source": [
    "scores = model_selection.cross_val_score(clf, train_vectors, train_df[\"target\"], cv=3, scoring=\"f1\")\n",
    "scores"
   ]
  },
  {
   "cell_type": "code",
   "execution_count": 10,
   "id": "fc267b0a",
   "metadata": {
    "execution": {
     "iopub.execute_input": "2022-11-22T02:40:02.434270Z",
     "iopub.status.busy": "2022-11-22T02:40:02.433683Z",
     "iopub.status.idle": "2022-11-22T02:40:02.723329Z",
     "shell.execute_reply": "2022-11-22T02:40:02.721830Z"
    },
    "papermill": {
     "duration": 0.306733,
     "end_time": "2022-11-22T02:40:02.728011",
     "exception": false,
     "start_time": "2022-11-22T02:40:02.421278",
     "status": "completed"
    },
    "tags": []
   },
   "outputs": [
    {
     "data": {
      "text/plain": [
       "RidgeClassifier()"
      ]
     },
     "execution_count": 10,
     "metadata": {},
     "output_type": "execute_result"
    }
   ],
   "source": [
    "clf.fit(train_vectors, train_df[\"target\"])"
   ]
  },
  {
   "cell_type": "code",
   "execution_count": 11,
   "id": "fa36ff80",
   "metadata": {
    "execution": {
     "iopub.execute_input": "2022-11-22T02:40:02.752842Z",
     "iopub.status.busy": "2022-11-22T02:40:02.752199Z",
     "iopub.status.idle": "2022-11-22T02:40:02.776958Z",
     "shell.execute_reply": "2022-11-22T02:40:02.775523Z"
    },
    "papermill": {
     "duration": 0.041345,
     "end_time": "2022-11-22T02:40:02.781056",
     "exception": false,
     "start_time": "2022-11-22T02:40:02.739711",
     "status": "completed"
    },
    "tags": []
   },
   "outputs": [
    {
     "data": {
      "text/html": [
       "<div>\n",
       "<style scoped>\n",
       "    .dataframe tbody tr th:only-of-type {\n",
       "        vertical-align: middle;\n",
       "    }\n",
       "\n",
       "    .dataframe tbody tr th {\n",
       "        vertical-align: top;\n",
       "    }\n",
       "\n",
       "    .dataframe thead th {\n",
       "        text-align: right;\n",
       "    }\n",
       "</style>\n",
       "<table border=\"1\" class=\"dataframe\">\n",
       "  <thead>\n",
       "    <tr style=\"text-align: right;\">\n",
       "      <th></th>\n",
       "      <th>id</th>\n",
       "      <th>target</th>\n",
       "    </tr>\n",
       "  </thead>\n",
       "  <tbody>\n",
       "    <tr>\n",
       "      <th>0</th>\n",
       "      <td>0</td>\n",
       "      <td>0</td>\n",
       "    </tr>\n",
       "    <tr>\n",
       "      <th>1</th>\n",
       "      <td>2</td>\n",
       "      <td>1</td>\n",
       "    </tr>\n",
       "    <tr>\n",
       "      <th>2</th>\n",
       "      <td>3</td>\n",
       "      <td>1</td>\n",
       "    </tr>\n",
       "    <tr>\n",
       "      <th>3</th>\n",
       "      <td>9</td>\n",
       "      <td>0</td>\n",
       "    </tr>\n",
       "    <tr>\n",
       "      <th>4</th>\n",
       "      <td>11</td>\n",
       "      <td>1</td>\n",
       "    </tr>\n",
       "  </tbody>\n",
       "</table>\n",
       "</div>"
      ],
      "text/plain": [
       "   id  target\n",
       "0   0       0\n",
       "1   2       1\n",
       "2   3       1\n",
       "3   9       0\n",
       "4  11       1"
      ]
     },
     "execution_count": 11,
     "metadata": {},
     "output_type": "execute_result"
    }
   ],
   "source": [
    "submission_csv[\"target\"] = clf.predict(test_vectors)\n",
    "submission_csv.head()"
   ]
  },
  {
   "cell_type": "code",
   "execution_count": 12,
   "id": "c1410a70",
   "metadata": {
    "execution": {
     "iopub.execute_input": "2022-11-22T02:40:02.807538Z",
     "iopub.status.busy": "2022-11-22T02:40:02.806903Z",
     "iopub.status.idle": "2022-11-22T02:40:02.830337Z",
     "shell.execute_reply": "2022-11-22T02:40:02.828871Z"
    },
    "papermill": {
     "duration": 0.039742,
     "end_time": "2022-11-22T02:40:02.833381",
     "exception": false,
     "start_time": "2022-11-22T02:40:02.793639",
     "status": "completed"
    },
    "tags": []
   },
   "outputs": [],
   "source": [
    "submission_csv.to_csv(\"submission.csv\", index=False)"
   ]
  }
 ],
 "metadata": {
  "kernelspec": {
   "display_name": "Python 3",
   "language": "python",
   "name": "python3"
  },
  "language_info": {
   "codemirror_mode": {
    "name": "ipython",
    "version": 3
   },
   "file_extension": ".py",
   "mimetype": "text/x-python",
   "name": "python",
   "nbconvert_exporter": "python",
   "pygments_lexer": "ipython3",
   "version": "3.7.12"
  },
  "papermill": {
   "default_parameters": {},
   "duration": 11.27876,
   "end_time": "2022-11-22T02:40:03.559953",
   "environment_variables": {},
   "exception": null,
   "input_path": "__notebook__.ipynb",
   "output_path": "__notebook__.ipynb",
   "parameters": {},
   "start_time": "2022-11-22T02:39:52.281193",
   "version": "2.3.4"
  }
 },
 "nbformat": 4,
 "nbformat_minor": 5
}
