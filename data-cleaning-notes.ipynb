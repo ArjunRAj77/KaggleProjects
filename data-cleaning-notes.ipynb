{
 "cells": [
  {
   "cell_type": "markdown",
   "id": "1e12fc88",
   "metadata": {
    "papermill": {
     "duration": 0.005464,
     "end_time": "2022-10-09T18:36:21.024145",
     "exception": false,
     "start_time": "2022-10-09T18:36:21.018681",
     "status": "completed"
    },
    "tags": []
   },
   "source": [
    "# Data Cleaning\n",
    "\n",
    "Data cleaning is one of the key parts of the data science, as it can greatly impact the accuracy of the model. It is essential to provide a model with most accurate data as possible.\n",
    "\n",
    "\n",
    "We use data cleaning for the following purposes:\n",
    "- if data contains missing fields\n",
    "- if data contains different presentation of the same value(in different lower cases etc, eg: Earth, earth, EARth...)\n",
    "\n",
    "So as a first step, we will find out the percentage of missing value in the dataset."
   ]
  },
  {
   "cell_type": "code",
   "execution_count": 1,
   "id": "b6c96daa",
   "metadata": {
    "execution": {
     "iopub.execute_input": "2022-10-09T18:36:21.035779Z",
     "iopub.status.busy": "2022-10-09T18:36:21.035203Z",
     "iopub.status.idle": "2022-10-09T18:36:22.345659Z",
     "shell.execute_reply": "2022-10-09T18:36:22.344691Z"
    },
    "papermill": {
     "duration": 1.319302,
     "end_time": "2022-10-09T18:36:22.348264",
     "exception": false,
     "start_time": "2022-10-09T18:36:21.028962",
     "status": "completed"
    },
    "tags": []
   },
   "outputs": [],
   "source": [
    "# modules we'll use\n",
    "import pandas as pd\n",
    "import numpy as np\n",
    "\n",
    "# for Box-Cox Transformation\n",
    "from scipy import stats\n",
    "\n",
    "# for min_max scaling\n",
    "from mlxtend.preprocessing import minmax_scaling\n",
    "# Charater Encoding\n",
    "import chardet\n",
    "\n",
    "# plotting modules\n",
    "import seaborn as sns\n",
    "import matplotlib.pyplot as plt"
   ]
  },
  {
   "cell_type": "markdown",
   "id": "867e6f24",
   "metadata": {
    "papermill": {
     "duration": 0.003955,
     "end_time": "2022-10-09T18:36:22.356707",
     "exception": false,
     "start_time": "2022-10-09T18:36:22.352752",
     "status": "completed"
    },
    "tags": []
   },
   "source": [
    "Now ,let's look at the various methods:"
   ]
  },
  {
   "cell_type": "code",
   "execution_count": 2,
   "id": "53c75bac",
   "metadata": {
    "_cell_guid": "b1076dfc-b9ad-4769-8c92-a6c4dae69d19",
    "_uuid": "8f2839f25d086af736a60e9eeb907d3b93b6e0e5",
    "execution": {
     "iopub.execute_input": "2022-10-09T18:36:22.366917Z",
     "iopub.status.busy": "2022-10-09T18:36:22.366327Z",
     "iopub.status.idle": "2022-10-09T18:36:26.062205Z",
     "shell.execute_reply": "2022-10-09T18:36:26.060994Z"
    },
    "papermill": {
     "duration": 3.70429,
     "end_time": "2022-10-09T18:36:26.065118",
     "exception": false,
     "start_time": "2022-10-09T18:36:22.360828",
     "status": "completed"
    },
    "tags": []
   },
   "outputs": [
    {
     "name": "stderr",
     "output_type": "stream",
     "text": [
      "/opt/conda/lib/python3.7/site-packages/IPython/core/interactiveshell.py:3552: DtypeWarning: Columns (22,32) have mixed types.Specify dtype option on import or set low_memory=False.\n",
      "  exec(code_obj, self.user_global_ns, self.user_ns)\n"
     ]
    }
   ],
   "source": [
    "\n",
    "# read in all our data\n",
    "sf_permits = pd.read_csv(\"../input/building-permit-applications-data/Building_Permits.csv\")\n",
    "\n",
    "# getting the number of missing data\n",
    "missing_values_count = sf_permits.isnull().sum()\n",
    "\n",
    "# how many total missing values do we have?\n",
    "total_cells= np.product(sf_permits.shape)\n",
    "total_missing=missing_values_count.sum()\n",
    "\n",
    "# percent of data that is missing\n",
    "percent_missing = (total_missing/total_cells) * 100"
   ]
  },
  {
   "cell_type": "markdown",
   "id": "0b18fd7d",
   "metadata": {
    "papermill": {
     "duration": 0.004157,
     "end_time": "2022-10-09T18:36:26.074768",
     "exception": false,
     "start_time": "2022-10-09T18:36:26.070611",
     "status": "completed"
    },
    "tags": []
   },
   "source": [
    "The next step would be , **why the data is missing:**\n",
    "\n",
    "- Which, if either, are missing because they don't exist?\n",
    "- Which, if either, are missing because they weren't recorded?\n",
    "\n",
    "**The solution** for this is:\n",
    "\n",
    "- If the amount of data missing in a particular column is high, we can ignore/remove those data columns.\n",
    "- Once that is done, we can also fill in unavailble value with one that comes directly after it or 0.\n"
   ]
  },
  {
   "cell_type": "code",
   "execution_count": 3,
   "id": "02fc32dc",
   "metadata": {
    "execution": {
     "iopub.execute_input": "2022-10-09T18:36:26.085385Z",
     "iopub.status.busy": "2022-10-09T18:36:26.084965Z",
     "iopub.status.idle": "2022-10-09T18:36:27.298793Z",
     "shell.execute_reply": "2022-10-09T18:36:27.297621Z"
    },
    "papermill": {
     "duration": 1.222498,
     "end_time": "2022-10-09T18:36:27.301736",
     "exception": false,
     "start_time": "2022-10-09T18:36:26.079238",
     "status": "completed"
    },
    "tags": []
   },
   "outputs": [],
   "source": [
    "# remove all the rows that contain a missing value\n",
    "columns_with_na_dropped = sf_permits.dropna(axis=1)\n",
    "\n",
    "# Filling the missing fields\n",
    "sf_permits_with_na_imputed = sf_permits.fillna(method='bfill', axis=0).fillna(0)"
   ]
  },
  {
   "cell_type": "markdown",
   "id": "81b7186a",
   "metadata": {
    "papermill": {
     "duration": 0.004205,
     "end_time": "2022-10-09T18:36:27.310646",
     "exception": false,
     "start_time": "2022-10-09T18:36:27.306441",
     "status": "completed"
    },
    "tags": []
   },
   "source": [
    "## Scaling and Normalization\n",
    "\n",
    "The next step is scaling and normalization of current data values.\n",
    "\n",
    "In both cases, you're transforming the values of numeric variables so that the transformed data points have specific helpful properties. The difference is that:\n",
    "- in scaling, you're changing the **range of your data**, while\n",
    "- in normalization, you're changing **the shape of the distribution** of your data.\n",
    "\n",
    "\n",
    "### Scaling\n",
    "Scaling is done when you are you're transforming your data so that it fits within a specific scale, like 0-100 or 0-1.\n"
   ]
  },
  {
   "cell_type": "code",
   "execution_count": 4,
   "id": "a914031d",
   "metadata": {
    "execution": {
     "iopub.execute_input": "2022-10-09T18:36:27.321115Z",
     "iopub.status.busy": "2022-10-09T18:36:27.320724Z",
     "iopub.status.idle": "2022-10-09T18:36:27.834805Z",
     "shell.execute_reply": "2022-10-09T18:36:27.833514Z"
    },
    "papermill": {
     "duration": 0.522027,
     "end_time": "2022-10-09T18:36:27.837050",
     "exception": false,
     "start_time": "2022-10-09T18:36:27.315023",
     "status": "completed"
    },
    "tags": []
   },
   "outputs": [
    {
     "data": {
      "image/png": "[encoded data removed]",
      "text/plain": [
       "<Figure size 1080x216 with 2 Axes>"
      ]
     },
     "metadata": {
      "needs_background": "light"
     },
     "output_type": "display_data"
    }
   ],
   "source": [
    "\n",
    "\n",
    "# generate 1000 data points randomly drawn from an exponential distribution\n",
    "original_data = np.random.exponential(size=1000)\n",
    "\n",
    "# mix-max scale the data between 0 and 1\n",
    "scaled_data = minmax_scaling(original_data, columns=[0])\n",
    "\n",
    "# plot both together to compare\n",
    "fig, ax = plt.subplots(1, 2, figsize=(15, 3))\n",
    "sns.histplot(original_data, ax=ax[0], kde=True, legend=False)\n",
    "ax[0].set_title(\"Original Data\")\n",
    "sns.histplot(scaled_data, ax=ax[1], kde=True, legend=False)\n",
    "ax[1].set_title(\"Scaled data\")\n",
    "plt.show()"
   ]
  },
  {
   "cell_type": "markdown",
   "id": "286b8ff3",
   "metadata": {
    "papermill": {
     "duration": 0.004764,
     "end_time": "2022-10-09T18:36:27.846809",
     "exception": false,
     "start_time": "2022-10-09T18:36:27.842045",
     "status": "completed"
    },
    "tags": []
   },
   "source": [
    "### Normalization\n",
    "\n",
    "The point of normalization is to change your observations so that they can be described as a normal distribution.\n",
    "Here we are using Box-Cox Transformation.\n",
    "> [Box-Cox Transforamtion](https://en.wikipedia.org/wiki/Power_transform#Box%E2%80%93Cox_transformation) transforms our data so that it closely resembles a normal distribution. \n",
    "> In many statistical techniques, we assume that the errors are normally distributed. <br> This assumption allows us to construct confidence intervals and conduct hypothesis tests.\n"
   ]
  },
  {
   "cell_type": "code",
   "execution_count": 5,
   "id": "80756a08",
   "metadata": {
    "execution": {
     "iopub.execute_input": "2022-10-09T18:36:27.858221Z",
     "iopub.status.busy": "2022-10-09T18:36:27.857482Z",
     "iopub.status.idle": "2022-10-09T18:36:28.286307Z",
     "shell.execute_reply": "2022-10-09T18:36:28.285090Z"
    },
    "papermill": {
     "duration": 0.43715,
     "end_time": "2022-10-09T18:36:28.288723",
     "exception": false,
     "start_time": "2022-10-09T18:36:27.851573",
     "status": "completed"
    },
    "tags": []
   },
   "outputs": [
    {
     "data": {
      "image/png": "[encoded data removed]",
      "text/plain": [
       "<Figure size 1080x216 with 2 Axes>"
      ]
     },
     "metadata": {
      "needs_background": "light"
     },
     "output_type": "display_data"
    }
   ],
   "source": [
    "# normalize the exponential data with boxcox\n",
    "normalized_data = stats.boxcox(original_data)\n",
    "\n",
    "# plot both together to compare\n",
    "fig, ax=plt.subplots(1, 2, figsize=(15, 3))\n",
    "sns.histplot(original_data, ax=ax[0], kde=True, legend=False)\n",
    "ax[0].set_title(\"Original Data\")\n",
    "sns.histplot(normalized_data[0], ax=ax[1], kde=True, legend=False)\n",
    "ax[1].set_title(\"Normalized data\")\n",
    "plt.show()"
   ]
  },
  {
   "cell_type": "markdown",
   "id": "579e51ed",
   "metadata": {
    "papermill": {
     "duration": 0.004852,
     "end_time": "2022-10-09T18:36:28.299059",
     "exception": false,
     "start_time": "2022-10-09T18:36:28.294207",
     "status": "completed"
    },
    "tags": []
   },
   "source": [
    "## Parsing Dates\n",
    "\n",
    "In some data sets , dates may be stored as `object` data type rather than `datetime64` format. This can in turn produce anomalies in the final model. \n",
    "\n",
    "Solution:\n",
    "- convert data columns to datetime\n",
    "    ```\n",
    "    landslides['date_parsed'] = pd.to_datetime(landslides['date'], format=\"%m/%d/%y\")\n",
    "    ```"
   ]
  },
  {
   "cell_type": "markdown",
   "id": "9e01a5a3",
   "metadata": {
    "papermill": {
     "duration": 0.005063,
     "end_time": "2022-10-09T18:36:28.309105",
     "exception": false,
     "start_time": "2022-10-09T18:36:28.304042",
     "status": "completed"
    },
    "tags": []
   },
   "source": [
    "- What if I run into an error with multiple date formats? While we're specifying the date format here, sometimes you'll run into an error when there are multiple date formats in a single column. If that happens, you can have pandas try to infer what the right date format should be. You can do that like so:\n",
    "`landslides['date_parsed'] = pd.to_datetime(landslides['Date'], infer_datetime_format=True)`"
   ]
  },
  {
   "cell_type": "markdown",
   "id": "d7c06b4c",
   "metadata": {
    "papermill": {
     "duration": 0.004811,
     "end_time": "2022-10-09T18:36:28.319175",
     "exception": false,
     "start_time": "2022-10-09T18:36:28.314364",
     "status": "completed"
    },
    "tags": []
   },
   "source": [
    "## Character Encodings\n",
    "\n",
    "### What are encodings?\n",
    "\n",
    "**Character encodings** are specific sets of rules for mapping from raw binary byte strings (that look like this: 0110100001101001) to characters that make up human-readable text (like \"hi\"). There are many different encodings, and if you tried to read in text with a different encoding than the one it was originally written in, you ended up with scrambled text called \"mojibake\" (said like mo-gee-bah-kay)\n",
    "\n",
    "**UTF-8** is the standard text encoding. All Python code is in UTF-8 and, ideally, all your data should be as well. It's when things aren't in UTF-8 that you run into trouble.\n",
    "\n",
    "You can convert / encode it into UTF-8 with the following code: \n",
    "`after = sf_permits.encode(\"utf-8\", errors=\"replace\")`\n"
   ]
  },
  {
   "cell_type": "markdown",
   "id": "cddb839d",
   "metadata": {
    "papermill": {
     "duration": 0.004796,
     "end_time": "2022-10-09T18:36:28.329025",
     "exception": false,
     "start_time": "2022-10-09T18:36:28.324229",
     "status": "completed"
    },
    "tags": []
   },
   "source": [
    "There are some cases in which we may not know the actual encoding of the dataset. In that case, we can easily choose `chardet module` python module to automatically identify the right encoding."
   ]
  },
  {
   "cell_type": "code",
   "execution_count": 6,
   "id": "b82a4ea3",
   "metadata": {
    "execution": {
     "iopub.execute_input": "2022-10-09T18:36:28.342005Z",
     "iopub.status.busy": "2022-10-09T18:36:28.341606Z",
     "iopub.status.idle": "2022-10-09T18:36:28.584190Z",
     "shell.execute_reply": "2022-10-09T18:36:28.582991Z"
    },
    "papermill": {
     "duration": 0.251813,
     "end_time": "2022-10-09T18:36:28.586946",
     "exception": false,
     "start_time": "2022-10-09T18:36:28.335133",
     "status": "completed"
    },
    "tags": []
   },
   "outputs": [
    {
     "name": "stdout",
     "output_type": "stream",
     "text": [
      "{'encoding': 'utf-8', 'confidence': 0.7525, 'language': ''}\n"
     ]
    }
   ],
   "source": [
    "# look at the first ten thousand bytes to guess the character encoding\n",
    "with open(\"../input/data-cleaning-challenge-character-encodings/ks-projects-201801-utf8.csv\", 'rb') as rawdata:\n",
    "    result = chardet.detect(rawdata.read(10000))\n",
    "\n",
    "# check what the character encoding might be\n",
    "print(result)"
   ]
  },
  {
   "cell_type": "markdown",
   "id": "7efadc2c",
   "metadata": {
    "papermill": {
     "duration": 0.00498,
     "end_time": "2022-10-09T18:36:28.597251",
     "exception": false,
     "start_time": "2022-10-09T18:36:28.592271",
     "status": "completed"
    },
    "tags": []
   },
   "source": [
    "## Inconsistent Data Entry\n",
    "Efficiently fix typos in your data. There is a high chance that the data can have a number of inconsistencies. \n",
    "This can be solved using few methods:\n",
    "- Converting the data into lower case/upper case (to prevent any non regular case mis matches )\n",
    "- Stripping down extra white spaces in the data\n",
    "- Using `fuzzywuzzy` package to identify similar data entries using fuzzy matching technique.\n",
    "> Fuzzy matching: The process of automatically finding text strings that are very similar to the target string. In general, a string is considered \"closer\" to another one the fewer characters you'd need to change if you were transforming one string into another. So \"apple\" and \"snapple\" are two changes away from each other (add \"s\" and \"n\") while \"in\" and \"on\" and one change away (rplace \"i\" with \"o\"). You won't always be able to rely on fuzzy matching 100%, but it will usually end up saving you at least a little time."
   ]
  },
  {
   "cell_type": "code",
   "execution_count": 7,
   "id": "458e4bf0",
   "metadata": {
    "execution": {
     "iopub.execute_input": "2022-10-09T18:36:28.609248Z",
     "iopub.status.busy": "2022-10-09T18:36:28.608831Z",
     "iopub.status.idle": "2022-10-09T18:36:28.648894Z",
     "shell.execute_reply": "2022-10-09T18:36:28.647976Z"
    },
    "papermill": {
     "duration": 0.048903,
     "end_time": "2022-10-09T18:36:28.651387",
     "exception": false,
     "start_time": "2022-10-09T18:36:28.602484",
     "status": "completed"
    },
    "tags": []
   },
   "outputs": [],
   "source": [
    "# helpful modules\n",
    "import fuzzywuzzy\n",
    "from fuzzywuzzy import process\n",
    "import chardet\n",
    "# Reading Data\n",
    "professors = pd.read_csv(\"../input/pakistan-intellectual-capital/pakistan_intellectual_capital.csv\")\n",
    "# convert to lower case\n",
    "professors['Country'] = professors['Country'].str.lower()\n",
    "# remove trailing white spaces\n",
    "professors['Country'] = professors['Country'].str.strip()\n",
    "\n",
    "# get all the unique values in the 'Country' column\n",
    "countries = professors['Country'].unique()\n",
    "\n",
    "#Checking more similar data using fuzzy matching \n",
    "matches = fuzzywuzzy.process.extract(\"south korea\", countries, limit=10, scorer=fuzzywuzzy.fuzz.token_sort_ratio)"
   ]
  },
  {
   "cell_type": "markdown",
   "id": "1f56ac8c",
   "metadata": {
    "papermill": {
     "duration": 0.005072,
     "end_time": "2022-10-09T18:36:28.661960",
     "exception": false,
     "start_time": "2022-10-09T18:36:28.656888",
     "status": "completed"
    },
    "tags": []
   },
   "source": [
    "The methods to clean the data set depends upon the dataset itself. Yet these common methods can be utilised to produce a proper result."
   ]
  }
 ],
 "metadata": {
  "kernelspec": {
   "display_name": "Python 3",
   "language": "python",
   "name": "python3"
  },
  "language_info": {
   "codemirror_mode": {
    "name": "ipython",
    "version": 3
   },
   "file_extension": ".py",
   "mimetype": "text/x-python",
   "name": "python",
   "nbconvert_exporter": "python",
   "pygments_lexer": "ipython3",
   "version": "3.7.12"
  },
  "papermill": {
   "default_parameters": {},
   "duration": 17.670918,
   "end_time": "2022-10-09T18:36:29.489188",
   "environment_variables": {},
   "exception": null,
   "input_path": "__notebook__.ipynb",
   "output_path": "__notebook__.ipynb",
   "parameters": {},
   "start_time": "2022-10-09T18:36:11.818270",
   "version": "2.3.4"
  }
 },
 "nbformat": 4,
 "nbformat_minor": 5
}
