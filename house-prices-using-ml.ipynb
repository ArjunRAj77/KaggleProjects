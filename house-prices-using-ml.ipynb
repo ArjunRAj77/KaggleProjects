{
 "cells": [
  {
   "cell_type": "code",
   "execution_count": 1,
   "id": "eecf9bbd",
   "metadata": {
    "_cell_guid": "b1076dfc-b9ad-4769-8c92-a6c4dae69d19",
    "_uuid": "8f2839f25d086af736a60e9eeb907d3b93b6e0e5",
    "execution": {
     "iopub.execute_input": "2022-08-27T16:21:58.061298Z",
     "iopub.status.busy": "2022-08-27T16:21:58.060460Z",
     "iopub.status.idle": "2022-08-27T16:21:58.075406Z",
     "shell.execute_reply": "2022-08-27T16:21:58.073991Z"
    },
    "papermill": {
     "duration": 0.022922,
     "end_time": "2022-08-27T16:21:58.078731",
     "exception": false,
     "start_time": "2022-08-27T16:21:58.055809",
     "status": "completed"
    },
    "tags": []
   },
   "outputs": [
    {
     "name": "stdout",
     "output_type": "stream",
     "text": [
      "../input/house-prices-advanced-regression-techniques/sample_submission.csv\n",
      "../input/house-prices-advanced-regression-techniques/data_description.txt\n",
      "../input/house-prices-advanced-regression-techniques/train.csv\n",
      "../input/house-prices-advanced-regression-techniques/test.csv\n"
     ]
    }
   ],
   "source": [
    "# This Python 3 environment comes with many helpful analytics libraries installed\n",
    "# It is defined by the kaggle/python Docker image: https://github.com/kaggle/docker-python\n",
    "# For example, here's several helpful packages to load\n",
    "\n",
    "import numpy as np # linear algebra\n",
    "import pandas as pd # data processing, CSV file I/O (e.g. pd.read_csv)\n",
    "\n",
    "# Input data files are available in the read-only \"../input/\" directory\n",
    "# For example, running this (by clicking run or pressing Shift+Enter) will list all files under the input directory\n",
    "\n",
    "import os\n",
    "for dirname, _, filenames in os.walk('../input/house-prices-advanced-regression-techniques'):\n",
    "    for filename in filenames:\n",
    "        print(os.path.join(dirname, filename))\n",
    "\n",
    "# You can write up to 20GB to the current directory (/kaggle/working/) that gets preserved as output when you create a version using \"Save & Run All\" \n",
    "# You can also write temporary files to /kaggle/temp/, but they won't be saved outside of the current session"
   ]
  },
  {
   "cell_type": "code",
   "execution_count": 2,
   "id": "3dcdbcda",
   "metadata": {
    "execution": {
     "iopub.execute_input": "2022-08-27T16:21:58.084822Z",
     "iopub.status.busy": "2022-08-27T16:21:58.084135Z",
     "iopub.status.idle": "2022-08-27T16:22:00.371286Z",
     "shell.execute_reply": "2022-08-27T16:22:00.369577Z"
    },
    "papermill": {
     "duration": 2.294398,
     "end_time": "2022-08-27T16:22:00.375281",
     "exception": false,
     "start_time": "2022-08-27T16:21:58.080883",
     "status": "completed"
    },
    "tags": []
   },
   "outputs": [
    {
     "name": "stdout",
     "output_type": "stream",
     "text": [
      "Your submission was successfully completed!\n",
      "Validation MAE for Random Forest Model: 78,239\n"
     ]
    }
   ],
   "source": [
    "# Import helpful libraries\n",
    "import pandas as pd\n",
    "from sklearn.ensemble import RandomForestRegressor\n",
    "from sklearn.metrics import mean_absolute_error\n",
    "from sklearn.model_selection import train_test_split\n",
    "\n",
    "# Load the data, and separate the target\n",
    "iowa_file_path = '../input/house-prices-advanced-regression-techniques/train.csv'\n",
    "\n",
    "home_data = pd.read_csv(iowa_file_path)\n",
    "y = home_data.SalePrice\n",
    "\n",
    "\n",
    "# Create X \n",
    "features = ['LotArea','MSSubClass', 'YearBuilt', '1stFlrSF', '2ndFlrSF', 'FullBath', 'BedroomAbvGr', 'TotRmsAbvGrd','LotFrontage','OverallQual','OverallCond','YearRemodAdd']\n",
    "\n",
    "# Creating X based on features\n",
    "X = home_data[features]\n",
    "X=X.fillna(0)\n",
    "#Dropping the extra row\n",
    "y=y.drop(1459)\n",
    "X=X.drop(1459)\n",
    "\n",
    "#Loading the test data\n",
    "test_data = pd.read_csv(\"../input/house-prices-advanced-regression-techniques/test.csv\")\n",
    "test_data.head()\n",
    "test_X = test_data[features]\n",
    "test_X=test_X.fillna(0)\n",
    "test_X.head()\n",
    "\n",
    "# Define a random forest model\n",
    "rf_model = RandomForestRegressor(random_state=1)\n",
    "rf_model.fit(X, y)\n",
    "\n",
    "#Predicting the output\n",
    "rf_val_predictions = rf_model.predict(test_X)\n",
    "\n",
    "#Printing the output\n",
    "output = pd.DataFrame({'Id': test_data.Id, 'SalePrice': rf_val_predictions})\n",
    "output.to_csv('submission.csv', index=False)\n",
    "print(\"Your submission was successfully completed!\")\n",
    "\n",
    "#Identifying the RMSE\n",
    "rf_val_mae = mean_absolute_error(rf_val_predictions, y)\n",
    "\n",
    "print(\"Validation MAE for Random Forest Model: {:,.0f}\".format(rf_val_mae))"
   ]
  }
 ],
 "metadata": {
  "kernelspec": {
   "display_name": "Python 3",
   "language": "python",
   "name": "python3"
  },
  "language_info": {
   "codemirror_mode": {
    "name": "ipython",
    "version": 3
   },
   "file_extension": ".py",
   "mimetype": "text/x-python",
   "name": "python",
   "nbconvert_exporter": "python",
   "pygments_lexer": "ipython3",
   "version": "3.7.12"
  },
  "papermill": {
   "default_parameters": {},
   "duration": 12.505626,
   "end_time": "2022-08-27T16:22:01.201312",
   "environment_variables": {},
   "exception": null,
   "input_path": "__notebook__.ipynb",
   "output_path": "__notebook__.ipynb",
   "parameters": {},
   "start_time": "2022-08-27T16:21:48.695686",
   "version": "2.3.4"
  }
 },
 "nbformat": 4,
 "nbformat_minor": 5
}
