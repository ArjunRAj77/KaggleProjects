{
 "cells": [
  {
   "cell_type": "markdown",
   "id": "b9f0940b",
   "metadata": {
    "papermill": {
     "duration": 0.016137,
     "end_time": "2022-09-11T19:11:27.721894",
     "exception": false,
     "start_time": "2022-09-11T19:11:27.705757",
     "status": "completed"
    },
    "tags": []
   },
   "source": [
    "# Pandas\n",
    "\n",
    "# Introduction\n",
    "\n",
    " **Pandas** is a fast, powerful, flexible and easy to use open source data analysis and manipulation tool,\n",
    " built on top of the Python programming language.\n",
    "\n",
    "# Getting Started\n",
    "\n",
    "To use pandas, you'll typically start with the following line of code."
   ]
  },
  {
   "cell_type": "code",
   "execution_count": 1,
   "id": "6da6ef3b",
   "metadata": {
    "execution": {
     "iopub.execute_input": "2022-09-11T19:11:27.752952Z",
     "iopub.status.busy": "2022-09-11T19:11:27.751889Z",
     "iopub.status.idle": "2022-09-11T19:11:27.766021Z",
     "shell.execute_reply": "2022-09-11T19:11:27.764748Z"
    },
    "papermill": {
     "duration": 0.032961,
     "end_time": "2022-09-11T19:11:27.768943",
     "exception": false,
     "start_time": "2022-09-11T19:11:27.735982",
     "status": "completed"
    },
    "tags": []
   },
   "outputs": [],
   "source": [
    "import pandas as pd"
   ]
  },
  {
   "cell_type": "markdown",
   "id": "cdf701cb",
   "metadata": {
    "papermill": {
     "duration": 0.013861,
     "end_time": "2022-09-11T19:11:27.799398",
     "exception": false,
     "start_time": "2022-09-11T19:11:27.785537",
     "status": "completed"
    },
    "tags": []
   },
   "source": [
    "# Creating data\n",
    "There are two core objects in pandas: \n",
    "-  **DataFrame** \n",
    "-  **Series** \n",
    "\n",
    "### Dataframe\n",
    "\n",
    "A DataFrame is a **table**. It contains an array of individual entries, each of which has a certain value. \n",
    "<br /> Each entry corresponds to a row (or record) and a column."
   ]
  },
  {
   "cell_type": "code",
   "execution_count": 2,
   "id": "9b414fc8",
   "metadata": {
    "execution": {
     "iopub.execute_input": "2022-09-11T19:11:27.830454Z",
     "iopub.status.busy": "2022-09-11T19:11:27.829744Z",
     "iopub.status.idle": "2022-09-11T19:11:27.853384Z",
     "shell.execute_reply": "2022-09-11T19:11:27.852587Z"
    },
    "papermill": {
     "duration": 0.042356,
     "end_time": "2022-09-11T19:11:27.855872",
     "exception": false,
     "start_time": "2022-09-11T19:11:27.813516",
     "status": "completed"
    },
    "tags": []
   },
   "outputs": [
    {
     "data": {
      "text/html": [
       "<div>\n",
       "<style scoped>\n",
       "    .dataframe tbody tr th:only-of-type {\n",
       "        vertical-align: middle;\n",
       "    }\n",
       "\n",
       "    .dataframe tbody tr th {\n",
       "        vertical-align: top;\n",
       "    }\n",
       "\n",
       "    .dataframe thead th {\n",
       "        text-align: right;\n",
       "    }\n",
       "</style>\n",
       "<table border=\"1\" class=\"dataframe\">\n",
       "  <thead>\n",
       "    <tr style=\"text-align: right;\">\n",
       "      <th></th>\n",
       "      <th>Roll No</th>\n",
       "      <th>Marks</th>\n",
       "    </tr>\n",
       "  </thead>\n",
       "  <tbody>\n",
       "    <tr>\n",
       "      <th>0</th>\n",
       "      <td>1</td>\n",
       "      <td>50</td>\n",
       "    </tr>\n",
       "    <tr>\n",
       "      <th>1</th>\n",
       "      <td>3</td>\n",
       "      <td>87</td>\n",
       "    </tr>\n",
       "  </tbody>\n",
       "</table>\n",
       "</div>"
      ],
      "text/plain": [
       "   Roll No  Marks\n",
       "0        1     50\n",
       "1        3     87"
      ]
     },
     "execution_count": 2,
     "metadata": {},
     "output_type": "execute_result"
    }
   ],
   "source": [
    "pd.DataFrame({'Roll No': [1, 3], 'Marks': [50, 87]})"
   ]
  },
  {
   "cell_type": "markdown",
   "id": "d690eb7b",
   "metadata": {
    "papermill": {
     "duration": 0.01387,
     "end_time": "2022-09-11T19:11:27.884008",
     "exception": false,
     "start_time": "2022-09-11T19:11:27.870138",
     "status": "completed"
    },
    "tags": []
   },
   "source": [
    "It can contain any types of data, in any tabular format as well."
   ]
  },
  {
   "cell_type": "code",
   "execution_count": 3,
   "id": "ffc17ae7",
   "metadata": {
    "execution": {
     "iopub.execute_input": "2022-09-11T19:11:27.914657Z",
     "iopub.status.busy": "2022-09-11T19:11:27.913920Z",
     "iopub.status.idle": "2022-09-11T19:11:27.924366Z",
     "shell.execute_reply": "2022-09-11T19:11:27.923584Z"
    },
    "papermill": {
     "duration": 0.028743,
     "end_time": "2022-09-11T19:11:27.926677",
     "exception": false,
     "start_time": "2022-09-11T19:11:27.897934",
     "status": "completed"
    },
    "tags": []
   },
   "outputs": [
    {
     "data": {
      "text/html": [
       "<div>\n",
       "<style scoped>\n",
       "    .dataframe tbody tr th:only-of-type {\n",
       "        vertical-align: middle;\n",
       "    }\n",
       "\n",
       "    .dataframe tbody tr th {\n",
       "        vertical-align: top;\n",
       "    }\n",
       "\n",
       "    .dataframe thead th {\n",
       "        text-align: right;\n",
       "    }\n",
       "</style>\n",
       "<table border=\"1\" class=\"dataframe\">\n",
       "  <thead>\n",
       "    <tr style=\"text-align: right;\">\n",
       "      <th></th>\n",
       "      <th>Reviewer 1</th>\n",
       "      <th>Reviewer 2</th>\n",
       "    </tr>\n",
       "  </thead>\n",
       "  <tbody>\n",
       "    <tr>\n",
       "      <th>Product A</th>\n",
       "      <td>I liked it.</td>\n",
       "      <td>Pretty good.</td>\n",
       "    </tr>\n",
       "    <tr>\n",
       "      <th>Product B</th>\n",
       "      <td>It was awful.</td>\n",
       "      <td>Average.</td>\n",
       "    </tr>\n",
       "  </tbody>\n",
       "</table>\n",
       "</div>"
      ],
      "text/plain": [
       "              Reviewer 1    Reviewer 2\n",
       "Product A    I liked it.  Pretty good.\n",
       "Product B  It was awful.      Average."
      ]
     },
     "execution_count": 3,
     "metadata": {},
     "output_type": "execute_result"
    }
   ],
   "source": [
    "pd.DataFrame({'Reviewer 1': ['I liked it.', 'It was awful.'], \n",
    "              'Reviewer 2': ['Pretty good.', 'Average.']},\n",
    "             index=['Product A', 'Product B'])"
   ]
  },
  {
   "cell_type": "markdown",
   "id": "d54b65e4",
   "metadata": {
    "papermill": {
     "duration": 0.013962,
     "end_time": "2022-09-11T19:11:27.955067",
     "exception": false,
     "start_time": "2022-09-11T19:11:27.941105",
     "status": "completed"
    },
    "tags": []
   },
   "source": [
    "\n",
    "# Series\n",
    "A Series, by contrast, is a sequence of data values. \n",
    "<br/> If a DataFrame is a table, a Series is a list. \n",
    "And in fact you can create one with nothing more than a list:\n",
    "\n"
   ]
  },
  {
   "cell_type": "code",
   "execution_count": 4,
   "id": "172d592b",
   "metadata": {
    "execution": {
     "iopub.execute_input": "2022-09-11T19:11:27.985616Z",
     "iopub.status.busy": "2022-09-11T19:11:27.984820Z",
     "iopub.status.idle": "2022-09-11T19:11:27.992691Z",
     "shell.execute_reply": "2022-09-11T19:11:27.991862Z"
    },
    "papermill": {
     "duration": 0.025479,
     "end_time": "2022-09-11T19:11:27.994719",
     "exception": false,
     "start_time": "2022-09-11T19:11:27.969240",
     "status": "completed"
    },
    "tags": []
   },
   "outputs": [
    {
     "data": {
      "text/plain": [
       "0    1\n",
       "1    2\n",
       "2    3\n",
       "3    4\n",
       "4    5\n",
       "dtype: int64"
      ]
     },
     "execution_count": 4,
     "metadata": {},
     "output_type": "execute_result"
    }
   ],
   "source": [
    "pd.Series([1, 2, 3, 4, 5])"
   ]
  },
  {
   "cell_type": "markdown",
   "id": "f0cb9e9f",
   "metadata": {
    "papermill": {
     "duration": 0.01406,
     "end_time": "2022-09-11T19:11:28.023062",
     "exception": false,
     "start_time": "2022-09-11T19:11:28.009002",
     "status": "completed"
    },
    "tags": []
   },
   "source": [
    "A Series is, in essence, **a single column of a DataFrame**. So you can assign row labels to the Series the same way as before, using an index parameter.\n",
    "> However, a Series does not have a column name, it only has **one overall name** ."
   ]
  },
  {
   "cell_type": "code",
   "execution_count": 5,
   "id": "a62b1fd5",
   "metadata": {
    "execution": {
     "iopub.execute_input": "2022-09-11T19:11:28.053479Z",
     "iopub.status.busy": "2022-09-11T19:11:28.052713Z",
     "iopub.status.idle": "2022-09-11T19:11:28.061994Z",
     "shell.execute_reply": "2022-09-11T19:11:28.060924Z"
    },
    "papermill": {
     "duration": 0.027043,
     "end_time": "2022-09-11T19:11:28.064215",
     "exception": false,
     "start_time": "2022-09-11T19:11:28.037172",
     "status": "completed"
    },
    "tags": []
   },
   "outputs": [
    {
     "data": {
      "text/plain": [
       "Physics      30\n",
       "Chemistry    35\n",
       "Maths        40\n",
       "Name: Student A, dtype: int64"
      ]
     },
     "execution_count": 5,
     "metadata": {},
     "output_type": "execute_result"
    }
   ],
   "source": [
    "pd.Series([30, 35, 40], index=['Physics', 'Chemistry', 'Maths'], name='Student A')"
   ]
  },
  {
   "cell_type": "markdown",
   "id": "96ce2185",
   "metadata": {
    "papermill": {
     "duration": 0.01414,
     "end_time": "2022-09-11T19:11:28.092731",
     "exception": false,
     "start_time": "2022-09-11T19:11:28.078591",
     "status": "completed"
    },
    "tags": []
   },
   "source": [
    "Hence dataframe is just a bunch of series glued together."
   ]
  },
  {
   "cell_type": "markdown",
   "id": "d8c5fc15",
   "metadata": {
    "papermill": {
     "duration": 0.014061,
     "end_time": "2022-09-11T19:11:28.121190",
     "exception": false,
     "start_time": "2022-09-11T19:11:28.107129",
     "status": "completed"
    },
    "tags": []
   },
   "source": [
    "# Reading values in pandas\n",
    "Pandas can be used to read data from files , especially CSV formatted files.\n",
    "> A CSV file is a table of values separated by commas. Hence the name: \"Comma-Separated Values\", or CSV.\n",
    "\n",
    "For reading CSV file, `pd.read_csv()` can be used.\n"
   ]
  },
  {
   "cell_type": "code",
   "execution_count": 6,
   "id": "18fd69cf",
   "metadata": {
    "execution": {
     "iopub.execute_input": "2022-09-11T19:11:28.152294Z",
     "iopub.status.busy": "2022-09-11T19:11:28.151491Z",
     "iopub.status.idle": "2022-09-11T19:11:28.198372Z",
     "shell.execute_reply": "2022-09-11T19:11:28.197010Z"
    },
    "papermill": {
     "duration": 0.066056,
     "end_time": "2022-09-11T19:11:28.201699",
     "exception": false,
     "start_time": "2022-09-11T19:11:28.135643",
     "status": "completed"
    },
    "tags": []
   },
   "outputs": [],
   "source": [
    "spaceship_data=pd.read_csv(\"../input/spaceship-titanic/train.csv\")"
   ]
  },
  {
   "cell_type": "markdown",
   "id": "38492b5d",
   "metadata": {
    "papermill": {
     "duration": 0.014296,
     "end_time": "2022-09-11T19:11:28.230588",
     "exception": false,
     "start_time": "2022-09-11T19:11:28.216292",
     "status": "completed"
    },
    "tags": []
   },
   "source": [
    "We can use the `shape` attribute to check how large the resulting DataFrame is:"
   ]
  },
  {
   "cell_type": "code",
   "execution_count": 7,
   "id": "db7d59b8",
   "metadata": {
    "execution": {
     "iopub.execute_input": "2022-09-11T19:11:28.261109Z",
     "iopub.status.busy": "2022-09-11T19:11:28.260682Z",
     "iopub.status.idle": "2022-09-11T19:11:28.267846Z",
     "shell.execute_reply": "2022-09-11T19:11:28.266682Z"
    },
    "papermill": {
     "duration": 0.025185,
     "end_time": "2022-09-11T19:11:28.270188",
     "exception": false,
     "start_time": "2022-09-11T19:11:28.245003",
     "status": "completed"
    },
    "tags": []
   },
   "outputs": [
    {
     "data": {
      "text/plain": [
       "(8693, 14)"
      ]
     },
     "execution_count": 7,
     "metadata": {},
     "output_type": "execute_result"
    }
   ],
   "source": [
    "spaceship_data.shape"
   ]
  },
  {
   "cell_type": "markdown",
   "id": "bf0a1102",
   "metadata": {
    "papermill": {
     "duration": 0.014158,
     "end_time": "2022-09-11T19:11:28.298899",
     "exception": false,
     "start_time": "2022-09-11T19:11:28.284741",
     "status": "completed"
    },
    "tags": []
   },
   "source": [
    "This means it have  8693 records in 14 different columns! <br/>\n",
    "We can check the first 5 rows of the data using the ` head()` command."
   ]
  },
  {
   "cell_type": "code",
   "execution_count": 8,
   "id": "1040e90a",
   "metadata": {
    "execution": {
     "iopub.execute_input": "2022-09-11T19:11:28.330392Z",
     "iopub.status.busy": "2022-09-11T19:11:28.329589Z",
     "iopub.status.idle": "2022-09-11T19:11:28.351874Z",
     "shell.execute_reply": "2022-09-11T19:11:28.350616Z"
    },
    "papermill": {
     "duration": 0.040786,
     "end_time": "2022-09-11T19:11:28.354350",
     "exception": false,
     "start_time": "2022-09-11T19:11:28.313564",
     "status": "completed"
    },
    "tags": []
   },
   "outputs": [
    {
     "data": {
      "text/html": [
       "<div>\n",
       "<style scoped>\n",
       "    .dataframe tbody tr th:only-of-type {\n",
       "        vertical-align: middle;\n",
       "    }\n",
       "\n",
       "    .dataframe tbody tr th {\n",
       "        vertical-align: top;\n",
       "    }\n",
       "\n",
       "    .dataframe thead th {\n",
       "        text-align: right;\n",
       "    }\n",
       "</style>\n",
       "<table border=\"1\" class=\"dataframe\">\n",
       "  <thead>\n",
       "    <tr style=\"text-align: right;\">\n",
       "      <th></th>\n",
       "      <th>PassengerId</th>\n",
       "      <th>HomePlanet</th>\n",
       "      <th>CryoSleep</th>\n",
       "      <th>Cabin</th>\n",
       "      <th>Destination</th>\n",
       "      <th>Age</th>\n",
       "      <th>VIP</th>\n",
       "      <th>RoomService</th>\n",
       "      <th>FoodCourt</th>\n",
       "      <th>ShoppingMall</th>\n",
       "      <th>Spa</th>\n",
       "      <th>VRDeck</th>\n",
       "      <th>Name</th>\n",
       "      <th>Transported</th>\n",
       "    </tr>\n",
       "  </thead>\n",
       "  <tbody>\n",
       "    <tr>\n",
       "      <th>0</th>\n",
       "      <td>0001_01</td>\n",
       "      <td>Europa</td>\n",
       "      <td>False</td>\n",
       "      <td>B/0/P</td>\n",
       "      <td>TRAPPIST-1e</td>\n",
       "      <td>39.0</td>\n",
       "      <td>False</td>\n",
       "      <td>0.0</td>\n",
       "      <td>0.0</td>\n",
       "      <td>0.0</td>\n",
       "      <td>0.0</td>\n",
       "      <td>0.0</td>\n",
       "      <td>Maham Ofracculy</td>\n",
       "      <td>False</td>\n",
       "    </tr>\n",
       "    <tr>\n",
       "      <th>1</th>\n",
       "      <td>0002_01</td>\n",
       "      <td>Earth</td>\n",
       "      <td>False</td>\n",
       "      <td>F/0/S</td>\n",
       "      <td>TRAPPIST-1e</td>\n",
       "      <td>24.0</td>\n",
       "      <td>False</td>\n",
       "      <td>109.0</td>\n",
       "      <td>9.0</td>\n",
       "      <td>25.0</td>\n",
       "      <td>549.0</td>\n",
       "      <td>44.0</td>\n",
       "      <td>Juanna Vines</td>\n",
       "      <td>True</td>\n",
       "    </tr>\n",
       "    <tr>\n",
       "      <th>2</th>\n",
       "      <td>0003_01</td>\n",
       "      <td>Europa</td>\n",
       "      <td>False</td>\n",
       "      <td>A/0/S</td>\n",
       "      <td>TRAPPIST-1e</td>\n",
       "      <td>58.0</td>\n",
       "      <td>True</td>\n",
       "      <td>43.0</td>\n",
       "      <td>3576.0</td>\n",
       "      <td>0.0</td>\n",
       "      <td>6715.0</td>\n",
       "      <td>49.0</td>\n",
       "      <td>Altark Susent</td>\n",
       "      <td>False</td>\n",
       "    </tr>\n",
       "    <tr>\n",
       "      <th>3</th>\n",
       "      <td>0003_02</td>\n",
       "      <td>Europa</td>\n",
       "      <td>False</td>\n",
       "      <td>A/0/S</td>\n",
       "      <td>TRAPPIST-1e</td>\n",
       "      <td>33.0</td>\n",
       "      <td>False</td>\n",
       "      <td>0.0</td>\n",
       "      <td>1283.0</td>\n",
       "      <td>371.0</td>\n",
       "      <td>3329.0</td>\n",
       "      <td>193.0</td>\n",
       "      <td>Solam Susent</td>\n",
       "      <td>False</td>\n",
       "    </tr>\n",
       "    <tr>\n",
       "      <th>4</th>\n",
       "      <td>0004_01</td>\n",
       "      <td>Earth</td>\n",
       "      <td>False</td>\n",
       "      <td>F/1/S</td>\n",
       "      <td>TRAPPIST-1e</td>\n",
       "      <td>16.0</td>\n",
       "      <td>False</td>\n",
       "      <td>303.0</td>\n",
       "      <td>70.0</td>\n",
       "      <td>151.0</td>\n",
       "      <td>565.0</td>\n",
       "      <td>2.0</td>\n",
       "      <td>Willy Santantines</td>\n",
       "      <td>True</td>\n",
       "    </tr>\n",
       "  </tbody>\n",
       "</table>\n",
       "</div>"
      ],
      "text/plain": [
       "  PassengerId HomePlanet CryoSleep  Cabin  Destination   Age    VIP  \\\n",
       "0     0001_01     Europa     False  B/0/P  TRAPPIST-1e  39.0  False   \n",
       "1     0002_01      Earth     False  F/0/S  TRAPPIST-1e  24.0  False   \n",
       "2     0003_01     Europa     False  A/0/S  TRAPPIST-1e  58.0   True   \n",
       "3     0003_02     Europa     False  A/0/S  TRAPPIST-1e  33.0  False   \n",
       "4     0004_01      Earth     False  F/1/S  TRAPPIST-1e  16.0  False   \n",
       "\n",
       "   RoomService  FoodCourt  ShoppingMall     Spa  VRDeck               Name  \\\n",
       "0          0.0        0.0           0.0     0.0     0.0    Maham Ofracculy   \n",
       "1        109.0        9.0          25.0   549.0    44.0       Juanna Vines   \n",
       "2         43.0     3576.0           0.0  6715.0    49.0      Altark Susent   \n",
       "3          0.0     1283.0         371.0  3329.0   193.0       Solam Susent   \n",
       "4        303.0       70.0         151.0   565.0     2.0  Willy Santantines   \n",
       "\n",
       "   Transported  \n",
       "0        False  \n",
       "1         True  \n",
       "2        False  \n",
       "3        False  \n",
       "4         True  "
      ]
     },
     "execution_count": 8,
     "metadata": {},
     "output_type": "execute_result"
    }
   ],
   "source": [
    "spaceship_data.head()"
   ]
  },
  {
   "cell_type": "markdown",
   "id": "05c2ac66",
   "metadata": {
    "papermill": {
     "duration": 0.014789,
     "end_time": "2022-09-11T19:11:28.384236",
     "exception": false,
     "start_time": "2022-09-11T19:11:28.369447",
     "status": "completed"
    },
    "tags": []
   },
   "source": [
    "If i want to check at each individual columns, i can do the following: "
   ]
  },
  {
   "cell_type": "code",
   "execution_count": 9,
   "id": "993e5183",
   "metadata": {
    "execution": {
     "iopub.execute_input": "2022-09-11T19:11:28.416359Z",
     "iopub.status.busy": "2022-09-11T19:11:28.415589Z",
     "iopub.status.idle": "2022-09-11T19:11:28.428217Z",
     "shell.execute_reply": "2022-09-11T19:11:28.426831Z"
    },
    "papermill": {
     "duration": 0.031614,
     "end_time": "2022-09-11T19:11:28.430783",
     "exception": false,
     "start_time": "2022-09-11T19:11:28.399169",
     "status": "completed"
    },
    "tags": []
   },
   "outputs": [
    {
     "data": {
      "text/plain": [
       "0       False\n",
       "1       False\n",
       "2       False\n",
       "3       False\n",
       "4       False\n",
       "        ...  \n",
       "8688    False\n",
       "8689     True\n",
       "8690    False\n",
       "8691    False\n",
       "8692    False\n",
       "Name: CryoSleep, Length: 8693, dtype: object"
      ]
     },
     "execution_count": 9,
     "metadata": {},
     "output_type": "execute_result"
    }
   ],
   "source": [
    "spaceship_data.CryoSleep"
   ]
  },
  {
   "cell_type": "markdown",
   "id": "942ab471",
   "metadata": {
    "papermill": {
     "duration": 0.018602,
     "end_time": "2022-09-11T19:11:28.466889",
     "exception": false,
     "start_time": "2022-09-11T19:11:28.448287",
     "status": "completed"
    },
    "tags": []
   },
   "source": [
    "# Indexing in Pandas\n",
    "Most of the indexing in Dataframe is similar to the common python indexing operations. However Pandas provide extra accessor operators like:\n",
    "- Index- based selection\n",
    "- Label- based selection\n",
    "\n",
    "### Index based selection\n",
    "Selecting data based on its numerical position in the data. `iloc` is used for this.\n",
    "<br/>To select the first row of data in a DataFrame, we may use the following:"
   ]
  },
  {
   "cell_type": "code",
   "execution_count": 10,
   "id": "c79b7b0f",
   "metadata": {
    "execution": {
     "iopub.execute_input": "2022-09-11T19:11:28.502161Z",
     "iopub.status.busy": "2022-09-11T19:11:28.501627Z",
     "iopub.status.idle": "2022-09-11T19:11:28.512372Z",
     "shell.execute_reply": "2022-09-11T19:11:28.511083Z"
    },
    "papermill": {
     "duration": 0.030012,
     "end_time": "2022-09-11T19:11:28.514734",
     "exception": false,
     "start_time": "2022-09-11T19:11:28.484722",
     "status": "completed"
    },
    "tags": []
   },
   "outputs": [
    {
     "data": {
      "text/plain": [
       "PassengerId             0001_01\n",
       "HomePlanet               Europa\n",
       "CryoSleep                 False\n",
       "Cabin                     B/0/P\n",
       "Destination         TRAPPIST-1e\n",
       "Age                        39.0\n",
       "VIP                       False\n",
       "RoomService                 0.0\n",
       "FoodCourt                   0.0\n",
       "ShoppingMall                0.0\n",
       "Spa                         0.0\n",
       "VRDeck                      0.0\n",
       "Name            Maham Ofracculy\n",
       "Transported               False\n",
       "Name: 0, dtype: object"
      ]
     },
     "execution_count": 10,
     "metadata": {},
     "output_type": "execute_result"
    }
   ],
   "source": [
    "spaceship_data.iloc[0]"
   ]
  },
  {
   "cell_type": "markdown",
   "id": "8570bea8",
   "metadata": {
    "papermill": {
     "duration": 0.016804,
     "end_time": "2022-09-11T19:11:28.547914",
     "exception": false,
     "start_time": "2022-09-11T19:11:28.531110",
     "status": "completed"
    },
    "tags": []
   },
   "source": [
    "Or we can use more advanced indexing like selecting specific columns and rows using `iloc`."
   ]
  },
  {
   "cell_type": "code",
   "execution_count": 11,
   "id": "840f9f76",
   "metadata": {
    "execution": {
     "iopub.execute_input": "2022-09-11T19:11:28.581634Z",
     "iopub.status.busy": "2022-09-11T19:11:28.581187Z",
     "iopub.status.idle": "2022-09-11T19:11:28.588459Z",
     "shell.execute_reply": "2022-09-11T19:11:28.587673Z"
    },
    "papermill": {
     "duration": 0.026758,
     "end_time": "2022-09-11T19:11:28.590923",
     "exception": false,
     "start_time": "2022-09-11T19:11:28.564165",
     "status": "completed"
    },
    "tags": []
   },
   "outputs": [
    {
     "data": {
      "text/plain": [
       "1    0002_01\n",
       "2    0003_01\n",
       "Name: PassengerId, dtype: object"
      ]
     },
     "execution_count": 11,
     "metadata": {},
     "output_type": "execute_result"
    }
   ],
   "source": [
    "# Shows only second and third entries of the data in the first column\n",
    "spaceship_data.iloc[1:3, 0]"
   ]
  },
  {
   "cell_type": "markdown",
   "id": "34dba122",
   "metadata": {
    "papermill": {
     "duration": 0.014802,
     "end_time": "2022-09-11T19:11:28.621389",
     "exception": false,
     "start_time": "2022-09-11T19:11:28.606587",
     "status": "completed"
    },
    "tags": []
   },
   "source": [
    "### Label based selection\n",
    "In this type, data index value is used, not the position of the data.\n",
    "<br/> `loc` operator is commonly used for this."
   ]
  },
  {
   "cell_type": "code",
   "execution_count": 12,
   "id": "1113e215",
   "metadata": {
    "execution": {
     "iopub.execute_input": "2022-09-11T19:11:28.653644Z",
     "iopub.status.busy": "2022-09-11T19:11:28.653003Z",
     "iopub.status.idle": "2022-09-11T19:11:28.662349Z",
     "shell.execute_reply": "2022-09-11T19:11:28.661493Z"
    },
    "papermill": {
     "duration": 0.028187,
     "end_time": "2022-09-11T19:11:28.664681",
     "exception": false,
     "start_time": "2022-09-11T19:11:28.636494",
     "status": "completed"
    },
    "tags": []
   },
   "outputs": [
    {
     "data": {
      "text/plain": [
       "'Earth'"
      ]
     },
     "execution_count": 12,
     "metadata": {},
     "output_type": "execute_result"
    }
   ],
   "source": [
    "# Listing down the first row valus of the specific column.\n",
    "spaceship_data.loc[1, 'HomePlanet']"
   ]
  },
  {
   "cell_type": "markdown",
   "id": "06b01daa",
   "metadata": {
    "papermill": {
     "duration": 0.01507,
     "end_time": "2022-09-11T19:11:28.695304",
     "exception": false,
     "start_time": "2022-09-11T19:11:28.680234",
     "status": "completed"
    },
    "tags": []
   },
   "source": [
    "# Assigning values\n",
    "Values can also be assigned to dataFrame much like other python operations.\n"
   ]
  },
  {
   "cell_type": "code",
   "execution_count": 13,
   "id": "f4f87ef5",
   "metadata": {
    "execution": {
     "iopub.execute_input": "2022-09-11T19:11:28.728580Z",
     "iopub.status.busy": "2022-09-11T19:11:28.728153Z",
     "iopub.status.idle": "2022-09-11T19:11:28.759442Z",
     "shell.execute_reply": "2022-09-11T19:11:28.758581Z"
    },
    "papermill": {
     "duration": 0.051047,
     "end_time": "2022-09-11T19:11:28.762281",
     "exception": false,
     "start_time": "2022-09-11T19:11:28.711234",
     "status": "completed"
    },
    "tags": []
   },
   "outputs": [
    {
     "data": {
      "text/html": [
       "<div>\n",
       "<style scoped>\n",
       "    .dataframe tbody tr th:only-of-type {\n",
       "        vertical-align: middle;\n",
       "    }\n",
       "\n",
       "    .dataframe tbody tr th {\n",
       "        vertical-align: top;\n",
       "    }\n",
       "\n",
       "    .dataframe thead th {\n",
       "        text-align: right;\n",
       "    }\n",
       "</style>\n",
       "<table border=\"1\" class=\"dataframe\">\n",
       "  <thead>\n",
       "    <tr style=\"text-align: right;\">\n",
       "      <th></th>\n",
       "      <th>PassengerId</th>\n",
       "      <th>HomePlanet</th>\n",
       "      <th>CryoSleep</th>\n",
       "      <th>Cabin</th>\n",
       "      <th>Destination</th>\n",
       "      <th>Age</th>\n",
       "      <th>VIP</th>\n",
       "      <th>RoomService</th>\n",
       "      <th>FoodCourt</th>\n",
       "      <th>ShoppingMall</th>\n",
       "      <th>Spa</th>\n",
       "      <th>VRDeck</th>\n",
       "      <th>Name</th>\n",
       "      <th>Transported</th>\n",
       "    </tr>\n",
       "  </thead>\n",
       "  <tbody>\n",
       "    <tr>\n",
       "      <th>0</th>\n",
       "      <td>0001_01</td>\n",
       "      <td>Europa</td>\n",
       "      <td>False</td>\n",
       "      <td>B/0/P</td>\n",
       "      <td>TRAPPIST-1e</td>\n",
       "      <td>39.0</td>\n",
       "      <td>False</td>\n",
       "      <td>0.0</td>\n",
       "      <td>8693</td>\n",
       "      <td>0.0</td>\n",
       "      <td>0.0</td>\n",
       "      <td>0.0</td>\n",
       "      <td>Maham Ofracculy</td>\n",
       "      <td>False</td>\n",
       "    </tr>\n",
       "    <tr>\n",
       "      <th>1</th>\n",
       "      <td>0002_01</td>\n",
       "      <td>Earth</td>\n",
       "      <td>False</td>\n",
       "      <td>F/0/S</td>\n",
       "      <td>TRAPPIST-1e</td>\n",
       "      <td>24.0</td>\n",
       "      <td>False</td>\n",
       "      <td>109.0</td>\n",
       "      <td>8692</td>\n",
       "      <td>25.0</td>\n",
       "      <td>549.0</td>\n",
       "      <td>44.0</td>\n",
       "      <td>Juanna Vines</td>\n",
       "      <td>True</td>\n",
       "    </tr>\n",
       "    <tr>\n",
       "      <th>2</th>\n",
       "      <td>0003_01</td>\n",
       "      <td>Europa</td>\n",
       "      <td>False</td>\n",
       "      <td>A/0/S</td>\n",
       "      <td>TRAPPIST-1e</td>\n",
       "      <td>58.0</td>\n",
       "      <td>True</td>\n",
       "      <td>43.0</td>\n",
       "      <td>8691</td>\n",
       "      <td>0.0</td>\n",
       "      <td>6715.0</td>\n",
       "      <td>49.0</td>\n",
       "      <td>Altark Susent</td>\n",
       "      <td>False</td>\n",
       "    </tr>\n",
       "    <tr>\n",
       "      <th>3</th>\n",
       "      <td>0003_02</td>\n",
       "      <td>Europa</td>\n",
       "      <td>False</td>\n",
       "      <td>A/0/S</td>\n",
       "      <td>TRAPPIST-1e</td>\n",
       "      <td>33.0</td>\n",
       "      <td>False</td>\n",
       "      <td>0.0</td>\n",
       "      <td>8690</td>\n",
       "      <td>371.0</td>\n",
       "      <td>3329.0</td>\n",
       "      <td>193.0</td>\n",
       "      <td>Solam Susent</td>\n",
       "      <td>False</td>\n",
       "    </tr>\n",
       "    <tr>\n",
       "      <th>4</th>\n",
       "      <td>0004_01</td>\n",
       "      <td>Earth</td>\n",
       "      <td>False</td>\n",
       "      <td>F/1/S</td>\n",
       "      <td>TRAPPIST-1e</td>\n",
       "      <td>16.0</td>\n",
       "      <td>False</td>\n",
       "      <td>303.0</td>\n",
       "      <td>8689</td>\n",
       "      <td>151.0</td>\n",
       "      <td>565.0</td>\n",
       "      <td>2.0</td>\n",
       "      <td>Willy Santantines</td>\n",
       "      <td>True</td>\n",
       "    </tr>\n",
       "    <tr>\n",
       "      <th>...</th>\n",
       "      <td>...</td>\n",
       "      <td>...</td>\n",
       "      <td>...</td>\n",
       "      <td>...</td>\n",
       "      <td>...</td>\n",
       "      <td>...</td>\n",
       "      <td>...</td>\n",
       "      <td>...</td>\n",
       "      <td>...</td>\n",
       "      <td>...</td>\n",
       "      <td>...</td>\n",
       "      <td>...</td>\n",
       "      <td>...</td>\n",
       "      <td>...</td>\n",
       "    </tr>\n",
       "    <tr>\n",
       "      <th>8688</th>\n",
       "      <td>9276_01</td>\n",
       "      <td>Europa</td>\n",
       "      <td>False</td>\n",
       "      <td>A/98/P</td>\n",
       "      <td>55 Cancri e</td>\n",
       "      <td>41.0</td>\n",
       "      <td>True</td>\n",
       "      <td>0.0</td>\n",
       "      <td>5</td>\n",
       "      <td>0.0</td>\n",
       "      <td>1643.0</td>\n",
       "      <td>74.0</td>\n",
       "      <td>Gravior Noxnuther</td>\n",
       "      <td>False</td>\n",
       "    </tr>\n",
       "    <tr>\n",
       "      <th>8689</th>\n",
       "      <td>9278_01</td>\n",
       "      <td>Earth</td>\n",
       "      <td>True</td>\n",
       "      <td>G/1499/S</td>\n",
       "      <td>PSO J318.5-22</td>\n",
       "      <td>18.0</td>\n",
       "      <td>False</td>\n",
       "      <td>0.0</td>\n",
       "      <td>4</td>\n",
       "      <td>0.0</td>\n",
       "      <td>0.0</td>\n",
       "      <td>0.0</td>\n",
       "      <td>Kurta Mondalley</td>\n",
       "      <td>False</td>\n",
       "    </tr>\n",
       "    <tr>\n",
       "      <th>8690</th>\n",
       "      <td>9279_01</td>\n",
       "      <td>Earth</td>\n",
       "      <td>False</td>\n",
       "      <td>G/1500/S</td>\n",
       "      <td>TRAPPIST-1e</td>\n",
       "      <td>26.0</td>\n",
       "      <td>False</td>\n",
       "      <td>0.0</td>\n",
       "      <td>3</td>\n",
       "      <td>1872.0</td>\n",
       "      <td>1.0</td>\n",
       "      <td>0.0</td>\n",
       "      <td>Fayey Connon</td>\n",
       "      <td>True</td>\n",
       "    </tr>\n",
       "    <tr>\n",
       "      <th>8691</th>\n",
       "      <td>9280_01</td>\n",
       "      <td>Europa</td>\n",
       "      <td>False</td>\n",
       "      <td>E/608/S</td>\n",
       "      <td>55 Cancri e</td>\n",
       "      <td>32.0</td>\n",
       "      <td>False</td>\n",
       "      <td>0.0</td>\n",
       "      <td>2</td>\n",
       "      <td>0.0</td>\n",
       "      <td>353.0</td>\n",
       "      <td>3235.0</td>\n",
       "      <td>Celeon Hontichre</td>\n",
       "      <td>False</td>\n",
       "    </tr>\n",
       "    <tr>\n",
       "      <th>8692</th>\n",
       "      <td>9280_02</td>\n",
       "      <td>Europa</td>\n",
       "      <td>False</td>\n",
       "      <td>E/608/S</td>\n",
       "      <td>TRAPPIST-1e</td>\n",
       "      <td>44.0</td>\n",
       "      <td>False</td>\n",
       "      <td>126.0</td>\n",
       "      <td>1</td>\n",
       "      <td>0.0</td>\n",
       "      <td>0.0</td>\n",
       "      <td>12.0</td>\n",
       "      <td>Propsh Hontichre</td>\n",
       "      <td>True</td>\n",
       "    </tr>\n",
       "  </tbody>\n",
       "</table>\n",
       "<p>8693 rows × 14 columns</p>\n",
       "</div>"
      ],
      "text/plain": [
       "     PassengerId HomePlanet CryoSleep     Cabin    Destination   Age    VIP  \\\n",
       "0        0001_01     Europa     False     B/0/P    TRAPPIST-1e  39.0  False   \n",
       "1        0002_01      Earth     False     F/0/S    TRAPPIST-1e  24.0  False   \n",
       "2        0003_01     Europa     False     A/0/S    TRAPPIST-1e  58.0   True   \n",
       "3        0003_02     Europa     False     A/0/S    TRAPPIST-1e  33.0  False   \n",
       "4        0004_01      Earth     False     F/1/S    TRAPPIST-1e  16.0  False   \n",
       "...          ...        ...       ...       ...            ...   ...    ...   \n",
       "8688     9276_01     Europa     False    A/98/P    55 Cancri e  41.0   True   \n",
       "8689     9278_01      Earth      True  G/1499/S  PSO J318.5-22  18.0  False   \n",
       "8690     9279_01      Earth     False  G/1500/S    TRAPPIST-1e  26.0  False   \n",
       "8691     9280_01     Europa     False   E/608/S    55 Cancri e  32.0  False   \n",
       "8692     9280_02     Europa     False   E/608/S    TRAPPIST-1e  44.0  False   \n",
       "\n",
       "      RoomService  FoodCourt  ShoppingMall     Spa  VRDeck               Name  \\\n",
       "0             0.0       8693           0.0     0.0     0.0    Maham Ofracculy   \n",
       "1           109.0       8692          25.0   549.0    44.0       Juanna Vines   \n",
       "2            43.0       8691           0.0  6715.0    49.0      Altark Susent   \n",
       "3             0.0       8690         371.0  3329.0   193.0       Solam Susent   \n",
       "4           303.0       8689         151.0   565.0     2.0  Willy Santantines   \n",
       "...           ...        ...           ...     ...     ...                ...   \n",
       "8688          0.0          5           0.0  1643.0    74.0  Gravior Noxnuther   \n",
       "8689          0.0          4           0.0     0.0     0.0    Kurta Mondalley   \n",
       "8690          0.0          3        1872.0     1.0     0.0       Fayey Connon   \n",
       "8691          0.0          2           0.0   353.0  3235.0   Celeon Hontichre   \n",
       "8692        126.0          1           0.0     0.0    12.0   Propsh Hontichre   \n",
       "\n",
       "      Transported  \n",
       "0           False  \n",
       "1            True  \n",
       "2           False  \n",
       "3           False  \n",
       "4            True  \n",
       "...           ...  \n",
       "8688        False  \n",
       "8689        False  \n",
       "8690         True  \n",
       "8691        False  \n",
       "8692         True  \n",
       "\n",
       "[8693 rows x 14 columns]"
      ]
     },
     "execution_count": 13,
     "metadata": {},
     "output_type": "execute_result"
    }
   ],
   "source": [
    "spaceship_data['FoodCourt']=range(len(spaceship_data), 0, -1)\n",
    "spaceship_data"
   ]
  },
  {
   "cell_type": "markdown",
   "id": "efc44963",
   "metadata": {
    "papermill": {
     "duration": 0.015439,
     "end_time": "2022-09-11T19:11:28.793986",
     "exception": false,
     "start_time": "2022-09-11T19:11:28.778547",
     "status": "completed"
    },
    "tags": []
   },
   "source": [
    "# Summary Functions\n",
    "Some of the summary  functions used in pandas are:\n",
    "- **describe()**\n",
    "- **mean()**\n",
    "- **unique()**\n",
    "- **value_counts()**\n",
    "\n",
    "let's look at each  one of them briefly."
   ]
  },
  {
   "cell_type": "markdown",
   "id": "784d749e",
   "metadata": {
    "papermill": {
     "duration": 0.01532,
     "end_time": "2022-09-11T19:11:28.825056",
     "exception": false,
     "start_time": "2022-09-11T19:11:28.809736",
     "status": "completed"
    },
    "tags": []
   },
   "source": [
    "### Describe()\n",
    "- it will give a  summary the content of the selected column of the DataFrame\n",
    "- it is a type-aware property, it means its output changes with the type of data in the dataframe\n"
   ]
  },
  {
   "cell_type": "code",
   "execution_count": 14,
   "id": "4f6ea4bb",
   "metadata": {
    "execution": {
     "iopub.execute_input": "2022-09-11T19:11:28.858439Z",
     "iopub.status.busy": "2022-09-11T19:11:28.857818Z",
     "iopub.status.idle": "2022-09-11T19:11:28.866712Z",
     "shell.execute_reply": "2022-09-11T19:11:28.865886Z"
    },
    "papermill": {
     "duration": 0.02868,
     "end_time": "2022-09-11T19:11:28.869394",
     "exception": false,
     "start_time": "2022-09-11T19:11:28.840714",
     "status": "completed"
    },
    "tags": []
   },
   "outputs": [
    {
     "data": {
      "text/plain": [
       "count      8492\n",
       "unique        3\n",
       "top       Earth\n",
       "freq       4602\n",
       "Name: HomePlanet, dtype: object"
      ]
     },
     "execution_count": 14,
     "metadata": {},
     "output_type": "execute_result"
    }
   ],
   "source": [
    "spaceship_data.HomePlanet.describe()"
   ]
  },
  {
   "cell_type": "code",
   "execution_count": 15,
   "id": "fa76321b",
   "metadata": {
    "execution": {
     "iopub.execute_input": "2022-09-11T19:11:28.908122Z",
     "iopub.status.busy": "2022-09-11T19:11:28.907326Z",
     "iopub.status.idle": "2022-09-11T19:11:28.921544Z",
     "shell.execute_reply": "2022-09-11T19:11:28.920511Z"
    },
    "papermill": {
     "duration": 0.035057,
     "end_time": "2022-09-11T19:11:28.924345",
     "exception": false,
     "start_time": "2022-09-11T19:11:28.889288",
     "status": "completed"
    },
    "tags": []
   },
   "outputs": [
    {
     "data": {
      "text/plain": [
       "count    8693.000000\n",
       "mean     4347.000000\n",
       "std      2509.597278\n",
       "min         1.000000\n",
       "25%      2174.000000\n",
       "50%      4347.000000\n",
       "75%      6520.000000\n",
       "max      8693.000000\n",
       "Name: FoodCourt, dtype: float64"
      ]
     },
     "execution_count": 15,
     "metadata": {},
     "output_type": "execute_result"
    }
   ],
   "source": [
    "spaceship_data.FoodCourt.describe()"
   ]
  },
  {
   "cell_type": "markdown",
   "id": "f0fc0af5",
   "metadata": {
    "papermill": {
     "duration": 0.015742,
     "end_time": "2022-09-11T19:11:28.956432",
     "exception": false,
     "start_time": "2022-09-11T19:11:28.940690",
     "status": "completed"
    },
    "tags": []
   },
   "source": [
    "### mean()\n",
    "- produce mean of a particular column"
   ]
  },
  {
   "cell_type": "code",
   "execution_count": 16,
   "id": "6adf174f",
   "metadata": {
    "execution": {
     "iopub.execute_input": "2022-09-11T19:11:28.992385Z",
     "iopub.status.busy": "2022-09-11T19:11:28.991691Z",
     "iopub.status.idle": "2022-09-11T19:11:28.999783Z",
     "shell.execute_reply": "2022-09-11T19:11:28.998574Z"
    },
    "papermill": {
     "duration": 0.029272,
     "end_time": "2022-09-11T19:11:29.001990",
     "exception": false,
     "start_time": "2022-09-11T19:11:28.972718",
     "status": "completed"
    },
    "tags": []
   },
   "outputs": [
    {
     "data": {
      "text/plain": [
       "4347.0"
      ]
     },
     "execution_count": 16,
     "metadata": {},
     "output_type": "execute_result"
    }
   ],
   "source": [
    "spaceship_data.FoodCourt.mean()"
   ]
  },
  {
   "cell_type": "markdown",
   "id": "10c6580d",
   "metadata": {
    "papermill": {
     "duration": 0.015889,
     "end_time": "2022-09-11T19:11:29.034135",
     "exception": false,
     "start_time": "2022-09-11T19:11:29.018246",
     "status": "completed"
    },
    "tags": []
   },
   "source": [
    "### median()\n",
    "- produce median of a particular column"
   ]
  },
  {
   "cell_type": "code",
   "execution_count": 17,
   "id": "d73c4e81",
   "metadata": {
    "execution": {
     "iopub.execute_input": "2022-09-11T19:11:29.069577Z",
     "iopub.status.busy": "2022-09-11T19:11:29.068909Z",
     "iopub.status.idle": "2022-09-11T19:11:29.076844Z",
     "shell.execute_reply": "2022-09-11T19:11:29.075737Z"
    },
    "papermill": {
     "duration": 0.028815,
     "end_time": "2022-09-11T19:11:29.079090",
     "exception": false,
     "start_time": "2022-09-11T19:11:29.050275",
     "status": "completed"
    },
    "tags": []
   },
   "outputs": [
    {
     "data": {
      "text/plain": [
       "4347.0"
      ]
     },
     "execution_count": 17,
     "metadata": {},
     "output_type": "execute_result"
    }
   ],
   "source": [
    "spaceship_data.FoodCourt.median()"
   ]
  },
  {
   "cell_type": "markdown",
   "id": "eb2bfe67",
   "metadata": {
    "papermill": {
     "duration": 0.01666,
     "end_time": "2022-09-11T19:11:29.112396",
     "exception": false,
     "start_time": "2022-09-11T19:11:29.095736",
     "status": "completed"
    },
    "tags": []
   },
   "source": [
    "### unique()\n",
    "- List the unique elements of a column"
   ]
  },
  {
   "cell_type": "code",
   "execution_count": 18,
   "id": "ef21a889",
   "metadata": {
    "execution": {
     "iopub.execute_input": "2022-09-11T19:11:29.148297Z",
     "iopub.status.busy": "2022-09-11T19:11:29.147127Z",
     "iopub.status.idle": "2022-09-11T19:11:29.156978Z",
     "shell.execute_reply": "2022-09-11T19:11:29.155763Z"
    },
    "papermill": {
     "duration": 0.030281,
     "end_time": "2022-09-11T19:11:29.159225",
     "exception": false,
     "start_time": "2022-09-11T19:11:29.128944",
     "status": "completed"
    },
    "tags": []
   },
   "outputs": [
    {
     "data": {
      "text/plain": [
       "array(['Europa', 'Earth', 'Mars', nan], dtype=object)"
      ]
     },
     "execution_count": 18,
     "metadata": {},
     "output_type": "execute_result"
    }
   ],
   "source": [
    "spaceship_data.HomePlanet.unique()"
   ]
  },
  {
   "cell_type": "markdown",
   "id": "a9b5b085",
   "metadata": {
    "papermill": {
     "duration": 0.016107,
     "end_time": "2022-09-11T19:11:29.192034",
     "exception": false,
     "start_time": "2022-09-11T19:11:29.175927",
     "status": "completed"
    },
    "tags": []
   },
   "source": [
    "### value_counts()\n",
    "- To see a list of unique values and how often they occur in the dataset, we can use the `value_counts()` method"
   ]
  },
  {
   "cell_type": "code",
   "execution_count": 19,
   "id": "7489b462",
   "metadata": {
    "execution": {
     "iopub.execute_input": "2022-09-11T19:11:29.227078Z",
     "iopub.status.busy": "2022-09-11T19:11:29.226412Z",
     "iopub.status.idle": "2022-09-11T19:11:29.234352Z",
     "shell.execute_reply": "2022-09-11T19:11:29.233430Z"
    },
    "papermill": {
     "duration": 0.028022,
     "end_time": "2022-09-11T19:11:29.236679",
     "exception": false,
     "start_time": "2022-09-11T19:11:29.208657",
     "status": "completed"
    },
    "tags": []
   },
   "outputs": [
    {
     "data": {
      "text/plain": [
       "Earth     4602\n",
       "Europa    2131\n",
       "Mars      1759\n",
       "Name: HomePlanet, dtype: int64"
      ]
     },
     "execution_count": 19,
     "metadata": {},
     "output_type": "execute_result"
    }
   ],
   "source": [
    "spaceship_data.HomePlanet.value_counts()"
   ]
  },
  {
   "cell_type": "markdown",
   "id": "fe6a9845",
   "metadata": {
    "papermill": {
     "duration": 0.016192,
     "end_time": "2022-09-11T19:11:29.269550",
     "exception": false,
     "start_time": "2022-09-11T19:11:29.253358",
     "status": "completed"
    },
    "tags": []
   },
   "source": [
    "# Maps\n",
    "In data science we often have a need for **creating new representations from existing data, or for transforming data** from the format it is in now to the format that we want it to be in later. Maps are what handle this work, making them extremely important for getting your work done!\n",
    "<br /> The main functions used are :\n",
    "- **map()**\n",
    "- **apply()**\n"
   ]
  },
  {
   "cell_type": "markdown",
   "id": "c434cca8",
   "metadata": {
    "papermill": {
     "duration": 0.016072,
     "end_time": "2022-09-11T19:11:29.302136",
     "exception": false,
     "start_time": "2022-09-11T19:11:29.286064",
     "status": "completed"
    },
    "tags": []
   },
   "source": [
    "### map()\n",
    "- The function you pass to **map()** should expect a single value from the Series (a point value, in the above example), and return a transformed version of that value.\n",
    "- map() returns a new Series where all the values have been transformed by your function."
   ]
  },
  {
   "cell_type": "code",
   "execution_count": 20,
   "id": "2e949e4e",
   "metadata": {
    "execution": {
     "iopub.execute_input": "2022-09-11T19:11:29.336772Z",
     "iopub.status.busy": "2022-09-11T19:11:29.336344Z",
     "iopub.status.idle": "2022-09-11T19:11:29.347616Z",
     "shell.execute_reply": "2022-09-11T19:11:29.345732Z"
    },
    "papermill": {
     "duration": 0.032573,
     "end_time": "2022-09-11T19:11:29.351182",
     "exception": false,
     "start_time": "2022-09-11T19:11:29.318609",
     "status": "completed"
    },
    "tags": []
   },
   "outputs": [
    {
     "name": "stdout",
     "output_type": "stream",
     "text": [
      "0       Titan\n",
      "1         NaN\n",
      "2       Titan\n",
      "3       Titan\n",
      "4         NaN\n",
      "        ...  \n",
      "8688    Titan\n",
      "8689      NaN\n",
      "8690      NaN\n",
      "8691    Titan\n",
      "8692    Titan\n",
      "Name: HomePlanet, Length: 8693, dtype: object\n"
     ]
    }
   ],
   "source": [
    "name_list=spaceship_data.HomePlanet.map({'Europa': 'Titan', 'Mars': 'Red Giant'})\n",
    "print(name_list)"
   ]
  },
  {
   "cell_type": "markdown",
   "id": "e8bfe70d",
   "metadata": {
    "papermill": {
     "duration": 0.017142,
     "end_time": "2022-09-11T19:11:29.385646",
     "exception": false,
     "start_time": "2022-09-11T19:11:29.368504",
     "status": "completed"
    },
    "tags": []
   },
   "source": [
    "### apply()\n",
    "- apply() is the equivalent method if we want to transform a **whole DataFrame** *by calling a custom method on each row*."
   ]
  },
  {
   "cell_type": "code",
   "execution_count": 21,
   "id": "52082691",
   "metadata": {
    "execution": {
     "iopub.execute_input": "2022-09-11T19:11:29.430761Z",
     "iopub.status.busy": "2022-09-11T19:11:29.429441Z",
     "iopub.status.idle": "2022-09-11T19:11:29.654446Z",
     "shell.execute_reply": "2022-09-11T19:11:29.652683Z"
    },
    "papermill": {
     "duration": 0.24725,
     "end_time": "2022-09-11T19:11:29.657291",
     "exception": false,
     "start_time": "2022-09-11T19:11:29.410041",
     "status": "completed"
    },
    "tags": []
   },
   "outputs": [
    {
     "name": "stdout",
     "output_type": "stream",
     "text": [
      "0       Not Survived\n",
      "1       Not Survived\n",
      "2           survivor\n",
      "3       Not Survived\n",
      "4       Not Survived\n",
      "            ...     \n",
      "8688        survivor\n",
      "8689        survivor\n",
      "8690    Not Survived\n",
      "8691    Not Survived\n",
      "8692    Not Survived\n",
      "Length: 8693, dtype: object\n"
     ]
    }
   ],
   "source": [
    "def stars(row):\n",
    "    if row.VIP == True:\n",
    "        return \"survivor\"\n",
    "    elif row.CryoSleep == True:\n",
    "        return \"survivor\"\n",
    "    else :\n",
    "        return \"Not Survived\"\n",
    "    \n",
    "planet_ratings = spaceship_data.apply(stars, axis='columns')\n",
    "print(planet_ratings)"
   ]
  },
  {
   "cell_type": "markdown",
   "id": "4c4854a1",
   "metadata": {
    "papermill": {
     "duration": 0.016422,
     "end_time": "2022-09-11T19:11:29.690724",
     "exception": false,
     "start_time": "2022-09-11T19:11:29.674302",
     "status": "completed"
    },
    "tags": []
   },
   "source": [
    "## Groupwise analysis\n",
    "In terms of large amount of data, proper grouping of data is required for in depth analysis of the data.\n",
    "<br/>The following functions are majorly used for the group wise analysis.\n",
    "- **groupby()**\n",
    "- **agg()**\n",
    "- **idxmax()**"
   ]
  },
  {
   "cell_type": "markdown",
   "id": "01642816",
   "metadata": {
    "papermill": {
     "duration": 0.017249,
     "end_time": "2022-09-11T19:11:29.725296",
     "exception": false,
     "start_time": "2022-09-11T19:11:29.708047",
     "status": "completed"
    },
    "tags": []
   },
   "source": [
    "### groupby()\n",
    "- grouping columns based on a metric"
   ]
  },
  {
   "cell_type": "code",
   "execution_count": 22,
   "id": "ad48905d",
   "metadata": {
    "execution": {
     "iopub.execute_input": "2022-09-11T19:11:29.760936Z",
     "iopub.status.busy": "2022-09-11T19:11:29.760499Z",
     "iopub.status.idle": "2022-09-11T19:11:29.770259Z",
     "shell.execute_reply": "2022-09-11T19:11:29.769334Z"
    },
    "papermill": {
     "duration": 0.030036,
     "end_time": "2022-09-11T19:11:29.772380",
     "exception": false,
     "start_time": "2022-09-11T19:11:29.742344",
     "status": "completed"
    },
    "tags": []
   },
   "outputs": [
    {
     "data": {
      "text/plain": [
       "VIP\n",
       "False    8291\n",
       "True      199\n",
       "dtype: int64"
      ]
     },
     "execution_count": 22,
     "metadata": {},
     "output_type": "execute_result"
    }
   ],
   "source": [
    "Martians = spaceship_data.groupby('VIP').size()\n",
    "Martians"
   ]
  },
  {
   "cell_type": "markdown",
   "id": "be6f89ce",
   "metadata": {
    "papermill": {
     "duration": 0.016578,
     "end_time": "2022-09-11T19:11:29.806175",
     "exception": false,
     "start_time": "2022-09-11T19:11:29.789597",
     "status": "completed"
    },
    "tags": []
   },
   "source": [
    "### agg()\n",
    "- which lets you run a bunch of different functions on your DataFrame simultaneously"
   ]
  },
  {
   "cell_type": "code",
   "execution_count": 23,
   "id": "594114e0",
   "metadata": {
    "execution": {
     "iopub.execute_input": "2022-09-11T19:11:29.843098Z",
     "iopub.status.busy": "2022-09-11T19:11:29.842017Z",
     "iopub.status.idle": "2022-09-11T19:11:30.621759Z",
     "shell.execute_reply": "2022-09-11T19:11:30.620600Z"
    },
    "papermill": {
     "duration": 0.801313,
     "end_time": "2022-09-11T19:11:30.624623",
     "exception": false,
     "start_time": "2022-09-11T19:11:29.823310",
     "status": "completed"
    },
    "tags": []
   },
   "outputs": [
    {
     "data": {
      "text/html": [
       "<div>\n",
       "<style scoped>\n",
       "    .dataframe tbody tr th:only-of-type {\n",
       "        vertical-align: middle;\n",
       "    }\n",
       "\n",
       "    .dataframe tbody tr th {\n",
       "        vertical-align: top;\n",
       "    }\n",
       "\n",
       "    .dataframe thead tr th {\n",
       "        text-align: left;\n",
       "    }\n",
       "\n",
       "    .dataframe thead tr:last-of-type th {\n",
       "        text-align: right;\n",
       "    }\n",
       "</style>\n",
       "<table border=\"1\" class=\"dataframe\">\n",
       "  <thead>\n",
       "    <tr>\n",
       "      <th></th>\n",
       "      <th colspan=\"2\" halign=\"left\">PassengerId</th>\n",
       "      <th colspan=\"2\" halign=\"left\">CryoSleep</th>\n",
       "      <th colspan=\"2\" halign=\"left\">Age</th>\n",
       "      <th colspan=\"2\" halign=\"left\">VIP</th>\n",
       "      <th colspan=\"2\" halign=\"left\">FoodCourt</th>\n",
       "      <th colspan=\"2\" halign=\"left\">ShoppingMall</th>\n",
       "      <th colspan=\"2\" halign=\"left\">Spa</th>\n",
       "      <th colspan=\"2\" halign=\"left\">VRDeck</th>\n",
       "      <th colspan=\"2\" halign=\"left\">Transported</th>\n",
       "    </tr>\n",
       "    <tr>\n",
       "      <th></th>\n",
       "      <th>min</th>\n",
       "      <th>max</th>\n",
       "      <th>min</th>\n",
       "      <th>max</th>\n",
       "      <th>min</th>\n",
       "      <th>max</th>\n",
       "      <th>min</th>\n",
       "      <th>max</th>\n",
       "      <th>min</th>\n",
       "      <th>max</th>\n",
       "      <th>min</th>\n",
       "      <th>max</th>\n",
       "      <th>min</th>\n",
       "      <th>max</th>\n",
       "      <th>min</th>\n",
       "      <th>max</th>\n",
       "      <th>min</th>\n",
       "      <th>max</th>\n",
       "    </tr>\n",
       "    <tr>\n",
       "      <th>RoomService</th>\n",
       "      <th></th>\n",
       "      <th></th>\n",
       "      <th></th>\n",
       "      <th></th>\n",
       "      <th></th>\n",
       "      <th></th>\n",
       "      <th></th>\n",
       "      <th></th>\n",
       "      <th></th>\n",
       "      <th></th>\n",
       "      <th></th>\n",
       "      <th></th>\n",
       "      <th></th>\n",
       "      <th></th>\n",
       "      <th></th>\n",
       "      <th></th>\n",
       "      <th></th>\n",
       "      <th></th>\n",
       "    </tr>\n",
       "  </thead>\n",
       "  <tbody>\n",
       "    <tr>\n",
       "      <th>0.0</th>\n",
       "      <td>0001_01</td>\n",
       "      <td>9280_01</td>\n",
       "      <td>False</td>\n",
       "      <td>True</td>\n",
       "      <td>0.0</td>\n",
       "      <td>79.0</td>\n",
       "      <td>False</td>\n",
       "      <td>True</td>\n",
       "      <td>2</td>\n",
       "      <td>8693</td>\n",
       "      <td>0.0</td>\n",
       "      <td>23492.0</td>\n",
       "      <td>0.0</td>\n",
       "      <td>18572.0</td>\n",
       "      <td>0.0</td>\n",
       "      <td>20336.0</td>\n",
       "      <td>False</td>\n",
       "      <td>True</td>\n",
       "    </tr>\n",
       "    <tr>\n",
       "      <th>1.0</th>\n",
       "      <td>0066_01</td>\n",
       "      <td>9275_02</td>\n",
       "      <td>False</td>\n",
       "      <td>False</td>\n",
       "      <td>13.0</td>\n",
       "      <td>67.0</td>\n",
       "      <td>False</td>\n",
       "      <td>True</td>\n",
       "      <td>7</td>\n",
       "      <td>8633</td>\n",
       "      <td>0.0</td>\n",
       "      <td>4790.0</td>\n",
       "      <td>0.0</td>\n",
       "      <td>13104.0</td>\n",
       "      <td>0.0</td>\n",
       "      <td>12682.0</td>\n",
       "      <td>False</td>\n",
       "      <td>True</td>\n",
       "    </tr>\n",
       "    <tr>\n",
       "      <th>2.0</th>\n",
       "      <td>0206_01</td>\n",
       "      <td>9239_01</td>\n",
       "      <td>False</td>\n",
       "      <td>False</td>\n",
       "      <td>13.0</td>\n",
       "      <td>61.0</td>\n",
       "      <td>False</td>\n",
       "      <td>True</td>\n",
       "      <td>33</td>\n",
       "      <td>8509</td>\n",
       "      <td>0.0</td>\n",
       "      <td>4509.0</td>\n",
       "      <td>0.0</td>\n",
       "      <td>5577.0</td>\n",
       "      <td>0.0</td>\n",
       "      <td>14485.0</td>\n",
       "      <td>False</td>\n",
       "      <td>True</td>\n",
       "    </tr>\n",
       "    <tr>\n",
       "      <th>3.0</th>\n",
       "      <td>0286_01</td>\n",
       "      <td>9233_01</td>\n",
       "      <td>False</td>\n",
       "      <td>False</td>\n",
       "      <td>14.0</td>\n",
       "      <td>63.0</td>\n",
       "      <td>False</td>\n",
       "      <td>True</td>\n",
       "      <td>37</td>\n",
       "      <td>8434</td>\n",
       "      <td>0.0</td>\n",
       "      <td>2908.0</td>\n",
       "      <td>0.0</td>\n",
       "      <td>10860.0</td>\n",
       "      <td>0.0</td>\n",
       "      <td>12392.0</td>\n",
       "      <td>False</td>\n",
       "      <td>True</td>\n",
       "    </tr>\n",
       "    <tr>\n",
       "      <th>4.0</th>\n",
       "      <td>0052_01</td>\n",
       "      <td>8834_01</td>\n",
       "      <td>False</td>\n",
       "      <td>False</td>\n",
       "      <td>13.0</td>\n",
       "      <td>50.0</td>\n",
       "      <td>False</td>\n",
       "      <td>False</td>\n",
       "      <td>420</td>\n",
       "      <td>8643</td>\n",
       "      <td>0.0</td>\n",
       "      <td>2574.0</td>\n",
       "      <td>0.0</td>\n",
       "      <td>4683.0</td>\n",
       "      <td>0.0</td>\n",
       "      <td>3656.0</td>\n",
       "      <td>False</td>\n",
       "      <td>True</td>\n",
       "    </tr>\n",
       "    <tr>\n",
       "      <th>...</th>\n",
       "      <td>...</td>\n",
       "      <td>...</td>\n",
       "      <td>...</td>\n",
       "      <td>...</td>\n",
       "      <td>...</td>\n",
       "      <td>...</td>\n",
       "      <td>...</td>\n",
       "      <td>...</td>\n",
       "      <td>...</td>\n",
       "      <td>...</td>\n",
       "      <td>...</td>\n",
       "      <td>...</td>\n",
       "      <td>...</td>\n",
       "      <td>...</td>\n",
       "      <td>...</td>\n",
       "      <td>...</td>\n",
       "      <td>...</td>\n",
       "      <td>...</td>\n",
       "    </tr>\n",
       "    <tr>\n",
       "      <th>8209.0</th>\n",
       "      <td>7585_02</td>\n",
       "      <td>7585_02</td>\n",
       "      <td>False</td>\n",
       "      <td>False</td>\n",
       "      <td>39.0</td>\n",
       "      <td>39.0</td>\n",
       "      <td>NaN</td>\n",
       "      <td>NaN</td>\n",
       "      <td>1575</td>\n",
       "      <td>1575</td>\n",
       "      <td>432.0</td>\n",
       "      <td>432.0</td>\n",
       "      <td>3560.0</td>\n",
       "      <td>3560.0</td>\n",
       "      <td>54.0</td>\n",
       "      <td>54.0</td>\n",
       "      <td>False</td>\n",
       "      <td>False</td>\n",
       "    </tr>\n",
       "    <tr>\n",
       "      <th>8243.0</th>\n",
       "      <td>8470_01</td>\n",
       "      <td>8470_01</td>\n",
       "      <td>NaN</td>\n",
       "      <td>NaN</td>\n",
       "      <td>31.0</td>\n",
       "      <td>31.0</td>\n",
       "      <td>True</td>\n",
       "      <td>True</td>\n",
       "      <td>760</td>\n",
       "      <td>760</td>\n",
       "      <td>0.0</td>\n",
       "      <td>0.0</td>\n",
       "      <td>3220.0</td>\n",
       "      <td>3220.0</td>\n",
       "      <td>2285.0</td>\n",
       "      <td>2285.0</td>\n",
       "      <td>False</td>\n",
       "      <td>False</td>\n",
       "    </tr>\n",
       "    <tr>\n",
       "      <th>8586.0</th>\n",
       "      <td>9202_01</td>\n",
       "      <td>9202_01</td>\n",
       "      <td>False</td>\n",
       "      <td>False</td>\n",
       "      <td>26.0</td>\n",
       "      <td>26.0</td>\n",
       "      <td>False</td>\n",
       "      <td>False</td>\n",
       "      <td>67</td>\n",
       "      <td>67</td>\n",
       "      <td>114.0</td>\n",
       "      <td>114.0</td>\n",
       "      <td>29.0</td>\n",
       "      <td>29.0</td>\n",
       "      <td>4.0</td>\n",
       "      <td>4.0</td>\n",
       "      <td>False</td>\n",
       "      <td>False</td>\n",
       "    </tr>\n",
       "    <tr>\n",
       "      <th>9920.0</th>\n",
       "      <td>5455_01</td>\n",
       "      <td>5455_01</td>\n",
       "      <td>False</td>\n",
       "      <td>False</td>\n",
       "      <td>13.0</td>\n",
       "      <td>13.0</td>\n",
       "      <td>False</td>\n",
       "      <td>False</td>\n",
       "      <td>3588</td>\n",
       "      <td>3588</td>\n",
       "      <td>180.0</td>\n",
       "      <td>180.0</td>\n",
       "      <td>130.0</td>\n",
       "      <td>130.0</td>\n",
       "      <td>571.0</td>\n",
       "      <td>571.0</td>\n",
       "      <td>False</td>\n",
       "      <td>False</td>\n",
       "    </tr>\n",
       "    <tr>\n",
       "      <th>14327.0</th>\n",
       "      <td>4690_02</td>\n",
       "      <td>4690_02</td>\n",
       "      <td>False</td>\n",
       "      <td>False</td>\n",
       "      <td>27.0</td>\n",
       "      <td>27.0</td>\n",
       "      <td>False</td>\n",
       "      <td>False</td>\n",
       "      <td>4277</td>\n",
       "      <td>4277</td>\n",
       "      <td>0.0</td>\n",
       "      <td>0.0</td>\n",
       "      <td>1.0</td>\n",
       "      <td>1.0</td>\n",
       "      <td>0.0</td>\n",
       "      <td>0.0</td>\n",
       "      <td>False</td>\n",
       "      <td>False</td>\n",
       "    </tr>\n",
       "  </tbody>\n",
       "</table>\n",
       "<p>1273 rows × 18 columns</p>\n",
       "</div>"
      ],
      "text/plain": [
       "            PassengerId          CryoSleep          Age          VIP         \\\n",
       "                    min      max       min    max   min   max    min    max   \n",
       "RoomService                                                                   \n",
       "0.0             0001_01  9280_01     False   True   0.0  79.0  False   True   \n",
       "1.0             0066_01  9275_02     False  False  13.0  67.0  False   True   \n",
       "2.0             0206_01  9239_01     False  False  13.0  61.0  False   True   \n",
       "3.0             0286_01  9233_01     False  False  14.0  63.0  False   True   \n",
       "4.0             0052_01  8834_01     False  False  13.0  50.0  False  False   \n",
       "...                 ...      ...       ...    ...   ...   ...    ...    ...   \n",
       "8209.0          7585_02  7585_02     False  False  39.0  39.0    NaN    NaN   \n",
       "8243.0          8470_01  8470_01       NaN    NaN  31.0  31.0   True   True   \n",
       "8586.0          9202_01  9202_01     False  False  26.0  26.0  False  False   \n",
       "9920.0          5455_01  5455_01     False  False  13.0  13.0  False  False   \n",
       "14327.0         4690_02  4690_02     False  False  27.0  27.0  False  False   \n",
       "\n",
       "            FoodCourt       ShoppingMall              Spa           VRDeck  \\\n",
       "                  min   max          min      max     min      max     min   \n",
       "RoomService                                                                  \n",
       "0.0                 2  8693          0.0  23492.0     0.0  18572.0     0.0   \n",
       "1.0                 7  8633          0.0   4790.0     0.0  13104.0     0.0   \n",
       "2.0                33  8509          0.0   4509.0     0.0   5577.0     0.0   \n",
       "3.0                37  8434          0.0   2908.0     0.0  10860.0     0.0   \n",
       "4.0               420  8643          0.0   2574.0     0.0   4683.0     0.0   \n",
       "...               ...   ...          ...      ...     ...      ...     ...   \n",
       "8209.0           1575  1575        432.0    432.0  3560.0   3560.0    54.0   \n",
       "8243.0            760   760          0.0      0.0  3220.0   3220.0  2285.0   \n",
       "8586.0             67    67        114.0    114.0    29.0     29.0     4.0   \n",
       "9920.0           3588  3588        180.0    180.0   130.0    130.0   571.0   \n",
       "14327.0          4277  4277          0.0      0.0     1.0      1.0     0.0   \n",
       "\n",
       "                     Transported         \n",
       "                 max         min    max  \n",
       "RoomService                              \n",
       "0.0          20336.0       False   True  \n",
       "1.0          12682.0       False   True  \n",
       "2.0          14485.0       False   True  \n",
       "3.0          12392.0       False   True  \n",
       "4.0           3656.0       False   True  \n",
       "...              ...         ...    ...  \n",
       "8209.0          54.0       False  False  \n",
       "8243.0        2285.0       False  False  \n",
       "8586.0           4.0       False  False  \n",
       "9920.0         571.0       False  False  \n",
       "14327.0          0.0       False  False  \n",
       "\n",
       "[1273 rows x 18 columns]"
      ]
     },
     "execution_count": 23,
     "metadata": {},
     "output_type": "execute_result"
    }
   ],
   "source": [
    "room_data = spaceship_data.groupby('RoomService').agg([min,max])\n",
    "room_data"
   ]
  },
  {
   "cell_type": "markdown",
   "id": "d87b1684",
   "metadata": {
    "papermill": {
     "duration": 0.016977,
     "end_time": "2022-09-11T19:11:30.659734",
     "exception": false,
     "start_time": "2022-09-11T19:11:30.642757",
     "status": "completed"
    },
    "tags": []
   },
   "source": [
    "### idxmax()\n",
    "- The idxmax() method returns a Series with the index of the maximum value for each column. By specifying the column axis ( axis='columns' ).\n",
    "- the idxmax() method returns a Series with the index of the maximum value for each row."
   ]
  },
  {
   "cell_type": "code",
   "execution_count": 24,
   "id": "63d74ce2",
   "metadata": {
    "execution": {
     "iopub.execute_input": "2022-09-11T19:11:30.696332Z",
     "iopub.status.busy": "2022-09-11T19:11:30.695938Z",
     "iopub.status.idle": "2022-09-11T19:11:30.703656Z",
     "shell.execute_reply": "2022-09-11T19:11:30.702611Z"
    },
    "papermill": {
     "duration": 0.029257,
     "end_time": "2022-09-11T19:11:30.706498",
     "exception": false,
     "start_time": "2022-09-11T19:11:30.677241",
     "status": "completed"
    },
    "tags": []
   },
   "outputs": [
    {
     "name": "stdout",
     "output_type": "stream",
     "text": [
      "sales    2\n",
      "age      0\n",
      "dtype: int64\n"
     ]
    }
   ],
   "source": [
    "data = {\n",
    "  \"sales\": [23, 34, 56],\n",
    "  \"age\": [50, 40, 30]\n",
    "}\n",
    "\n",
    "df = pd.DataFrame(data)\n",
    "\n",
    "print(df.idxmax())"
   ]
  },
  {
   "cell_type": "markdown",
   "id": "c4dae17b",
   "metadata": {
    "papermill": {
     "duration": 0.016949,
     "end_time": "2022-09-11T19:11:30.741561",
     "exception": false,
     "start_time": "2022-09-11T19:11:30.724612",
     "status": "completed"
    },
    "tags": []
   },
   "source": [
    "# Data Types \n",
    "The data type for a column in a DataFrame or a Series is known as the **dtype.**\n",
    "<br/> The funcitons related to Data types are:\n",
    "- dtype\n",
    "- dtypes\n",
    "- astype()\n",
    "- fillna()\n",
    "- replace()\n",
    "- sort_values()\n",
    "- rename()\n",
    "- rename_axis()\n"
   ]
  },
  {
   "cell_type": "markdown",
   "id": "a75c6ffb",
   "metadata": {
    "papermill": {
     "duration": 0.016708,
     "end_time": "2022-09-11T19:11:30.775405",
     "exception": false,
     "start_time": "2022-09-11T19:11:30.758697",
     "status": "completed"
    },
    "tags": []
   },
   "source": [
    "### dtype\n",
    "- shows the data type of the column"
   ]
  },
  {
   "cell_type": "code",
   "execution_count": 25,
   "id": "5778b2e0",
   "metadata": {
    "execution": {
     "iopub.execute_input": "2022-09-11T19:11:30.812452Z",
     "iopub.status.busy": "2022-09-11T19:11:30.811706Z",
     "iopub.status.idle": "2022-09-11T19:11:30.818006Z",
     "shell.execute_reply": "2022-09-11T19:11:30.817071Z"
    },
    "papermill": {
     "duration": 0.027268,
     "end_time": "2022-09-11T19:11:30.820308",
     "exception": false,
     "start_time": "2022-09-11T19:11:30.793040",
     "status": "completed"
    },
    "tags": []
   },
   "outputs": [
    {
     "data": {
      "text/plain": [
       "dtype('float64')"
      ]
     },
     "execution_count": 25,
     "metadata": {},
     "output_type": "execute_result"
    }
   ],
   "source": [
    "spaceship_data.RoomService.dtype"
   ]
  },
  {
   "cell_type": "markdown",
   "id": "c78cc34b",
   "metadata": {
    "papermill": {
     "duration": 0.016899,
     "end_time": "2022-09-11T19:11:30.854636",
     "exception": false,
     "start_time": "2022-09-11T19:11:30.837737",
     "status": "completed"
    },
    "tags": []
   },
   "source": [
    "### dtypes\n",
    "- shows data type pf every column of the dataframe"
   ]
  },
  {
   "cell_type": "code",
   "execution_count": 26,
   "id": "39710c71",
   "metadata": {
    "execution": {
     "iopub.execute_input": "2022-09-11T19:11:30.891753Z",
     "iopub.status.busy": "2022-09-11T19:11:30.891303Z",
     "iopub.status.idle": "2022-09-11T19:11:30.899203Z",
     "shell.execute_reply": "2022-09-11T19:11:30.898330Z"
    },
    "papermill": {
     "duration": 0.029152,
     "end_time": "2022-09-11T19:11:30.901316",
     "exception": false,
     "start_time": "2022-09-11T19:11:30.872164",
     "status": "completed"
    },
    "tags": []
   },
   "outputs": [
    {
     "data": {
      "text/plain": [
       "PassengerId      object\n",
       "HomePlanet       object\n",
       "CryoSleep        object\n",
       "Cabin            object\n",
       "Destination      object\n",
       "Age             float64\n",
       "VIP              object\n",
       "RoomService     float64\n",
       "FoodCourt         int64\n",
       "ShoppingMall    float64\n",
       "Spa             float64\n",
       "VRDeck          float64\n",
       "Name             object\n",
       "Transported        bool\n",
       "dtype: object"
      ]
     },
     "execution_count": 26,
     "metadata": {},
     "output_type": "execute_result"
    }
   ],
   "source": [
    "spaceship_data.dtypes"
   ]
  },
  {
   "cell_type": "markdown",
   "id": "648479fa",
   "metadata": {
    "papermill": {
     "duration": 0.017667,
     "end_time": "2022-09-11T19:11:30.937061",
     "exception": false,
     "start_time": "2022-09-11T19:11:30.919394",
     "status": "completed"
    },
    "tags": []
   },
   "source": [
    "### astype()\n",
    "- It's possible to convert a column of one type into another wherever such a conversion makes sense by using the astype()"
   ]
  },
  {
   "cell_type": "code",
   "execution_count": 27,
   "id": "0ee65a89",
   "metadata": {
    "execution": {
     "iopub.execute_input": "2022-09-11T19:11:30.973662Z",
     "iopub.status.busy": "2022-09-11T19:11:30.973214Z",
     "iopub.status.idle": "2022-09-11T19:11:30.982029Z",
     "shell.execute_reply": "2022-09-11T19:11:30.980959Z"
    },
    "papermill": {
     "duration": 0.030145,
     "end_time": "2022-09-11T19:11:30.984536",
     "exception": false,
     "start_time": "2022-09-11T19:11:30.954391",
     "status": "completed"
    },
    "tags": []
   },
   "outputs": [
    {
     "data": {
      "text/plain": [
       "0       Europa\n",
       "1        Earth\n",
       "2       Europa\n",
       "3       Europa\n",
       "4        Earth\n",
       "         ...  \n",
       "8688    Europa\n",
       "8689     Earth\n",
       "8690     Earth\n",
       "8691    Europa\n",
       "8692    Europa\n",
       "Name: HomePlanet, Length: 8693, dtype: object"
      ]
     },
     "execution_count": 27,
     "metadata": {},
     "output_type": "execute_result"
    }
   ],
   "source": [
    "spaceship_data.HomePlanet.astype(str)"
   ]
  },
  {
   "cell_type": "markdown",
   "id": "1b24b63b",
   "metadata": {
    "papermill": {
     "duration": 0.017309,
     "end_time": "2022-09-11T19:11:31.019379",
     "exception": false,
     "start_time": "2022-09-11T19:11:31.002070",
     "status": "completed"
    },
    "tags": []
   },
   "source": [
    "### fillna()\n",
    "- Filling the NaN value with the value we required\n",
    "- we could fill each missing value with the first non-null value that appears sometime after the given record in the database. This is known as the backfill strategy.\n"
   ]
  },
  {
   "cell_type": "code",
   "execution_count": 28,
   "id": "899fe33d",
   "metadata": {
    "execution": {
     "iopub.execute_input": "2022-09-11T19:11:31.057294Z",
     "iopub.status.busy": "2022-09-11T19:11:31.056409Z",
     "iopub.status.idle": "2022-09-11T19:11:31.067202Z",
     "shell.execute_reply": "2022-09-11T19:11:31.066138Z"
    },
    "papermill": {
     "duration": 0.032466,
     "end_time": "2022-09-11T19:11:31.069322",
     "exception": false,
     "start_time": "2022-09-11T19:11:31.036856",
     "status": "completed"
    },
    "tags": []
   },
   "outputs": [
    {
     "data": {
      "text/plain": [
       "0       Europa\n",
       "1        Earth\n",
       "2       Europa\n",
       "3       Europa\n",
       "4        Earth\n",
       "         ...  \n",
       "8688    Europa\n",
       "8689     Earth\n",
       "8690     Earth\n",
       "8691    Europa\n",
       "8692    Europa\n",
       "Name: HomePlanet, Length: 8693, dtype: object"
      ]
     },
     "execution_count": 28,
     "metadata": {},
     "output_type": "execute_result"
    }
   ],
   "source": [
    "spaceship_data.HomePlanet.fillna(\"NA\")"
   ]
  },
  {
   "cell_type": "markdown",
   "id": "1bb80335",
   "metadata": {
    "papermill": {
     "duration": 0.017328,
     "end_time": "2022-09-11T19:11:31.104346",
     "exception": false,
     "start_time": "2022-09-11T19:11:31.087018",
     "status": "completed"
    },
    "tags": []
   },
   "source": [
    "### replace()\n",
    "- to replace a particular value with another in dataframe"
   ]
  },
  {
   "cell_type": "code",
   "execution_count": 29,
   "id": "4d555af2",
   "metadata": {
    "execution": {
     "iopub.execute_input": "2022-09-11T19:11:31.141791Z",
     "iopub.status.busy": "2022-09-11T19:11:31.141019Z",
     "iopub.status.idle": "2022-09-11T19:11:31.150116Z",
     "shell.execute_reply": "2022-09-11T19:11:31.148956Z"
    },
    "papermill": {
     "duration": 0.030281,
     "end_time": "2022-09-11T19:11:31.152387",
     "exception": false,
     "start_time": "2022-09-11T19:11:31.122106",
     "status": "completed"
    },
    "tags": []
   },
   "outputs": [
    {
     "data": {
      "text/plain": [
       "0       Europa\n",
       "1        Earth\n",
       "2       Europa\n",
       "3       Europa\n",
       "4        Earth\n",
       "         ...  \n",
       "8688    Europa\n",
       "8689     Earth\n",
       "8690     Earth\n",
       "8691    Europa\n",
       "8692    Europa\n",
       "Name: HomePlanet, Length: 8693, dtype: object"
      ]
     },
     "execution_count": 29,
     "metadata": {},
     "output_type": "execute_result"
    }
   ],
   "source": [
    "spaceship_data.HomePlanet.replace(\"NA\",\"Not Available\")"
   ]
  },
  {
   "cell_type": "markdown",
   "id": "7883a417",
   "metadata": {
    "papermill": {
     "duration": 0.017469,
     "end_time": "2022-09-11T19:11:31.188072",
     "exception": false,
     "start_time": "2022-09-11T19:11:31.170603",
     "status": "completed"
    },
    "tags": []
   },
   "source": [
    "### sort_values()\n",
    "- sort the data on a specific value"
   ]
  },
  {
   "cell_type": "code",
   "execution_count": 30,
   "id": "e9a277e5",
   "metadata": {
    "execution": {
     "iopub.execute_input": "2022-09-11T19:11:31.225324Z",
     "iopub.status.busy": "2022-09-11T19:11:31.224891Z",
     "iopub.status.idle": "2022-09-11T19:11:31.238261Z",
     "shell.execute_reply": "2022-09-11T19:11:31.237360Z"
    },
    "papermill": {
     "duration": 0.034566,
     "end_time": "2022-09-11T19:11:31.240390",
     "exception": false,
     "start_time": "2022-09-11T19:11:31.205824",
     "status": "completed"
    },
    "tags": []
   },
   "outputs": [
    {
     "data": {
      "text/plain": [
       "2765    Earth\n",
       "3546    Earth\n",
       "3545    Earth\n",
       "3544    Earth\n",
       "3543    Earth\n",
       "        ...  \n",
       "8515      NaN\n",
       "8613      NaN\n",
       "8666      NaN\n",
       "8674      NaN\n",
       "8684      NaN\n",
       "Name: HomePlanet, Length: 8693, dtype: object"
      ]
     },
     "execution_count": 30,
     "metadata": {},
     "output_type": "execute_result"
    }
   ],
   "source": [
    "spaceship_data.HomePlanet.sort_values()"
   ]
  },
  {
   "cell_type": "markdown",
   "id": "02a16eb6",
   "metadata": {
    "papermill": {
     "duration": 0.017607,
     "end_time": "2022-09-11T19:11:31.276101",
     "exception": false,
     "start_time": "2022-09-11T19:11:31.258494",
     "status": "completed"
    },
    "tags": []
   },
   "source": [
    "### rename()\n",
    "- rename columns / index names\n",
    "- rename() lets you rename index or column values by specifying a index or column keyword parameter, respectively. It supports a variety of input formats, but usually a Python dictionary is the most convenient. "
   ]
  },
  {
   "cell_type": "code",
   "execution_count": 31,
   "id": "c85df8ad",
   "metadata": {
    "execution": {
     "iopub.execute_input": "2022-09-11T19:11:31.314135Z",
     "iopub.status.busy": "2022-09-11T19:11:31.313447Z",
     "iopub.status.idle": "2022-09-11T19:11:31.335902Z",
     "shell.execute_reply": "2022-09-11T19:11:31.334830Z"
    },
    "papermill": {
     "duration": 0.044229,
     "end_time": "2022-09-11T19:11:31.338329",
     "exception": false,
     "start_time": "2022-09-11T19:11:31.294100",
     "status": "completed"
    },
    "tags": []
   },
   "outputs": [
    {
     "data": {
      "text/html": [
       "<div>\n",
       "<style scoped>\n",
       "    .dataframe tbody tr th:only-of-type {\n",
       "        vertical-align: middle;\n",
       "    }\n",
       "\n",
       "    .dataframe tbody tr th {\n",
       "        vertical-align: top;\n",
       "    }\n",
       "\n",
       "    .dataframe thead th {\n",
       "        text-align: right;\n",
       "    }\n",
       "</style>\n",
       "<table border=\"1\" class=\"dataframe\">\n",
       "  <thead>\n",
       "    <tr style=\"text-align: right;\">\n",
       "      <th></th>\n",
       "      <th>PassengerId</th>\n",
       "      <th>HomePlanet</th>\n",
       "      <th>CryoSleep</th>\n",
       "      <th>Cabin</th>\n",
       "      <th>Destination</th>\n",
       "      <th>Age</th>\n",
       "      <th>VIP</th>\n",
       "      <th>RoomService</th>\n",
       "      <th>FoodCourt</th>\n",
       "      <th>Mall</th>\n",
       "      <th>Spa</th>\n",
       "      <th>VRDeck</th>\n",
       "      <th>Name</th>\n",
       "      <th>Transported</th>\n",
       "    </tr>\n",
       "  </thead>\n",
       "  <tbody>\n",
       "    <tr>\n",
       "      <th>0</th>\n",
       "      <td>0001_01</td>\n",
       "      <td>Europa</td>\n",
       "      <td>False</td>\n",
       "      <td>B/0/P</td>\n",
       "      <td>TRAPPIST-1e</td>\n",
       "      <td>39.0</td>\n",
       "      <td>False</td>\n",
       "      <td>0.0</td>\n",
       "      <td>8693</td>\n",
       "      <td>0.0</td>\n",
       "      <td>0.0</td>\n",
       "      <td>0.0</td>\n",
       "      <td>Maham Ofracculy</td>\n",
       "      <td>False</td>\n",
       "    </tr>\n",
       "    <tr>\n",
       "      <th>1</th>\n",
       "      <td>0002_01</td>\n",
       "      <td>Earth</td>\n",
       "      <td>False</td>\n",
       "      <td>F/0/S</td>\n",
       "      <td>TRAPPIST-1e</td>\n",
       "      <td>24.0</td>\n",
       "      <td>False</td>\n",
       "      <td>109.0</td>\n",
       "      <td>8692</td>\n",
       "      <td>25.0</td>\n",
       "      <td>549.0</td>\n",
       "      <td>44.0</td>\n",
       "      <td>Juanna Vines</td>\n",
       "      <td>True</td>\n",
       "    </tr>\n",
       "    <tr>\n",
       "      <th>2</th>\n",
       "      <td>0003_01</td>\n",
       "      <td>Europa</td>\n",
       "      <td>False</td>\n",
       "      <td>A/0/S</td>\n",
       "      <td>TRAPPIST-1e</td>\n",
       "      <td>58.0</td>\n",
       "      <td>True</td>\n",
       "      <td>43.0</td>\n",
       "      <td>8691</td>\n",
       "      <td>0.0</td>\n",
       "      <td>6715.0</td>\n",
       "      <td>49.0</td>\n",
       "      <td>Altark Susent</td>\n",
       "      <td>False</td>\n",
       "    </tr>\n",
       "    <tr>\n",
       "      <th>3</th>\n",
       "      <td>0003_02</td>\n",
       "      <td>Europa</td>\n",
       "      <td>False</td>\n",
       "      <td>A/0/S</td>\n",
       "      <td>TRAPPIST-1e</td>\n",
       "      <td>33.0</td>\n",
       "      <td>False</td>\n",
       "      <td>0.0</td>\n",
       "      <td>8690</td>\n",
       "      <td>371.0</td>\n",
       "      <td>3329.0</td>\n",
       "      <td>193.0</td>\n",
       "      <td>Solam Susent</td>\n",
       "      <td>False</td>\n",
       "    </tr>\n",
       "    <tr>\n",
       "      <th>4</th>\n",
       "      <td>0004_01</td>\n",
       "      <td>Earth</td>\n",
       "      <td>False</td>\n",
       "      <td>F/1/S</td>\n",
       "      <td>TRAPPIST-1e</td>\n",
       "      <td>16.0</td>\n",
       "      <td>False</td>\n",
       "      <td>303.0</td>\n",
       "      <td>8689</td>\n",
       "      <td>151.0</td>\n",
       "      <td>565.0</td>\n",
       "      <td>2.0</td>\n",
       "      <td>Willy Santantines</td>\n",
       "      <td>True</td>\n",
       "    </tr>\n",
       "  </tbody>\n",
       "</table>\n",
       "</div>"
      ],
      "text/plain": [
       "  PassengerId HomePlanet CryoSleep  Cabin  Destination   Age    VIP  \\\n",
       "0     0001_01     Europa     False  B/0/P  TRAPPIST-1e  39.0  False   \n",
       "1     0002_01      Earth     False  F/0/S  TRAPPIST-1e  24.0  False   \n",
       "2     0003_01     Europa     False  A/0/S  TRAPPIST-1e  58.0   True   \n",
       "3     0003_02     Europa     False  A/0/S  TRAPPIST-1e  33.0  False   \n",
       "4     0004_01      Earth     False  F/1/S  TRAPPIST-1e  16.0  False   \n",
       "\n",
       "   RoomService  FoodCourt   Mall     Spa  VRDeck               Name  \\\n",
       "0          0.0       8693    0.0     0.0     0.0    Maham Ofracculy   \n",
       "1        109.0       8692   25.0   549.0    44.0       Juanna Vines   \n",
       "2         43.0       8691    0.0  6715.0    49.0      Altark Susent   \n",
       "3          0.0       8690  371.0  3329.0   193.0       Solam Susent   \n",
       "4        303.0       8689  151.0   565.0     2.0  Willy Santantines   \n",
       "\n",
       "   Transported  \n",
       "0        False  \n",
       "1         True  \n",
       "2        False  \n",
       "3        False  \n",
       "4         True  "
      ]
     },
     "execution_count": 31,
     "metadata": {},
     "output_type": "execute_result"
    }
   ],
   "source": [
    "mall_value=spaceship_data.rename(columns={'ShoppingMall': 'Mall'})\n",
    "mall_value.head()"
   ]
  },
  {
   "cell_type": "markdown",
   "id": "fa797804",
   "metadata": {
    "papermill": {
     "duration": 0.018072,
     "end_time": "2022-09-11T19:11:31.375009",
     "exception": false,
     "start_time": "2022-09-11T19:11:31.356937",
     "status": "completed"
    },
    "tags": []
   },
   "source": [
    "### rename_axis()\n",
    "- can be used to index of a row or column quickly."
   ]
  },
  {
   "cell_type": "code",
   "execution_count": 32,
   "id": "8af6d512",
   "metadata": {
    "execution": {
     "iopub.execute_input": "2022-09-11T19:11:31.413352Z",
     "iopub.status.busy": "2022-09-11T19:11:31.412914Z",
     "iopub.status.idle": "2022-09-11T19:11:31.435170Z",
     "shell.execute_reply": "2022-09-11T19:11:31.434269Z"
    },
    "papermill": {
     "duration": 0.044192,
     "end_time": "2022-09-11T19:11:31.437376",
     "exception": false,
     "start_time": "2022-09-11T19:11:31.393184",
     "status": "completed"
    },
    "tags": []
   },
   "outputs": [
    {
     "data": {
      "text/html": [
       "<div>\n",
       "<style scoped>\n",
       "    .dataframe tbody tr th:only-of-type {\n",
       "        vertical-align: middle;\n",
       "    }\n",
       "\n",
       "    .dataframe tbody tr th {\n",
       "        vertical-align: top;\n",
       "    }\n",
       "\n",
       "    .dataframe thead th {\n",
       "        text-align: right;\n",
       "    }\n",
       "</style>\n",
       "<table border=\"1\" class=\"dataframe\">\n",
       "  <thead>\n",
       "    <tr style=\"text-align: right;\">\n",
       "      <th></th>\n",
       "      <th>PassengerId</th>\n",
       "      <th>HomePlanet</th>\n",
       "      <th>CryoSleep</th>\n",
       "      <th>Cabin</th>\n",
       "      <th>Destination</th>\n",
       "      <th>Age</th>\n",
       "      <th>VIP</th>\n",
       "      <th>RoomService</th>\n",
       "      <th>FoodCourt</th>\n",
       "      <th>ShoppingMall</th>\n",
       "      <th>Spa</th>\n",
       "      <th>VRDeck</th>\n",
       "      <th>Name</th>\n",
       "      <th>Transported</th>\n",
       "    </tr>\n",
       "    <tr>\n",
       "      <th>data</th>\n",
       "      <th></th>\n",
       "      <th></th>\n",
       "      <th></th>\n",
       "      <th></th>\n",
       "      <th></th>\n",
       "      <th></th>\n",
       "      <th></th>\n",
       "      <th></th>\n",
       "      <th></th>\n",
       "      <th></th>\n",
       "      <th></th>\n",
       "      <th></th>\n",
       "      <th></th>\n",
       "      <th></th>\n",
       "    </tr>\n",
       "  </thead>\n",
       "  <tbody>\n",
       "    <tr>\n",
       "      <th>0</th>\n",
       "      <td>0001_01</td>\n",
       "      <td>Europa</td>\n",
       "      <td>False</td>\n",
       "      <td>B/0/P</td>\n",
       "      <td>TRAPPIST-1e</td>\n",
       "      <td>39.0</td>\n",
       "      <td>False</td>\n",
       "      <td>0.0</td>\n",
       "      <td>8693</td>\n",
       "      <td>0.0</td>\n",
       "      <td>0.0</td>\n",
       "      <td>0.0</td>\n",
       "      <td>Maham Ofracculy</td>\n",
       "      <td>False</td>\n",
       "    </tr>\n",
       "    <tr>\n",
       "      <th>1</th>\n",
       "      <td>0002_01</td>\n",
       "      <td>Earth</td>\n",
       "      <td>False</td>\n",
       "      <td>F/0/S</td>\n",
       "      <td>TRAPPIST-1e</td>\n",
       "      <td>24.0</td>\n",
       "      <td>False</td>\n",
       "      <td>109.0</td>\n",
       "      <td>8692</td>\n",
       "      <td>25.0</td>\n",
       "      <td>549.0</td>\n",
       "      <td>44.0</td>\n",
       "      <td>Juanna Vines</td>\n",
       "      <td>True</td>\n",
       "    </tr>\n",
       "    <tr>\n",
       "      <th>2</th>\n",
       "      <td>0003_01</td>\n",
       "      <td>Europa</td>\n",
       "      <td>False</td>\n",
       "      <td>A/0/S</td>\n",
       "      <td>TRAPPIST-1e</td>\n",
       "      <td>58.0</td>\n",
       "      <td>True</td>\n",
       "      <td>43.0</td>\n",
       "      <td>8691</td>\n",
       "      <td>0.0</td>\n",
       "      <td>6715.0</td>\n",
       "      <td>49.0</td>\n",
       "      <td>Altark Susent</td>\n",
       "      <td>False</td>\n",
       "    </tr>\n",
       "    <tr>\n",
       "      <th>3</th>\n",
       "      <td>0003_02</td>\n",
       "      <td>Europa</td>\n",
       "      <td>False</td>\n",
       "      <td>A/0/S</td>\n",
       "      <td>TRAPPIST-1e</td>\n",
       "      <td>33.0</td>\n",
       "      <td>False</td>\n",
       "      <td>0.0</td>\n",
       "      <td>8690</td>\n",
       "      <td>371.0</td>\n",
       "      <td>3329.0</td>\n",
       "      <td>193.0</td>\n",
       "      <td>Solam Susent</td>\n",
       "      <td>False</td>\n",
       "    </tr>\n",
       "    <tr>\n",
       "      <th>4</th>\n",
       "      <td>0004_01</td>\n",
       "      <td>Earth</td>\n",
       "      <td>False</td>\n",
       "      <td>F/1/S</td>\n",
       "      <td>TRAPPIST-1e</td>\n",
       "      <td>16.0</td>\n",
       "      <td>False</td>\n",
       "      <td>303.0</td>\n",
       "      <td>8689</td>\n",
       "      <td>151.0</td>\n",
       "      <td>565.0</td>\n",
       "      <td>2.0</td>\n",
       "      <td>Willy Santantines</td>\n",
       "      <td>True</td>\n",
       "    </tr>\n",
       "  </tbody>\n",
       "</table>\n",
       "</div>"
      ],
      "text/plain": [
       "     PassengerId HomePlanet CryoSleep  Cabin  Destination   Age    VIP  \\\n",
       "data                                                                     \n",
       "0        0001_01     Europa     False  B/0/P  TRAPPIST-1e  39.0  False   \n",
       "1        0002_01      Earth     False  F/0/S  TRAPPIST-1e  24.0  False   \n",
       "2        0003_01     Europa     False  A/0/S  TRAPPIST-1e  58.0   True   \n",
       "3        0003_02     Europa     False  A/0/S  TRAPPIST-1e  33.0  False   \n",
       "4        0004_01      Earth     False  F/1/S  TRAPPIST-1e  16.0  False   \n",
       "\n",
       "      RoomService  FoodCourt  ShoppingMall     Spa  VRDeck               Name  \\\n",
       "data                                                                            \n",
       "0             0.0       8693           0.0     0.0     0.0    Maham Ofracculy   \n",
       "1           109.0       8692          25.0   549.0    44.0       Juanna Vines   \n",
       "2            43.0       8691           0.0  6715.0    49.0      Altark Susent   \n",
       "3             0.0       8690         371.0  3329.0   193.0       Solam Susent   \n",
       "4           303.0       8689         151.0   565.0     2.0  Willy Santantines   \n",
       "\n",
       "      Transported  \n",
       "data               \n",
       "0           False  \n",
       "1            True  \n",
       "2           False  \n",
       "3           False  \n",
       "4            True  "
      ]
     },
     "execution_count": 32,
     "metadata": {},
     "output_type": "execute_result"
    }
   ],
   "source": [
    "renameaxis=spaceship_data.rename_axis(\"data\", axis='rows')\n",
    "renameaxis.head()"
   ]
  },
  {
   "cell_type": "markdown",
   "id": "ff8a7513",
   "metadata": {
    "papermill": {
     "duration": 0.018614,
     "end_time": "2022-09-11T19:11:31.474909",
     "exception": false,
     "start_time": "2022-09-11T19:11:31.456295",
     "status": "completed"
    },
    "tags": []
   },
   "source": [
    "# Combining Operators\n",
    "- concat()\n",
    "- join()\n",
    "- merge()"
   ]
  },
  {
   "cell_type": "markdown",
   "id": "eb12008b",
   "metadata": {
    "papermill": {
     "duration": 0.018318,
     "end_time": "2022-09-11T19:11:31.512049",
     "exception": false,
     "start_time": "2022-09-11T19:11:31.493731",
     "status": "completed"
    },
    "tags": []
   },
   "source": [
    "### concat()\n",
    "- concating one dataframe on another dataframe"
   ]
  },
  {
   "cell_type": "code",
   "execution_count": 33,
   "id": "07289dc1",
   "metadata": {
    "execution": {
     "iopub.execute_input": "2022-09-11T19:11:31.551932Z",
     "iopub.status.busy": "2022-09-11T19:11:31.551469Z",
     "iopub.status.idle": "2022-09-11T19:11:31.561483Z",
     "shell.execute_reply": "2022-09-11T19:11:31.560415Z"
    },
    "papermill": {
     "duration": 0.0326,
     "end_time": "2022-09-11T19:11:31.563897",
     "exception": false,
     "start_time": "2022-09-11T19:11:31.531297",
     "status": "completed"
    },
    "tags": []
   },
   "outputs": [
    {
     "data": {
      "text/plain": [
       "0       Europa\n",
       "1        Earth\n",
       "2       Europa\n",
       "3       Europa\n",
       "4        Earth\n",
       "         ...  \n",
       "8688     False\n",
       "8689     False\n",
       "8690      True\n",
       "8691     False\n",
       "8692      True\n",
       "Length: 17386, dtype: object"
      ]
     },
     "execution_count": 33,
     "metadata": {},
     "output_type": "execute_result"
    }
   ],
   "source": [
    "data1=spaceship_data.HomePlanet\n",
    "data2=spaceship_data.Transported\n",
    "pd.concat([data1,data2])"
   ]
  },
  {
   "cell_type": "markdown",
   "id": "302a5bc0",
   "metadata": {
    "papermill": {
     "duration": 0.018429,
     "end_time": "2022-09-11T19:11:31.601265",
     "exception": false,
     "start_time": "2022-09-11T19:11:31.582836",
     "status": "completed"
    },
    "tags": []
   },
   "source": [
    "### join()\n",
    "- lsuffix and rsuffix parameters can be used as attributes with the join() function"
   ]
  },
  {
   "cell_type": "code",
   "execution_count": 34,
   "id": "3798a53f",
   "metadata": {
    "execution": {
     "iopub.execute_input": "2022-09-11T19:11:31.640792Z",
     "iopub.status.busy": "2022-09-11T19:11:31.640362Z",
     "iopub.status.idle": "2022-09-11T19:11:31.692001Z",
     "shell.execute_reply": "2022-09-11T19:11:31.690561Z"
    },
    "papermill": {
     "duration": 0.074201,
     "end_time": "2022-09-11T19:11:31.694383",
     "exception": false,
     "start_time": "2022-09-11T19:11:31.620182",
     "status": "completed"
    },
    "tags": []
   },
   "outputs": [
    {
     "data": {
      "text/html": [
       "<div>\n",
       "<style scoped>\n",
       "    .dataframe tbody tr th:only-of-type {\n",
       "        vertical-align: middle;\n",
       "    }\n",
       "\n",
       "    .dataframe tbody tr th {\n",
       "        vertical-align: top;\n",
       "    }\n",
       "\n",
       "    .dataframe thead th {\n",
       "        text-align: right;\n",
       "    }\n",
       "</style>\n",
       "<table border=\"1\" class=\"dataframe\">\n",
       "  <thead>\n",
       "    <tr style=\"text-align: right;\">\n",
       "      <th></th>\n",
       "      <th>PassengerId_CAN</th>\n",
       "      <th>HomePlanet_CAN</th>\n",
       "      <th>CryoSleep_CAN</th>\n",
       "      <th>Cabin_CAN</th>\n",
       "      <th>Destination_CAN</th>\n",
       "      <th>Age_CAN</th>\n",
       "      <th>VIP_CAN</th>\n",
       "      <th>RoomService_CAN</th>\n",
       "      <th>FoodCourt_CAN</th>\n",
       "      <th>ShoppingMall_CAN</th>\n",
       "      <th>...</th>\n",
       "      <th>Destination_UK</th>\n",
       "      <th>Age_UK</th>\n",
       "      <th>VIP_UK</th>\n",
       "      <th>RoomService_UK</th>\n",
       "      <th>FoodCourt_UK</th>\n",
       "      <th>ShoppingMall_UK</th>\n",
       "      <th>Spa_UK</th>\n",
       "      <th>VRDeck_UK</th>\n",
       "      <th>Name_UK</th>\n",
       "      <th>Transported_UK</th>\n",
       "    </tr>\n",
       "  </thead>\n",
       "  <tbody>\n",
       "    <tr>\n",
       "      <th>0</th>\n",
       "      <td>0001_01</td>\n",
       "      <td>Europa</td>\n",
       "      <td>False</td>\n",
       "      <td>B/0/P</td>\n",
       "      <td>TRAPPIST-1e</td>\n",
       "      <td>39.0</td>\n",
       "      <td>False</td>\n",
       "      <td>0.0</td>\n",
       "      <td>8693</td>\n",
       "      <td>0.0</td>\n",
       "      <td>...</td>\n",
       "      <td>TRAPPIST-1e</td>\n",
       "      <td>39.0</td>\n",
       "      <td>False</td>\n",
       "      <td>0.0</td>\n",
       "      <td>8693</td>\n",
       "      <td>0.0</td>\n",
       "      <td>0.0</td>\n",
       "      <td>0.0</td>\n",
       "      <td>Maham Ofracculy</td>\n",
       "      <td>False</td>\n",
       "    </tr>\n",
       "    <tr>\n",
       "      <th>1</th>\n",
       "      <td>0002_01</td>\n",
       "      <td>Earth</td>\n",
       "      <td>False</td>\n",
       "      <td>F/0/S</td>\n",
       "      <td>TRAPPIST-1e</td>\n",
       "      <td>24.0</td>\n",
       "      <td>False</td>\n",
       "      <td>109.0</td>\n",
       "      <td>8692</td>\n",
       "      <td>25.0</td>\n",
       "      <td>...</td>\n",
       "      <td>TRAPPIST-1e</td>\n",
       "      <td>24.0</td>\n",
       "      <td>False</td>\n",
       "      <td>109.0</td>\n",
       "      <td>8692</td>\n",
       "      <td>25.0</td>\n",
       "      <td>549.0</td>\n",
       "      <td>44.0</td>\n",
       "      <td>Juanna Vines</td>\n",
       "      <td>True</td>\n",
       "    </tr>\n",
       "    <tr>\n",
       "      <th>2</th>\n",
       "      <td>0003_01</td>\n",
       "      <td>Europa</td>\n",
       "      <td>False</td>\n",
       "      <td>A/0/S</td>\n",
       "      <td>TRAPPIST-1e</td>\n",
       "      <td>58.0</td>\n",
       "      <td>True</td>\n",
       "      <td>43.0</td>\n",
       "      <td>8691</td>\n",
       "      <td>0.0</td>\n",
       "      <td>...</td>\n",
       "      <td>TRAPPIST-1e</td>\n",
       "      <td>58.0</td>\n",
       "      <td>True</td>\n",
       "      <td>43.0</td>\n",
       "      <td>8691</td>\n",
       "      <td>0.0</td>\n",
       "      <td>6715.0</td>\n",
       "      <td>49.0</td>\n",
       "      <td>Altark Susent</td>\n",
       "      <td>False</td>\n",
       "    </tr>\n",
       "    <tr>\n",
       "      <th>3</th>\n",
       "      <td>0003_02</td>\n",
       "      <td>Europa</td>\n",
       "      <td>False</td>\n",
       "      <td>A/0/S</td>\n",
       "      <td>TRAPPIST-1e</td>\n",
       "      <td>33.0</td>\n",
       "      <td>False</td>\n",
       "      <td>0.0</td>\n",
       "      <td>8690</td>\n",
       "      <td>371.0</td>\n",
       "      <td>...</td>\n",
       "      <td>TRAPPIST-1e</td>\n",
       "      <td>33.0</td>\n",
       "      <td>False</td>\n",
       "      <td>0.0</td>\n",
       "      <td>8690</td>\n",
       "      <td>371.0</td>\n",
       "      <td>3329.0</td>\n",
       "      <td>193.0</td>\n",
       "      <td>Solam Susent</td>\n",
       "      <td>False</td>\n",
       "    </tr>\n",
       "    <tr>\n",
       "      <th>4</th>\n",
       "      <td>0004_01</td>\n",
       "      <td>Earth</td>\n",
       "      <td>False</td>\n",
       "      <td>F/1/S</td>\n",
       "      <td>TRAPPIST-1e</td>\n",
       "      <td>16.0</td>\n",
       "      <td>False</td>\n",
       "      <td>303.0</td>\n",
       "      <td>8689</td>\n",
       "      <td>151.0</td>\n",
       "      <td>...</td>\n",
       "      <td>TRAPPIST-1e</td>\n",
       "      <td>16.0</td>\n",
       "      <td>False</td>\n",
       "      <td>303.0</td>\n",
       "      <td>8689</td>\n",
       "      <td>151.0</td>\n",
       "      <td>565.0</td>\n",
       "      <td>2.0</td>\n",
       "      <td>Willy Santantines</td>\n",
       "      <td>True</td>\n",
       "    </tr>\n",
       "    <tr>\n",
       "      <th>...</th>\n",
       "      <td>...</td>\n",
       "      <td>...</td>\n",
       "      <td>...</td>\n",
       "      <td>...</td>\n",
       "      <td>...</td>\n",
       "      <td>...</td>\n",
       "      <td>...</td>\n",
       "      <td>...</td>\n",
       "      <td>...</td>\n",
       "      <td>...</td>\n",
       "      <td>...</td>\n",
       "      <td>...</td>\n",
       "      <td>...</td>\n",
       "      <td>...</td>\n",
       "      <td>...</td>\n",
       "      <td>...</td>\n",
       "      <td>...</td>\n",
       "      <td>...</td>\n",
       "      <td>...</td>\n",
       "      <td>...</td>\n",
       "      <td>...</td>\n",
       "    </tr>\n",
       "    <tr>\n",
       "      <th>8688</th>\n",
       "      <td>9276_01</td>\n",
       "      <td>Europa</td>\n",
       "      <td>False</td>\n",
       "      <td>A/98/P</td>\n",
       "      <td>55 Cancri e</td>\n",
       "      <td>41.0</td>\n",
       "      <td>True</td>\n",
       "      <td>0.0</td>\n",
       "      <td>5</td>\n",
       "      <td>0.0</td>\n",
       "      <td>...</td>\n",
       "      <td>55 Cancri e</td>\n",
       "      <td>41.0</td>\n",
       "      <td>True</td>\n",
       "      <td>0.0</td>\n",
       "      <td>5</td>\n",
       "      <td>0.0</td>\n",
       "      <td>1643.0</td>\n",
       "      <td>74.0</td>\n",
       "      <td>Gravior Noxnuther</td>\n",
       "      <td>False</td>\n",
       "    </tr>\n",
       "    <tr>\n",
       "      <th>8689</th>\n",
       "      <td>9278_01</td>\n",
       "      <td>Earth</td>\n",
       "      <td>True</td>\n",
       "      <td>G/1499/S</td>\n",
       "      <td>PSO J318.5-22</td>\n",
       "      <td>18.0</td>\n",
       "      <td>False</td>\n",
       "      <td>0.0</td>\n",
       "      <td>4</td>\n",
       "      <td>0.0</td>\n",
       "      <td>...</td>\n",
       "      <td>PSO J318.5-22</td>\n",
       "      <td>18.0</td>\n",
       "      <td>False</td>\n",
       "      <td>0.0</td>\n",
       "      <td>4</td>\n",
       "      <td>0.0</td>\n",
       "      <td>0.0</td>\n",
       "      <td>0.0</td>\n",
       "      <td>Kurta Mondalley</td>\n",
       "      <td>False</td>\n",
       "    </tr>\n",
       "    <tr>\n",
       "      <th>8690</th>\n",
       "      <td>9279_01</td>\n",
       "      <td>Earth</td>\n",
       "      <td>False</td>\n",
       "      <td>G/1500/S</td>\n",
       "      <td>TRAPPIST-1e</td>\n",
       "      <td>26.0</td>\n",
       "      <td>False</td>\n",
       "      <td>0.0</td>\n",
       "      <td>3</td>\n",
       "      <td>1872.0</td>\n",
       "      <td>...</td>\n",
       "      <td>TRAPPIST-1e</td>\n",
       "      <td>26.0</td>\n",
       "      <td>False</td>\n",
       "      <td>0.0</td>\n",
       "      <td>3</td>\n",
       "      <td>1872.0</td>\n",
       "      <td>1.0</td>\n",
       "      <td>0.0</td>\n",
       "      <td>Fayey Connon</td>\n",
       "      <td>True</td>\n",
       "    </tr>\n",
       "    <tr>\n",
       "      <th>8691</th>\n",
       "      <td>9280_01</td>\n",
       "      <td>Europa</td>\n",
       "      <td>False</td>\n",
       "      <td>E/608/S</td>\n",
       "      <td>55 Cancri e</td>\n",
       "      <td>32.0</td>\n",
       "      <td>False</td>\n",
       "      <td>0.0</td>\n",
       "      <td>2</td>\n",
       "      <td>0.0</td>\n",
       "      <td>...</td>\n",
       "      <td>55 Cancri e</td>\n",
       "      <td>32.0</td>\n",
       "      <td>False</td>\n",
       "      <td>0.0</td>\n",
       "      <td>2</td>\n",
       "      <td>0.0</td>\n",
       "      <td>353.0</td>\n",
       "      <td>3235.0</td>\n",
       "      <td>Celeon Hontichre</td>\n",
       "      <td>False</td>\n",
       "    </tr>\n",
       "    <tr>\n",
       "      <th>8692</th>\n",
       "      <td>9280_02</td>\n",
       "      <td>Europa</td>\n",
       "      <td>False</td>\n",
       "      <td>E/608/S</td>\n",
       "      <td>TRAPPIST-1e</td>\n",
       "      <td>44.0</td>\n",
       "      <td>False</td>\n",
       "      <td>126.0</td>\n",
       "      <td>1</td>\n",
       "      <td>0.0</td>\n",
       "      <td>...</td>\n",
       "      <td>TRAPPIST-1e</td>\n",
       "      <td>44.0</td>\n",
       "      <td>False</td>\n",
       "      <td>126.0</td>\n",
       "      <td>1</td>\n",
       "      <td>0.0</td>\n",
       "      <td>0.0</td>\n",
       "      <td>12.0</td>\n",
       "      <td>Propsh Hontichre</td>\n",
       "      <td>True</td>\n",
       "    </tr>\n",
       "  </tbody>\n",
       "</table>\n",
       "<p>8693 rows × 28 columns</p>\n",
       "</div>"
      ],
      "text/plain": [
       "     PassengerId_CAN HomePlanet_CAN CryoSleep_CAN Cabin_CAN Destination_CAN  \\\n",
       "0            0001_01         Europa         False     B/0/P     TRAPPIST-1e   \n",
       "1            0002_01          Earth         False     F/0/S     TRAPPIST-1e   \n",
       "2            0003_01         Europa         False     A/0/S     TRAPPIST-1e   \n",
       "3            0003_02         Europa         False     A/0/S     TRAPPIST-1e   \n",
       "4            0004_01          Earth         False     F/1/S     TRAPPIST-1e   \n",
       "...              ...            ...           ...       ...             ...   \n",
       "8688         9276_01         Europa         False    A/98/P     55 Cancri e   \n",
       "8689         9278_01          Earth          True  G/1499/S   PSO J318.5-22   \n",
       "8690         9279_01          Earth         False  G/1500/S     TRAPPIST-1e   \n",
       "8691         9280_01         Europa         False   E/608/S     55 Cancri e   \n",
       "8692         9280_02         Europa         False   E/608/S     TRAPPIST-1e   \n",
       "\n",
       "      Age_CAN VIP_CAN  RoomService_CAN  FoodCourt_CAN  ShoppingMall_CAN  ...  \\\n",
       "0        39.0   False              0.0           8693               0.0  ...   \n",
       "1        24.0   False            109.0           8692              25.0  ...   \n",
       "2        58.0    True             43.0           8691               0.0  ...   \n",
       "3        33.0   False              0.0           8690             371.0  ...   \n",
       "4        16.0   False            303.0           8689             151.0  ...   \n",
       "...       ...     ...              ...            ...               ...  ...   \n",
       "8688     41.0    True              0.0              5               0.0  ...   \n",
       "8689     18.0   False              0.0              4               0.0  ...   \n",
       "8690     26.0   False              0.0              3            1872.0  ...   \n",
       "8691     32.0   False              0.0              2               0.0  ...   \n",
       "8692     44.0   False            126.0              1               0.0  ...   \n",
       "\n",
       "      Destination_UK  Age_UK VIP_UK  RoomService_UK FoodCourt_UK  \\\n",
       "0        TRAPPIST-1e    39.0  False             0.0         8693   \n",
       "1        TRAPPIST-1e    24.0  False           109.0         8692   \n",
       "2        TRAPPIST-1e    58.0   True            43.0         8691   \n",
       "3        TRAPPIST-1e    33.0  False             0.0         8690   \n",
       "4        TRAPPIST-1e    16.0  False           303.0         8689   \n",
       "...              ...     ...    ...             ...          ...   \n",
       "8688     55 Cancri e    41.0   True             0.0            5   \n",
       "8689   PSO J318.5-22    18.0  False             0.0            4   \n",
       "8690     TRAPPIST-1e    26.0  False             0.0            3   \n",
       "8691     55 Cancri e    32.0  False             0.0            2   \n",
       "8692     TRAPPIST-1e    44.0  False           126.0            1   \n",
       "\n",
       "     ShoppingMall_UK  Spa_UK VRDeck_UK            Name_UK  Transported_UK  \n",
       "0                0.0     0.0       0.0    Maham Ofracculy           False  \n",
       "1               25.0   549.0      44.0       Juanna Vines            True  \n",
       "2                0.0  6715.0      49.0      Altark Susent           False  \n",
       "3              371.0  3329.0     193.0       Solam Susent           False  \n",
       "4              151.0   565.0       2.0  Willy Santantines            True  \n",
       "...              ...     ...       ...                ...             ...  \n",
       "8688             0.0  1643.0      74.0  Gravior Noxnuther           False  \n",
       "8689             0.0     0.0       0.0    Kurta Mondalley           False  \n",
       "8690          1872.0     1.0       0.0       Fayey Connon            True  \n",
       "8691             0.0   353.0    3235.0   Celeon Hontichre           False  \n",
       "8692             0.0     0.0      12.0   Propsh Hontichre            True  \n",
       "\n",
       "[8693 rows x 28 columns]"
      ]
     },
     "execution_count": 34,
     "metadata": {},
     "output_type": "execute_result"
    }
   ],
   "source": [
    "data3=spaceship_data\n",
    "data4=spaceship_data\n",
    "data3.join(data4,lsuffix='_CAN', rsuffix='_UK')"
   ]
  },
  {
   "cell_type": "markdown",
   "id": "f4db4041",
   "metadata": {
    "papermill": {
     "duration": 0.019403,
     "end_time": "2022-09-11T19:11:31.733129",
     "exception": false,
     "start_time": "2022-09-11T19:11:31.713726",
     "status": "completed"
    },
    "tags": []
   },
   "source": [
    "### merge()\n",
    "- merging two dataframes"
   ]
  },
  {
   "cell_type": "code",
   "execution_count": 35,
   "id": "d14f068b",
   "metadata": {
    "execution": {
     "iopub.execute_input": "2022-09-11T19:11:31.774134Z",
     "iopub.status.busy": "2022-09-11T19:11:31.773732Z",
     "iopub.status.idle": "2022-09-11T19:11:31.838735Z",
     "shell.execute_reply": "2022-09-11T19:11:31.837556Z"
    },
    "papermill": {
     "duration": 0.088489,
     "end_time": "2022-09-11T19:11:31.841258",
     "exception": false,
     "start_time": "2022-09-11T19:11:31.752769",
     "status": "completed"
    },
    "tags": []
   },
   "outputs": [
    {
     "data": {
      "text/html": [
       "<div>\n",
       "<style scoped>\n",
       "    .dataframe tbody tr th:only-of-type {\n",
       "        vertical-align: middle;\n",
       "    }\n",
       "\n",
       "    .dataframe tbody tr th {\n",
       "        vertical-align: top;\n",
       "    }\n",
       "\n",
       "    .dataframe thead th {\n",
       "        text-align: right;\n",
       "    }\n",
       "</style>\n",
       "<table border=\"1\" class=\"dataframe\">\n",
       "  <thead>\n",
       "    <tr style=\"text-align: right;\">\n",
       "      <th></th>\n",
       "      <th>PassengerId</th>\n",
       "      <th>HomePlanet</th>\n",
       "      <th>CryoSleep</th>\n",
       "      <th>Cabin</th>\n",
       "      <th>Destination</th>\n",
       "      <th>Age</th>\n",
       "      <th>VIP</th>\n",
       "      <th>RoomService</th>\n",
       "      <th>FoodCourt</th>\n",
       "      <th>ShoppingMall</th>\n",
       "      <th>Spa</th>\n",
       "      <th>VRDeck</th>\n",
       "      <th>Name</th>\n",
       "      <th>Transported</th>\n",
       "    </tr>\n",
       "  </thead>\n",
       "  <tbody>\n",
       "    <tr>\n",
       "      <th>0</th>\n",
       "      <td>0001_01</td>\n",
       "      <td>Europa</td>\n",
       "      <td>False</td>\n",
       "      <td>B/0/P</td>\n",
       "      <td>TRAPPIST-1e</td>\n",
       "      <td>39.0</td>\n",
       "      <td>False</td>\n",
       "      <td>0.0</td>\n",
       "      <td>8693</td>\n",
       "      <td>0.0</td>\n",
       "      <td>0.0</td>\n",
       "      <td>0.0</td>\n",
       "      <td>Maham Ofracculy</td>\n",
       "      <td>False</td>\n",
       "    </tr>\n",
       "    <tr>\n",
       "      <th>1</th>\n",
       "      <td>0002_01</td>\n",
       "      <td>Earth</td>\n",
       "      <td>False</td>\n",
       "      <td>F/0/S</td>\n",
       "      <td>TRAPPIST-1e</td>\n",
       "      <td>24.0</td>\n",
       "      <td>False</td>\n",
       "      <td>109.0</td>\n",
       "      <td>8692</td>\n",
       "      <td>25.0</td>\n",
       "      <td>549.0</td>\n",
       "      <td>44.0</td>\n",
       "      <td>Juanna Vines</td>\n",
       "      <td>True</td>\n",
       "    </tr>\n",
       "    <tr>\n",
       "      <th>2</th>\n",
       "      <td>0003_01</td>\n",
       "      <td>Europa</td>\n",
       "      <td>False</td>\n",
       "      <td>A/0/S</td>\n",
       "      <td>TRAPPIST-1e</td>\n",
       "      <td>58.0</td>\n",
       "      <td>True</td>\n",
       "      <td>43.0</td>\n",
       "      <td>8691</td>\n",
       "      <td>0.0</td>\n",
       "      <td>6715.0</td>\n",
       "      <td>49.0</td>\n",
       "      <td>Altark Susent</td>\n",
       "      <td>False</td>\n",
       "    </tr>\n",
       "    <tr>\n",
       "      <th>3</th>\n",
       "      <td>0003_02</td>\n",
       "      <td>Europa</td>\n",
       "      <td>False</td>\n",
       "      <td>A/0/S</td>\n",
       "      <td>TRAPPIST-1e</td>\n",
       "      <td>33.0</td>\n",
       "      <td>False</td>\n",
       "      <td>0.0</td>\n",
       "      <td>8690</td>\n",
       "      <td>371.0</td>\n",
       "      <td>3329.0</td>\n",
       "      <td>193.0</td>\n",
       "      <td>Solam Susent</td>\n",
       "      <td>False</td>\n",
       "    </tr>\n",
       "    <tr>\n",
       "      <th>4</th>\n",
       "      <td>0004_01</td>\n",
       "      <td>Earth</td>\n",
       "      <td>False</td>\n",
       "      <td>F/1/S</td>\n",
       "      <td>TRAPPIST-1e</td>\n",
       "      <td>16.0</td>\n",
       "      <td>False</td>\n",
       "      <td>303.0</td>\n",
       "      <td>8689</td>\n",
       "      <td>151.0</td>\n",
       "      <td>565.0</td>\n",
       "      <td>2.0</td>\n",
       "      <td>Willy Santantines</td>\n",
       "      <td>True</td>\n",
       "    </tr>\n",
       "    <tr>\n",
       "      <th>...</th>\n",
       "      <td>...</td>\n",
       "      <td>...</td>\n",
       "      <td>...</td>\n",
       "      <td>...</td>\n",
       "      <td>...</td>\n",
       "      <td>...</td>\n",
       "      <td>...</td>\n",
       "      <td>...</td>\n",
       "      <td>...</td>\n",
       "      <td>...</td>\n",
       "      <td>...</td>\n",
       "      <td>...</td>\n",
       "      <td>...</td>\n",
       "      <td>...</td>\n",
       "    </tr>\n",
       "    <tr>\n",
       "      <th>8688</th>\n",
       "      <td>9276_01</td>\n",
       "      <td>Europa</td>\n",
       "      <td>False</td>\n",
       "      <td>A/98/P</td>\n",
       "      <td>55 Cancri e</td>\n",
       "      <td>41.0</td>\n",
       "      <td>True</td>\n",
       "      <td>0.0</td>\n",
       "      <td>5</td>\n",
       "      <td>0.0</td>\n",
       "      <td>1643.0</td>\n",
       "      <td>74.0</td>\n",
       "      <td>Gravior Noxnuther</td>\n",
       "      <td>False</td>\n",
       "    </tr>\n",
       "    <tr>\n",
       "      <th>8689</th>\n",
       "      <td>9278_01</td>\n",
       "      <td>Earth</td>\n",
       "      <td>True</td>\n",
       "      <td>G/1499/S</td>\n",
       "      <td>PSO J318.5-22</td>\n",
       "      <td>18.0</td>\n",
       "      <td>False</td>\n",
       "      <td>0.0</td>\n",
       "      <td>4</td>\n",
       "      <td>0.0</td>\n",
       "      <td>0.0</td>\n",
       "      <td>0.0</td>\n",
       "      <td>Kurta Mondalley</td>\n",
       "      <td>False</td>\n",
       "    </tr>\n",
       "    <tr>\n",
       "      <th>8690</th>\n",
       "      <td>9279_01</td>\n",
       "      <td>Earth</td>\n",
       "      <td>False</td>\n",
       "      <td>G/1500/S</td>\n",
       "      <td>TRAPPIST-1e</td>\n",
       "      <td>26.0</td>\n",
       "      <td>False</td>\n",
       "      <td>0.0</td>\n",
       "      <td>3</td>\n",
       "      <td>1872.0</td>\n",
       "      <td>1.0</td>\n",
       "      <td>0.0</td>\n",
       "      <td>Fayey Connon</td>\n",
       "      <td>True</td>\n",
       "    </tr>\n",
       "    <tr>\n",
       "      <th>8691</th>\n",
       "      <td>9280_01</td>\n",
       "      <td>Europa</td>\n",
       "      <td>False</td>\n",
       "      <td>E/608/S</td>\n",
       "      <td>55 Cancri e</td>\n",
       "      <td>32.0</td>\n",
       "      <td>False</td>\n",
       "      <td>0.0</td>\n",
       "      <td>2</td>\n",
       "      <td>0.0</td>\n",
       "      <td>353.0</td>\n",
       "      <td>3235.0</td>\n",
       "      <td>Celeon Hontichre</td>\n",
       "      <td>False</td>\n",
       "    </tr>\n",
       "    <tr>\n",
       "      <th>8692</th>\n",
       "      <td>9280_02</td>\n",
       "      <td>Europa</td>\n",
       "      <td>False</td>\n",
       "      <td>E/608/S</td>\n",
       "      <td>TRAPPIST-1e</td>\n",
       "      <td>44.0</td>\n",
       "      <td>False</td>\n",
       "      <td>126.0</td>\n",
       "      <td>1</td>\n",
       "      <td>0.0</td>\n",
       "      <td>0.0</td>\n",
       "      <td>12.0</td>\n",
       "      <td>Propsh Hontichre</td>\n",
       "      <td>True</td>\n",
       "    </tr>\n",
       "  </tbody>\n",
       "</table>\n",
       "<p>8693 rows × 14 columns</p>\n",
       "</div>"
      ],
      "text/plain": [
       "     PassengerId HomePlanet CryoSleep     Cabin    Destination   Age    VIP  \\\n",
       "0        0001_01     Europa     False     B/0/P    TRAPPIST-1e  39.0  False   \n",
       "1        0002_01      Earth     False     F/0/S    TRAPPIST-1e  24.0  False   \n",
       "2        0003_01     Europa     False     A/0/S    TRAPPIST-1e  58.0   True   \n",
       "3        0003_02     Europa     False     A/0/S    TRAPPIST-1e  33.0  False   \n",
       "4        0004_01      Earth     False     F/1/S    TRAPPIST-1e  16.0  False   \n",
       "...          ...        ...       ...       ...            ...   ...    ...   \n",
       "8688     9276_01     Europa     False    A/98/P    55 Cancri e  41.0   True   \n",
       "8689     9278_01      Earth      True  G/1499/S  PSO J318.5-22  18.0  False   \n",
       "8690     9279_01      Earth     False  G/1500/S    TRAPPIST-1e  26.0  False   \n",
       "8691     9280_01     Europa     False   E/608/S    55 Cancri e  32.0  False   \n",
       "8692     9280_02     Europa     False   E/608/S    TRAPPIST-1e  44.0  False   \n",
       "\n",
       "      RoomService  FoodCourt  ShoppingMall     Spa  VRDeck               Name  \\\n",
       "0             0.0       8693           0.0     0.0     0.0    Maham Ofracculy   \n",
       "1           109.0       8692          25.0   549.0    44.0       Juanna Vines   \n",
       "2            43.0       8691           0.0  6715.0    49.0      Altark Susent   \n",
       "3             0.0       8690         371.0  3329.0   193.0       Solam Susent   \n",
       "4           303.0       8689         151.0   565.0     2.0  Willy Santantines   \n",
       "...           ...        ...           ...     ...     ...                ...   \n",
       "8688          0.0          5           0.0  1643.0    74.0  Gravior Noxnuther   \n",
       "8689          0.0          4           0.0     0.0     0.0    Kurta Mondalley   \n",
       "8690          0.0          3        1872.0     1.0     0.0       Fayey Connon   \n",
       "8691          0.0          2           0.0   353.0  3235.0   Celeon Hontichre   \n",
       "8692        126.0          1           0.0     0.0    12.0   Propsh Hontichre   \n",
       "\n",
       "      Transported  \n",
       "0           False  \n",
       "1            True  \n",
       "2           False  \n",
       "3           False  \n",
       "4            True  \n",
       "...           ...  \n",
       "8688        False  \n",
       "8689        False  \n",
       "8690         True  \n",
       "8691        False  \n",
       "8692         True  \n",
       "\n",
       "[8693 rows x 14 columns]"
      ]
     },
     "execution_count": 35,
     "metadata": {},
     "output_type": "execute_result"
    }
   ],
   "source": [
    "data3=spaceship_data\n",
    "data4=spaceship_data\n",
    "data3.merge(data4)"
   ]
  }
 ],
 "metadata": {
  "kernelspec": {
   "display_name": "Python 3",
   "language": "python",
   "name": "python3"
  },
  "language_info": {
   "codemirror_mode": {
    "name": "ipython",
    "version": 3
   },
   "file_extension": ".py",
   "mimetype": "text/x-python",
   "name": "python",
   "nbconvert_exporter": "python",
   "pygments_lexer": "ipython3",
   "version": "3.7.12"
  },
  "papermill": {
   "default_parameters": {},
   "duration": 14.025276,
   "end_time": "2022-09-11T19:11:32.483335",
   "environment_variables": {},
   "exception": null,
   "input_path": "__notebook__.ipynb",
   "output_path": "__notebook__.ipynb",
   "parameters": {},
   "start_time": "2022-09-11T19:11:18.458059",
   "version": "2.3.4"
  }
 },
 "nbformat": 4,
 "nbformat_minor": 5
}
