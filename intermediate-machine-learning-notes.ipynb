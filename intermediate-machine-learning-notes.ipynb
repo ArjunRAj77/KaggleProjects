{
 "cells": [
  {
   "cell_type": "markdown",
   "id": "473defc4",
   "metadata": {
    "papermill": {
     "duration": 0.005139,
     "end_time": "2022-10-10T13:39:46.310233",
     "exception": false,
     "start_time": "2022-10-10T13:39:46.305094",
     "status": "completed"
    },
    "tags": []
   },
   "source": [
    "# Intermediate Machine Learning\n",
    "\n",
    "In this module, the focus will be on the following:\n",
    "\n",
    "- design pipelines to improve the quality of your machine learning code,\n",
    "- use advanced techniques for model validation (cross-validation),\n",
    "- build state-of-the-art models that are widely used to win Kaggle competitions (XGBoost), and\n",
    "- avoid common and important data science mistakes (leakage).\n",
    "\n"
   ]
  },
  {
   "cell_type": "markdown",
   "id": "9ccdba15",
   "metadata": {
    "papermill": {
     "duration": 0.00351,
     "end_time": "2022-10-10T13:39:46.317900",
     "exception": false,
     "start_time": "2022-10-10T13:39:46.314390",
     "status": "completed"
    },
    "tags": []
   },
   "source": [
    "## Pipelines\n",
    "\n",
    "Pipelines are a simple way to keep your data preprocessing and modeling code organized. Specifically, a pipeline bundles preprocessing and modeling steps so you can use the whole bundle as if it were a single step.\n",
    "\n",
    "Main benefits of using pipeline are :\n",
    "- Cleaner Code: Accounting for data at each step of preprocessing can get messy. With a pipeline, you won't need to manually keep track of your training and validation data at each step.\n",
    "- Fewer Bugs: There are fewer opportunities to misapply a step or forget a preprocessing step.\n",
    "- Easier to Productionize: It can be surprisingly hard to transition a model from a prototype to something deployable at scale. We won't go into the many related concerns here, but pipelines can help.\n",
    "\n",
    "The full pipeline can be constructed in three steps:\n",
    "### **Step 1**: **Define Preprocessing Steps**:\n",
    "    - imputes missing values in numerical data, and\n",
    "    - imputes missing values and applies a one-hot encoding to categorical data."
   ]
  },
  {
   "cell_type": "code",
   "execution_count": 1,
   "id": "10250473",
   "metadata": {
    "execution": {
     "iopub.execute_input": "2022-10-10T13:39:46.327454Z",
     "iopub.status.busy": "2022-10-10T13:39:46.326759Z",
     "iopub.status.idle": "2022-10-10T13:39:47.539168Z",
     "shell.execute_reply": "2022-10-10T13:39:47.537848Z"
    },
    "papermill": {
     "duration": 1.221181,
     "end_time": "2022-10-10T13:39:47.542741",
     "exception": false,
     "start_time": "2022-10-10T13:39:46.321560",
     "status": "completed"
    },
    "tags": []
   },
   "outputs": [],
   "source": [
    "import pandas as pd\n",
    "from sklearn.model_selection import train_test_split\n",
    "\n",
    "# Read the data\n",
    "data = pd.read_csv('../input/melbourne-housing-snapshot/melb_data.csv')\n",
    "\n",
    "# Separate target from predictors\n",
    "y = data.Price\n",
    "X = data.drop(['Price'], axis=1)\n",
    "\n",
    "# Divide data into training and validation subsets\n",
    "X_train_full, X_valid_full, y_train, y_valid = train_test_split(X, y, train_size=0.8, test_size=0.2,\n",
    "                                                                random_state=0)\n",
    "\n",
    "# \"Cardinality\" means the number of unique values in a column\n",
    "# Select categorical columns with relatively low cardinality (convenient but arbitrary)\n",
    "categorical_cols = [cname for cname in X_train_full.columns if X_train_full[cname].nunique() < 10 and \n",
    "                        X_train_full[cname].dtype == \"object\"]\n",
    "\n",
    "# Select numerical columns\n",
    "numerical_cols = [cname for cname in X_train_full.columns if X_train_full[cname].dtype in ['int64', 'float64']]\n",
    "\n",
    "# Keep selected columns only\n",
    "my_cols = categorical_cols + numerical_cols\n",
    "X_train = X_train_full[my_cols].copy()\n",
    "X_valid = X_valid_full[my_cols].copy()"
   ]
  },
  {
   "cell_type": "code",
   "execution_count": 2,
   "id": "1b193f05",
   "metadata": {
    "execution": {
     "iopub.execute_input": "2022-10-10T13:39:47.553919Z",
     "iopub.status.busy": "2022-10-10T13:39:47.553250Z",
     "iopub.status.idle": "2022-10-10T13:39:47.680062Z",
     "shell.execute_reply": "2022-10-10T13:39:47.678991Z"
    },
    "papermill": {
     "duration": 0.135245,
     "end_time": "2022-10-10T13:39:47.682979",
     "exception": false,
     "start_time": "2022-10-10T13:39:47.547734",
     "status": "completed"
    },
    "tags": []
   },
   "outputs": [],
   "source": [
    "from sklearn.compose import ColumnTransformer\n",
    "from sklearn.pipeline import Pipeline\n",
    "from sklearn.impute import SimpleImputer\n",
    "from sklearn.preprocessing import OneHotEncoder\n",
    "\n",
    "# Preprocessing for numerical data\n",
    "numerical_transformer = SimpleImputer(strategy='constant')\n",
    "\n",
    "# Preprocessing for categorical data\n",
    "categorical_transformer = Pipeline(steps=[\n",
    "    ('imputer', SimpleImputer(strategy='most_frequent')),\n",
    "    ('onehot', OneHotEncoder(handle_unknown='ignore'))\n",
    "])\n",
    "\n",
    "# Bundle preprocessing for numerical and categorical data\n",
    "preprocessor = ColumnTransformer(\n",
    "    transformers=[\n",
    "        ('num', numerical_transformer, numerical_cols),\n",
    "        ('cat', categorical_transformer, categorical_cols)\n",
    "    ])"
   ]
  },
  {
   "cell_type": "markdown",
   "id": "8cf3fad1",
   "metadata": {
    "papermill": {
     "duration": 0.003475,
     "end_time": "2022-10-10T13:39:47.690364",
     "exception": false,
     "start_time": "2022-10-10T13:39:47.686889",
     "status": "completed"
    },
    "tags": []
   },
   "source": [
    "### Step 2: Define the Model:\n",
    "Next, we define a `random forest model` with the familiar `RandomForestRegressor` class."
   ]
  },
  {
   "cell_type": "code",
   "execution_count": 3,
   "id": "04ce68f8",
   "metadata": {
    "execution": {
     "iopub.execute_input": "2022-10-10T13:39:47.699337Z",
     "iopub.status.busy": "2022-10-10T13:39:47.698942Z",
     "iopub.status.idle": "2022-10-10T13:39:47.786047Z",
     "shell.execute_reply": "2022-10-10T13:39:47.785077Z"
    },
    "papermill": {
     "duration": 0.094517,
     "end_time": "2022-10-10T13:39:47.788537",
     "exception": false,
     "start_time": "2022-10-10T13:39:47.694020",
     "status": "completed"
    },
    "tags": []
   },
   "outputs": [],
   "source": [
    "from sklearn.ensemble import RandomForestRegressor\n",
    "\n",
    "model = RandomForestRegressor(n_estimators=100, random_state=0)"
   ]
  },
  {
   "cell_type": "markdown",
   "id": "faafe877",
   "metadata": {
    "papermill": {
     "duration": 0.003483,
     "end_time": "2022-10-10T13:39:47.796084",
     "exception": false,
     "start_time": "2022-10-10T13:39:47.792601",
     "status": "completed"
    },
    "tags": []
   },
   "source": [
    "### Step 3: Create and Evaluate the Pipeline\n",
    "- Finally, we use the Pipeline class to define a pipeline that bundles the preprocessing and modeling steps. There are a few important things to notice:\n",
    "- With the pipeline, we preprocess the training data and fit the model in a single line of code. (In contrast, without a pipeline, we have to do imputation, one-hot encoding, and model training in separate steps. This becomes especially messy if we have to deal with both numerical and categorical variables!)\n",
    "- With the pipeline, we supply the unprocessed features in X_valid to the predict() command, and the pipeline automatically preprocesses the features before generating predictions. (However, without a pipeline, we have to remember to preprocess the validation data before making predictions.)"
   ]
  },
  {
   "cell_type": "code",
   "execution_count": 4,
   "id": "80a01963",
   "metadata": {
    "execution": {
     "iopub.execute_input": "2022-10-10T13:39:47.805061Z",
     "iopub.status.busy": "2022-10-10T13:39:47.804649Z",
     "iopub.status.idle": "2022-10-10T13:39:55.130656Z",
     "shell.execute_reply": "2022-10-10T13:39:55.129368Z"
    },
    "papermill": {
     "duration": 7.334508,
     "end_time": "2022-10-10T13:39:55.134271",
     "exception": false,
     "start_time": "2022-10-10T13:39:47.799763",
     "status": "completed"
    },
    "tags": []
   },
   "outputs": [
    {
     "name": "stdout",
     "output_type": "stream",
     "text": [
      "MAE: 160679.18917034855\n"
     ]
    }
   ],
   "source": [
    "from sklearn.metrics import mean_absolute_error\n",
    "\n",
    "# Bundle preprocessing and modeling code in a pipeline\n",
    "my_pipeline = Pipeline(steps=[('preprocessor', preprocessor),\n",
    "                             ('model', model)\n",
    "                            ])\n",
    "\n",
    "# Preprocessing of training data, fit model \n",
    "my_pipeline.fit(X_train, y_train)\n",
    "\n",
    "# Preprocessing of validation data, get predictions\n",
    "preds = my_pipeline.predict(X_valid)\n",
    "\n",
    "# Evaluate the model\n",
    "score = mean_absolute_error(y_valid, preds)\n",
    "print('MAE:', score)"
   ]
  },
  {
   "attachments": {
    "5bbf656d-2ab7-469b-b219-bb5281a2591a.png": {
     "image/png": "[encoded data removed]"
    }
   },
   "cell_type": "markdown",
   "id": "7127b292",
   "metadata": {
    "papermill": {
     "duration": 0.003895,
     "end_time": "2022-10-10T13:39:55.143046",
     "exception": false,
     "start_time": "2022-10-10T13:39:55.139151",
     "status": "completed"
    },
    "tags": []
   },
   "source": [
    "## Cross Validation\n",
    "\n",
    "In cross-validation, we run our modeling process on different subsets of the data to get multiple measures of model quality.\n",
    "![image.png](attachment:5bbf656d-2ab7-469b-b219-bb5281a2591a.png)\n",
    "\n",
    "Cross-validation gives a more accurate measure of model quality, which is especially important if you are making a lot of modeling decisions. However, it can take longer to run, because it estimates multiple models (one for each fold).\n",
    "\n",
    "- For small datasets, where extra computational burden isn't a big deal, you should run cross-validation.\n",
    "- For larger datasets, a single validation set is sufficient. Your code will run faster, and you may have enough data that there's little need to re-use some of it for holdout."
   ]
  },
  {
   "cell_type": "code",
   "execution_count": 5,
   "id": "8bf1306d",
   "metadata": {
    "execution": {
     "iopub.execute_input": "2022-10-10T13:39:55.152687Z",
     "iopub.status.busy": "2022-10-10T13:39:55.152264Z",
     "iopub.status.idle": "2022-10-10T13:40:02.274004Z",
     "shell.execute_reply": "2022-10-10T13:40:02.272703Z"
    },
    "papermill": {
     "duration": 7.129608,
     "end_time": "2022-10-10T13:40:02.276556",
     "exception": false,
     "start_time": "2022-10-10T13:39:55.146948",
     "status": "completed"
    },
    "tags": []
   },
   "outputs": [
    {
     "name": "stdout",
     "output_type": "stream",
     "text": [
      "MAE scores:\n",
      " [301628.7893587  303164.4782723  287298.331666   236061.84754543\n",
      " 260383.45111427]\n"
     ]
    }
   ],
   "source": [
    "from sklearn.ensemble import RandomForestRegressor\n",
    "from sklearn.pipeline import Pipeline\n",
    "from sklearn.impute import SimpleImputer\n",
    "from sklearn.model_selection import cross_val_score\n",
    "import pandas as pd\n",
    "\n",
    "# Read the data\n",
    "data = pd.read_csv('../input/melbourne-housing-snapshot/melb_data.csv')\n",
    "\n",
    "# Select subset of predictors\n",
    "cols_to_use = ['Rooms', 'Distance', 'Landsize', 'BuildingArea', 'YearBuilt']\n",
    "X = data[cols_to_use]\n",
    "\n",
    "# Select target\n",
    "y = data.Price\n",
    "my_pipeline = Pipeline(steps=[('preprocessor', SimpleImputer()),\n",
    "                              ('model', RandomForestRegressor(n_estimators=50,\n",
    "                                                              random_state=0))])\n",
    "\n",
    "\n",
    "\n",
    "# Multiply by -1 since sklearn calculates *negative* MAE\n",
    "scores = -1 * cross_val_score(my_pipeline, X, y,\n",
    "                              cv=5,\n",
    "                              scoring='neg_mean_absolute_error')\n",
    "\n",
    "print(\"MAE scores:\\n\", scores)"
   ]
  },
  {
   "cell_type": "code",
   "execution_count": 6,
   "id": "10f841dd",
   "metadata": {
    "execution": {
     "iopub.execute_input": "2022-10-10T13:40:02.286211Z",
     "iopub.status.busy": "2022-10-10T13:40:02.285499Z",
     "iopub.status.idle": "2022-10-10T13:40:02.292937Z",
     "shell.execute_reply": "2022-10-10T13:40:02.291665Z"
    },
    "papermill": {
     "duration": 0.014594,
     "end_time": "2022-10-10T13:40:02.295133",
     "exception": false,
     "start_time": "2022-10-10T13:40:02.280539",
     "status": "completed"
    },
    "tags": []
   },
   "outputs": [
    {
     "name": "stdout",
     "output_type": "stream",
     "text": [
      "Average MAE score (across experiments):\n",
      "277707.3795913405\n"
     ]
    }
   ],
   "source": [
    "print(\"Average MAE score (across experiments):\")\n",
    "print(scores.mean())"
   ]
  },
  {
   "cell_type": "markdown",
   "id": "d8dd6f4e",
   "metadata": {
    "papermill": {
     "duration": 0.003804,
     "end_time": "2022-10-10T13:40:02.303004",
     "exception": false,
     "start_time": "2022-10-10T13:40:02.299200",
     "status": "completed"
    },
    "tags": []
   },
   "source": [
    "Using cross-validation yields a much better measure of model quality, with the added benefit of cleaning up our code.\n",
    "\n",
    "## XGBoost\n",
    "\n"
   ]
  }
 ],
 "metadata": {
  "kernelspec": {
   "display_name": "Python 3",
   "language": "python",
   "name": "python3"
  },
  "language_info": {
   "codemirror_mode": {
    "name": "ipython",
    "version": 3
   },
   "file_extension": ".py",
   "mimetype": "text/x-python",
   "name": "python",
   "nbconvert_exporter": "python",
   "pygments_lexer": "ipython3",
   "version": "3.7.12"
  },
  "papermill": {
   "default_parameters": {},
   "duration": 25.613498,
   "end_time": "2022-10-10T13:40:03.027768",
   "environment_variables": {},
   "exception": null,
   "input_path": "__notebook__.ipynb",
   "output_path": "__notebook__.ipynb",
   "parameters": {},
   "start_time": "2022-10-10T13:39:37.414270",
   "version": "2.3.4"
  }
 },
 "nbformat": 4,
 "nbformat_minor": 5
}
