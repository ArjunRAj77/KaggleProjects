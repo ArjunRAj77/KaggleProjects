{
 "cells": [
  {
   "cell_type": "markdown",
   "id": "4b04ffba",
   "metadata": {
    "papermill": {
     "duration": 0.009138,
     "end_time": "2022-10-10T14:20:12.174804",
     "exception": false,
     "start_time": "2022-10-10T14:20:12.165666",
     "status": "completed"
    },
    "tags": []
   },
   "source": [
    "# Intermediate Machine Learning\n",
    "\n",
    "In this module, the focus will be on the following:\n",
    "\n",
    "- design pipelines to improve the quality of your machine learning code,\n",
    "- use advanced techniques for model validation (cross-validation),\n",
    "- build state-of-the-art models that are widely used to win Kaggle competitions (XGBoost), and\n",
    "- avoid common and important data science mistakes (leakage).\n",
    "\n"
   ]
  },
  {
   "cell_type": "markdown",
   "id": "2f572b5d",
   "metadata": {
    "papermill": {
     "duration": 0.007559,
     "end_time": "2022-10-10T14:20:12.190061",
     "exception": false,
     "start_time": "2022-10-10T14:20:12.182502",
     "status": "completed"
    },
    "tags": []
   },
   "source": [
    "## Pipelines\n",
    "\n",
    "Pipelines are a simple way to keep your data preprocessing and modeling code organized. Specifically, a pipeline bundles preprocessing and modeling steps so you can use the whole bundle as if it were a single step.\n",
    "\n",
    "Main benefits of using pipeline are :\n",
    "- Cleaner Code: Accounting for data at each step of preprocessing can get messy. With a pipeline, you won't need to manually keep track of your training and validation data at each step.\n",
    "- Fewer Bugs: There are fewer opportunities to misapply a step or forget a preprocessing step.\n",
    "- Easier to Productionize: It can be surprisingly hard to transition a model from a prototype to something deployable at scale. We won't go into the many related concerns here, but pipelines can help.\n",
    "\n",
    "The full pipeline can be constructed in three steps:\n",
    "### **Step 1**: **Define Preprocessing Steps**:\n",
    "    - imputes missing values in numerical data, and\n",
    "    - imputes missing values and applies a one-hot encoding to categorical data."
   ]
  },
  {
   "cell_type": "code",
   "execution_count": 1,
   "id": "c64a6bbf",
   "metadata": {
    "execution": {
     "iopub.execute_input": "2022-10-10T14:20:12.207009Z",
     "iopub.status.busy": "2022-10-10T14:20:12.206541Z",
     "iopub.status.idle": "2022-10-10T14:20:13.528244Z",
     "shell.execute_reply": "2022-10-10T14:20:13.526808Z"
    },
    "papermill": {
     "duration": 1.333927,
     "end_time": "2022-10-10T14:20:13.531508",
     "exception": false,
     "start_time": "2022-10-10T14:20:12.197581",
     "status": "completed"
    },
    "tags": []
   },
   "outputs": [],
   "source": [
    "import pandas as pd\n",
    "from sklearn.model_selection import train_test_split\n",
    "\n",
    "# Read the data\n",
    "data = pd.read_csv('../input/melbourne-housing-snapshot/melb_data.csv')\n",
    "\n",
    "# Separate target from predictors\n",
    "y = data.Price\n",
    "X = data.drop(['Price'], axis=1)\n",
    "\n",
    "# Divide data into training and validation subsets\n",
    "X_train_full, X_valid_full, y_train, y_valid = train_test_split(X, y, train_size=0.8, test_size=0.2,\n",
    "                                                                random_state=0)\n",
    "\n",
    "# \"Cardinality\" means the number of unique values in a column\n",
    "# Select categorical columns with relatively low cardinality (convenient but arbitrary)\n",
    "categorical_cols = [cname for cname in X_train_full.columns if X_train_full[cname].nunique() < 10 and \n",
    "                        X_train_full[cname].dtype == \"object\"]\n",
    "\n",
    "# Select numerical columns\n",
    "numerical_cols = [cname for cname in X_train_full.columns if X_train_full[cname].dtype in ['int64', 'float64']]\n",
    "\n",
    "# Keep selected columns only\n",
    "my_cols = categorical_cols + numerical_cols\n",
    "X_train = X_train_full[my_cols].copy()\n",
    "X_valid = X_valid_full[my_cols].copy()"
   ]
  },
  {
   "cell_type": "code",
   "execution_count": 2,
   "id": "2f619363",
   "metadata": {
    "execution": {
     "iopub.execute_input": "2022-10-10T14:20:13.548798Z",
     "iopub.status.busy": "2022-10-10T14:20:13.547626Z",
     "iopub.status.idle": "2022-10-10T14:20:13.707858Z",
     "shell.execute_reply": "2022-10-10T14:20:13.706651Z"
    },
    "papermill": {
     "duration": 0.172122,
     "end_time": "2022-10-10T14:20:13.711034",
     "exception": false,
     "start_time": "2022-10-10T14:20:13.538912",
     "status": "completed"
    },
    "tags": []
   },
   "outputs": [],
   "source": [
    "from sklearn.compose import ColumnTransformer\n",
    "from sklearn.pipeline import Pipeline\n",
    "from sklearn.impute import SimpleImputer\n",
    "from sklearn.preprocessing import OneHotEncoder\n",
    "\n",
    "# Preprocessing for numerical data\n",
    "numerical_transformer = SimpleImputer(strategy='constant')\n",
    "\n",
    "# Preprocessing for categorical data\n",
    "categorical_transformer = Pipeline(steps=[\n",
    "    ('imputer', SimpleImputer(strategy='most_frequent')),\n",
    "    ('onehot', OneHotEncoder(handle_unknown='ignore'))\n",
    "])\n",
    "\n",
    "# Bundle preprocessing for numerical and categorical data\n",
    "preprocessor = ColumnTransformer(\n",
    "    transformers=[\n",
    "        ('num', numerical_transformer, numerical_cols),\n",
    "        ('cat', categorical_transformer, categorical_cols)\n",
    "    ])"
   ]
  },
  {
   "cell_type": "markdown",
   "id": "a6c75a10",
   "metadata": {
    "papermill": {
     "duration": 0.007062,
     "end_time": "2022-10-10T14:20:13.725707",
     "exception": false,
     "start_time": "2022-10-10T14:20:13.718645",
     "status": "completed"
    },
    "tags": []
   },
   "source": [
    "### Step 2: Define the Model:\n",
    "Next, we define a `random forest model` with the familiar `RandomForestRegressor` class."
   ]
  },
  {
   "cell_type": "code",
   "execution_count": 3,
   "id": "484d6ae5",
   "metadata": {
    "execution": {
     "iopub.execute_input": "2022-10-10T14:20:13.742690Z",
     "iopub.status.busy": "2022-10-10T14:20:13.742271Z",
     "iopub.status.idle": "2022-10-10T14:20:13.846103Z",
     "shell.execute_reply": "2022-10-10T14:20:13.845030Z"
    },
    "papermill": {
     "duration": 0.115668,
     "end_time": "2022-10-10T14:20:13.848924",
     "exception": false,
     "start_time": "2022-10-10T14:20:13.733256",
     "status": "completed"
    },
    "tags": []
   },
   "outputs": [],
   "source": [
    "from sklearn.ensemble import RandomForestRegressor\n",
    "\n",
    "model = RandomForestRegressor(n_estimators=100, random_state=0)"
   ]
  },
  {
   "cell_type": "markdown",
   "id": "cbe0c735",
   "metadata": {
    "papermill": {
     "duration": 0.007106,
     "end_time": "2022-10-10T14:20:13.863528",
     "exception": false,
     "start_time": "2022-10-10T14:20:13.856422",
     "status": "completed"
    },
    "tags": []
   },
   "source": [
    "### Step 3: Create and Evaluate the Pipeline\n",
    "- Finally, we use the Pipeline class to define a pipeline that bundles the preprocessing and modeling steps. There are a few important things to notice:\n",
    "- With the pipeline, we preprocess the training data and fit the model in a single line of code. (In contrast, without a pipeline, we have to do imputation, one-hot encoding, and model training in separate steps. This becomes especially messy if we have to deal with both numerical and categorical variables!)\n",
    "- With the pipeline, we supply the unprocessed features in X_valid to the predict() command, and the pipeline automatically preprocesses the features before generating predictions. (However, without a pipeline, we have to remember to preprocess the validation data before making predictions.)"
   ]
  },
  {
   "cell_type": "code",
   "execution_count": 4,
   "id": "3a0a1afe",
   "metadata": {
    "execution": {
     "iopub.execute_input": "2022-10-10T14:20:13.880635Z",
     "iopub.status.busy": "2022-10-10T14:20:13.879941Z",
     "iopub.status.idle": "2022-10-10T14:20:21.217337Z",
     "shell.execute_reply": "2022-10-10T14:20:21.216077Z"
    },
    "papermill": {
     "duration": 7.349163,
     "end_time": "2022-10-10T14:20:21.220136",
     "exception": false,
     "start_time": "2022-10-10T14:20:13.870973",
     "status": "completed"
    },
    "tags": []
   },
   "outputs": [
    {
     "name": "stdout",
     "output_type": "stream",
     "text": [
      "MAE: 160679.18917034855\n"
     ]
    }
   ],
   "source": [
    "from sklearn.metrics import mean_absolute_error\n",
    "\n",
    "# Bundle preprocessing and modeling code in a pipeline\n",
    "my_pipeline = Pipeline(steps=[('preprocessor', preprocessor),\n",
    "                             ('model', model)\n",
    "                            ])\n",
    "\n",
    "# Preprocessing of training data, fit model \n",
    "my_pipeline.fit(X_train, y_train)\n",
    "\n",
    "# Preprocessing of validation data, get predictions\n",
    "preds = my_pipeline.predict(X_valid)\n",
    "\n",
    "# Evaluate the model\n",
    "score = mean_absolute_error(y_valid, preds)\n",
    "print('MAE:', score)"
   ]
  },
  {
   "attachments": {
    "5bbf656d-2ab7-469b-b219-bb5281a2591a.png": {
     "image/png": "[encoded data removed]"
    }
   },
   "cell_type": "markdown",
   "id": "b6aa5e06",
   "metadata": {
    "papermill": {
     "duration": 0.008239,
     "end_time": "2022-10-10T14:20:21.235902",
     "exception": false,
     "start_time": "2022-10-10T14:20:21.227663",
     "status": "completed"
    },
    "tags": []
   },
   "source": [
    "## Cross Validation\n",
    "\n",
    "In cross-validation, we run our modeling process on different subsets of the data to get multiple measures of model quality.\n",
    "![image.png](attachment:5bbf656d-2ab7-469b-b219-bb5281a2591a.png)\n",
    "\n",
    "**Cross-validation** gives a more accurate measure of model quality, which is especially important if you are making a lot of modeling decisions. However, it can take longer to run, because it estimates multiple models (one for each fold).\n",
    "\n",
    "- For small datasets, where extra computational burden isn't a big deal, you should run cross-validation.\n",
    "- For larger datasets, a single validation set is sufficient. Your code will run faster, and you may have enough data that there's little need to re-use some of it for holdout."
   ]
  },
  {
   "cell_type": "code",
   "execution_count": 5,
   "id": "2f9ef1fe",
   "metadata": {
    "execution": {
     "iopub.execute_input": "2022-10-10T14:20:21.253798Z",
     "iopub.status.busy": "2022-10-10T14:20:21.253408Z",
     "iopub.status.idle": "2022-10-10T14:20:28.381425Z",
     "shell.execute_reply": "2022-10-10T14:20:28.380022Z"
    },
    "papermill": {
     "duration": 7.140758,
     "end_time": "2022-10-10T14:20:28.384740",
     "exception": false,
     "start_time": "2022-10-10T14:20:21.243982",
     "status": "completed"
    },
    "tags": []
   },
   "outputs": [
    {
     "name": "stdout",
     "output_type": "stream",
     "text": [
      "MAE scores:\n",
      " [301628.7893587  303164.4782723  287298.331666   236061.84754543\n",
      " 260383.45111427]\n"
     ]
    }
   ],
   "source": [
    "from sklearn.ensemble import RandomForestRegressor\n",
    "from sklearn.pipeline import Pipeline\n",
    "from sklearn.impute import SimpleImputer\n",
    "from sklearn.model_selection import cross_val_score\n",
    "import pandas as pd\n",
    "\n",
    "# Read the data\n",
    "data = pd.read_csv('../input/melbourne-housing-snapshot/melb_data.csv')\n",
    "\n",
    "# Select subset of predictors\n",
    "cols_to_use = ['Rooms', 'Distance', 'Landsize', 'BuildingArea', 'YearBuilt']\n",
    "X = data[cols_to_use]\n",
    "\n",
    "# Select target\n",
    "y = data.Price\n",
    "my_pipeline = Pipeline(steps=[('preprocessor', SimpleImputer()),\n",
    "                              ('model', RandomForestRegressor(n_estimators=50,\n",
    "                                                              random_state=0))])\n",
    "\n",
    "\n",
    "\n",
    "# Multiply by -1 since sklearn calculates *negative* MAE\n",
    "scores = -1 * cross_val_score(my_pipeline, X, y,\n",
    "                              cv=5,\n",
    "                              scoring='neg_mean_absolute_error')\n",
    "\n",
    "print(\"MAE scores:\\n\", scores)"
   ]
  },
  {
   "cell_type": "code",
   "execution_count": 6,
   "id": "05431df5",
   "metadata": {
    "execution": {
     "iopub.execute_input": "2022-10-10T14:20:28.404103Z",
     "iopub.status.busy": "2022-10-10T14:20:28.403704Z",
     "iopub.status.idle": "2022-10-10T14:20:28.409566Z",
     "shell.execute_reply": "2022-10-10T14:20:28.408385Z"
    },
    "papermill": {
     "duration": 0.017449,
     "end_time": "2022-10-10T14:20:28.412108",
     "exception": false,
     "start_time": "2022-10-10T14:20:28.394659",
     "status": "completed"
    },
    "tags": []
   },
   "outputs": [
    {
     "name": "stdout",
     "output_type": "stream",
     "text": [
      "Average MAE score (across experiments):\n",
      "277707.3795913405\n"
     ]
    }
   ],
   "source": [
    "print(\"Average MAE score (across experiments):\")\n",
    "print(scores.mean())"
   ]
  },
  {
   "attachments": {
    "900ad00d-9eb4-4e03-af65-9b1c8eb5ed1a.png": {
     "image/png": "[encoded data removed]"
    }
   },
   "cell_type": "markdown",
   "id": "93b25010",
   "metadata": {
    "papermill": {
     "duration": 0.008301,
     "end_time": "2022-10-10T14:20:28.428130",
     "exception": false,
     "start_time": "2022-10-10T14:20:28.419829",
     "status": "completed"
    },
    "tags": []
   },
   "source": [
    "Using cross-validation yields a much better measure of model quality, with the added benefit of cleaning up our code.\n",
    "\n",
    "## XGBoost\n",
    "\n",
    "It is considered as the most accurate modeling technique for structured data.\n",
    "\n",
    "Gradient boosting is a method that goes through cycles to iteratively add models into an ensemble.\n",
    "\n",
    "![image.png](attachment:900ad00d-9eb4-4e03-af65-9b1c8eb5ed1a.png)\n",
    "\n",
    "**XGBoost** stands for extreme gradient boosting, which is an implementation of gradient boosting with several additional features focused on performance and speed. (Scikit-learn has another version of gradient boosting, but XGBoost has some technical advantages.)\n",
    "\n"
   ]
  },
  {
   "cell_type": "code",
   "execution_count": 7,
   "id": "a419b283",
   "metadata": {
    "execution": {
     "iopub.execute_input": "2022-10-10T14:20:28.444539Z",
     "iopub.status.busy": "2022-10-10T14:20:28.444117Z",
     "iopub.status.idle": "2022-10-10T14:20:29.273746Z",
     "shell.execute_reply": "2022-10-10T14:20:29.272870Z"
    },
    "papermill": {
     "duration": 0.841067,
     "end_time": "2022-10-10T14:20:29.276653",
     "exception": false,
     "start_time": "2022-10-10T14:20:28.435586",
     "status": "completed"
    },
    "tags": []
   },
   "outputs": [
    {
     "name": "stdout",
     "output_type": "stream",
     "text": [
      "Mean Absolute Error: 245378.67665224595\n"
     ]
    }
   ],
   "source": [
    "import pandas as pd\n",
    "from sklearn.model_selection import train_test_split\n",
    "from xgboost import XGBRegressor\n",
    "from sklearn.metrics import mean_absolute_error\n",
    "\n",
    "# Read the data\n",
    "data = pd.read_csv('../input/melbourne-housing-snapshot/melb_data.csv')\n",
    "\n",
    "# Select subset of predictors\n",
    "cols_to_use = ['Rooms', 'Distance', 'Landsize', 'BuildingArea', 'YearBuilt']\n",
    "X = data[cols_to_use]\n",
    "\n",
    "# Select target\n",
    "y = data.Price\n",
    "\n",
    "# Separate data into training and validation sets\n",
    "X_train, X_valid, y_train, y_valid = train_test_split(X, y)\n",
    "\n",
    "\n",
    "my_model = XGBRegressor()\n",
    "my_model.fit(X_train, y_train)\n",
    "\n",
    "\n",
    "predictions = my_model.predict(X_valid)\n",
    "print(\"Mean Absolute Error: \" + str(mean_absolute_error(predictions, y_valid)))"
   ]
  },
  {
   "cell_type": "markdown",
   "id": "214b0ae1",
   "metadata": {
    "papermill": {
     "duration": 0.00746,
     "end_time": "2022-10-10T14:20:29.294047",
     "exception": false,
     "start_time": "2022-10-10T14:20:29.286587",
     "status": "completed"
    },
    "tags": []
   },
   "source": [
    "### Parameter Tuning\n",
    "\n",
    "XGBoost have a few parameters that can be effectivily tuned to increase the accuracy and efficiency.\n",
    "\n",
    "The main parameters are :\n",
    "- n_estimators\n",
    "- early_stopping_rounds\n",
    "- learning_rate\n",
    "- n_jobs\n",
    "\n",
    "#### n_estimators\n",
    "\n",
    "**n_estimators** specifies how many times to go through the modeling cycle described above. It is equal to the number of models that we include in the ensemble.\n",
    "- Too low a value causes underfitting, which leads to inaccurate predictions on both training data and test data.\n",
    "- Too high a value causes overfitting, which causes accurate predictions on training data, but inaccurate predictions on test data (which is what we care about)."
   ]
  },
  {
   "cell_type": "code",
   "execution_count": 8,
   "id": "0b284a63",
   "metadata": {
    "execution": {
     "iopub.execute_input": "2022-10-10T14:20:29.311124Z",
     "iopub.status.busy": "2022-10-10T14:20:29.310733Z",
     "iopub.status.idle": "2022-10-10T14:20:32.431311Z",
     "shell.execute_reply": "2022-10-10T14:20:32.429789Z"
    },
    "papermill": {
     "duration": 3.133539,
     "end_time": "2022-10-10T14:20:32.435395",
     "exception": false,
     "start_time": "2022-10-10T14:20:29.301856",
     "status": "completed"
    },
    "tags": []
   },
   "outputs": [
    {
     "data": {
      "text/plain": [
       "XGBRegressor(base_score=0.5, booster='gbtree', callbacks=None,\n",
       "             colsample_bylevel=1, colsample_bynode=1, colsample_bytree=1,\n",
       "             early_stopping_rounds=None, enable_categorical=False,\n",
       "             eval_metric=None, gamma=0, gpu_id=-1, grow_policy='depthwise',\n",
       "             importance_type=None, interaction_constraints='',\n",
       "             learning_rate=0.300000012, max_bin=256, max_cat_to_onehot=4,\n",
       "             max_delta_step=0, max_depth=6, max_leaves=0, min_child_weight=1,\n",
       "             missing=nan, monotone_constraints='()', n_estimators=500, n_jobs=0,\n",
       "             num_parallel_tree=1, predictor='auto', random_state=0, reg_alpha=0,\n",
       "             reg_lambda=1, ...)"
      ]
     },
     "execution_count": 8,
     "metadata": {},
     "output_type": "execute_result"
    }
   ],
   "source": [
    "my_model = XGBRegressor(n_estimators=500)\n",
    "my_model.fit(X_train, y_train)"
   ]
  },
  {
   "cell_type": "markdown",
   "id": "539dffb5",
   "metadata": {
    "papermill": {
     "duration": 0.008203,
     "end_time": "2022-10-10T14:20:32.451769",
     "exception": false,
     "start_time": "2022-10-10T14:20:32.443566",
     "status": "completed"
    },
    "tags": []
   },
   "source": [
    "#### early_stopping_rounds\n",
    "\n",
    "**early_stopping_rounds** offers a way to automatically find the ideal value for n_estimators. Early stopping causes the model to stop iterating when the validation score stops improving, even if we aren't at the hard stop for n_estimators. It's smart to set a high value for **n_estimators** and then use **early_stopping_rounds** to find the optimal time to stop iterating."
   ]
  },
  {
   "cell_type": "code",
   "execution_count": 9,
   "id": "3ac1e750",
   "metadata": {
    "execution": {
     "iopub.execute_input": "2022-10-10T14:20:32.469649Z",
     "iopub.status.busy": "2022-10-10T14:20:32.469237Z",
     "iopub.status.idle": "2022-10-10T14:20:32.863260Z",
     "shell.execute_reply": "2022-10-10T14:20:32.862311Z"
    },
    "papermill": {
     "duration": 0.406419,
     "end_time": "2022-10-10T14:20:32.866105",
     "exception": false,
     "start_time": "2022-10-10T14:20:32.459686",
     "status": "completed"
    },
    "tags": []
   },
   "outputs": [
    {
     "name": "stderr",
     "output_type": "stream",
     "text": [
      "/opt/conda/lib/python3.7/site-packages/xgboost/sklearn.py:797: UserWarning: `early_stopping_rounds` in `fit` method is deprecated for better compatibility with scikit-learn, use `early_stopping_rounds` in constructor or`set_params` instead.\n",
      "  UserWarning,\n"
     ]
    },
    {
     "data": {
      "text/plain": [
       "XGBRegressor(base_score=0.5, booster='gbtree', callbacks=None,\n",
       "             colsample_bylevel=1, colsample_bynode=1, colsample_bytree=1,\n",
       "             early_stopping_rounds=None, enable_categorical=False,\n",
       "             eval_metric=None, gamma=0, gpu_id=-1, grow_policy='depthwise',\n",
       "             importance_type=None, interaction_constraints='',\n",
       "             learning_rate=0.300000012, max_bin=256, max_cat_to_onehot=4,\n",
       "             max_delta_step=0, max_depth=6, max_leaves=0, min_child_weight=1,\n",
       "             missing=nan, monotone_constraints='()', n_estimators=500, n_jobs=0,\n",
       "             num_parallel_tree=1, predictor='auto', random_state=0, reg_alpha=0,\n",
       "             reg_lambda=1, ...)"
      ]
     },
     "execution_count": 9,
     "metadata": {},
     "output_type": "execute_result"
    }
   ],
   "source": [
    "my_model = XGBRegressor(n_estimators=500)\n",
    "my_model.fit(X_train, y_train, \n",
    "             early_stopping_rounds=5, \n",
    "             eval_set=[(X_valid, y_valid)],\n",
    "             verbose=False)"
   ]
  },
  {
   "cell_type": "markdown",
   "id": "7999ea70",
   "metadata": {
    "papermill": {
     "duration": 0.007433,
     "end_time": "2022-10-10T14:20:32.881639",
     "exception": false,
     "start_time": "2022-10-10T14:20:32.874206",
     "status": "completed"
    },
    "tags": []
   },
   "source": [
    "#### learning_rate\n",
    "\n",
    "Instead of getting predictions by simply adding up the predictions from each component model, we can multiply the predictions from each model by a small number (known as the learning rate) before adding them in.\n",
    "\n",
    "In general, a small learning rate and large number of estimators will yield more accurate XGBoost models, though it will also take the model longer to train since it does more iterations through the cycle. As default, XGBoost sets learning_rate=0.1\n"
   ]
  },
  {
   "cell_type": "code",
   "execution_count": 10,
   "id": "4609ac2a",
   "metadata": {
    "execution": {
     "iopub.execute_input": "2022-10-10T14:20:32.899090Z",
     "iopub.status.busy": "2022-10-10T14:20:32.898663Z",
     "iopub.status.idle": "2022-10-10T14:20:34.699553Z",
     "shell.execute_reply": "2022-10-10T14:20:34.698638Z"
    },
    "papermill": {
     "duration": 1.812897,
     "end_time": "2022-10-10T14:20:34.702375",
     "exception": false,
     "start_time": "2022-10-10T14:20:32.889478",
     "status": "completed"
    },
    "tags": []
   },
   "outputs": [
    {
     "data": {
      "text/plain": [
       "XGBRegressor(base_score=0.5, booster='gbtree', callbacks=None,\n",
       "             colsample_bylevel=1, colsample_bynode=1, colsample_bytree=1,\n",
       "             early_stopping_rounds=None, enable_categorical=False,\n",
       "             eval_metric=None, gamma=0, gpu_id=-1, grow_policy='depthwise',\n",
       "             importance_type=None, interaction_constraints='',\n",
       "             learning_rate=0.05, max_bin=256, max_cat_to_onehot=4,\n",
       "             max_delta_step=0, max_depth=6, max_leaves=0, min_child_weight=1,\n",
       "             missing=nan, monotone_constraints='()', n_estimators=1000,\n",
       "             n_jobs=0, num_parallel_tree=1, predictor='auto', random_state=0,\n",
       "             reg_alpha=0, reg_lambda=1, ...)"
      ]
     },
     "execution_count": 10,
     "metadata": {},
     "output_type": "execute_result"
    }
   ],
   "source": [
    "my_model = XGBRegressor(n_estimators=1000, learning_rate=0.05)\n",
    "my_model.fit(X_train, y_train, \n",
    "             early_stopping_rounds=5, \n",
    "             eval_set=[(X_valid, y_valid)], \n",
    "             verbose=False)"
   ]
  },
  {
   "cell_type": "markdown",
   "id": "69cbaf0a",
   "metadata": {
    "papermill": {
     "duration": 0.007551,
     "end_time": "2022-10-10T14:20:34.717903",
     "exception": false,
     "start_time": "2022-10-10T14:20:34.710352",
     "status": "completed"
    },
    "tags": []
   },
   "source": [
    "#### n_jobs\n",
    "\n",
    "On larger datasets where runtime is a consideration, you can use parallelism to build your models faster. It's common to set the parameter n_jobs equal to the number of cores on your machine. On smaller datasets, this won't help.\n",
    "\n",
    "The resulting model won't be any better, so micro-optimizing for fitting time is typically nothing but a distraction. But, it's useful in large datasets where you would otherwise spend a long time waiting during the fit command."
   ]
  },
  {
   "cell_type": "code",
   "execution_count": 11,
   "id": "8b2f30a0",
   "metadata": {
    "execution": {
     "iopub.execute_input": "2022-10-10T14:20:34.735797Z",
     "iopub.status.busy": "2022-10-10T14:20:34.735403Z",
     "iopub.status.idle": "2022-10-10T14:20:36.555605Z",
     "shell.execute_reply": "2022-10-10T14:20:36.554420Z"
    },
    "papermill": {
     "duration": 1.832604,
     "end_time": "2022-10-10T14:20:36.558541",
     "exception": false,
     "start_time": "2022-10-10T14:20:34.725937",
     "status": "completed"
    },
    "tags": []
   },
   "outputs": [
    {
     "data": {
      "text/plain": [
       "XGBRegressor(base_score=0.5, booster='gbtree', callbacks=None,\n",
       "             colsample_bylevel=1, colsample_bynode=1, colsample_bytree=1,\n",
       "             early_stopping_rounds=None, enable_categorical=False,\n",
       "             eval_metric=None, gamma=0, gpu_id=-1, grow_policy='depthwise',\n",
       "             importance_type=None, interaction_constraints='',\n",
       "             learning_rate=0.05, max_bin=256, max_cat_to_onehot=4,\n",
       "             max_delta_step=0, max_depth=6, max_leaves=0, min_child_weight=1,\n",
       "             missing=nan, monotone_constraints='()', n_estimators=1000,\n",
       "             n_jobs=4, num_parallel_tree=1, predictor='auto', random_state=0,\n",
       "             reg_alpha=0, reg_lambda=1, ...)"
      ]
     },
     "execution_count": 11,
     "metadata": {},
     "output_type": "execute_result"
    }
   ],
   "source": [
    "my_model = XGBRegressor(n_estimators=1000, learning_rate=0.05, n_jobs=4)\n",
    "my_model.fit(X_train, y_train, \n",
    "             early_stopping_rounds=5, \n",
    "             eval_set=[(X_valid, y_valid)], \n",
    "             verbose=False)"
   ]
  },
  {
   "cell_type": "markdown",
   "id": "1fb33987",
   "metadata": {
    "papermill": {
     "duration": 0.008293,
     "end_time": "2022-10-10T14:20:36.575244",
     "exception": false,
     "start_time": "2022-10-10T14:20:36.566951",
     "status": "completed"
    },
    "tags": []
   },
   "source": [
    "## Data Leakage\n",
    "\n",
    "Data leakage (or leakage) happens when your training data contains information about the target, but similar data will not be available when the model is used for prediction. This leads to high performance on the training set (and possibly even the validation data), but the model will perform poorly in production.\n",
    "\n",
    "There are two main types of leakage: **target leakage** and **train-test contamination.**\n",
    "\n",
    "#### Target leakage\n",
    "\n",
    "Target leakage occurs when your predictors include data that will not be available at the time you make predictions. It is important to think about target leakage in terms of the timing or chronological order that data becomes available, not merely whether a feature helps make good predictions.\n",
    "\n",
    "#### Train-Test contamination\n",
    "\n",
    "Recall that validation is meant to be a measure of how the model does on data that it hasn't considered before. You can corrupt this process in subtle ways if the validation data affects the preprocessing behavior. This is sometimes called train-test contamination.\n"
   ]
  },
  {
   "cell_type": "code",
   "execution_count": 12,
   "id": "a22352ca",
   "metadata": {
    "execution": {
     "iopub.execute_input": "2022-10-10T14:20:36.594265Z",
     "iopub.status.busy": "2022-10-10T14:20:36.593205Z",
     "iopub.status.idle": "2022-10-10T14:20:37.662183Z",
     "shell.execute_reply": "2022-10-10T14:20:37.660838Z"
    },
    "papermill": {
     "duration": 1.0817,
     "end_time": "2022-10-10T14:20:37.665201",
     "exception": false,
     "start_time": "2022-10-10T14:20:36.583501",
     "status": "completed"
    },
    "tags": []
   },
   "outputs": [
    {
     "name": "stdout",
     "output_type": "stream",
     "text": [
      "Number of rows in the dataset: 1319\n",
      "Cross-validation accuracy: 0.979534\n"
     ]
    }
   ],
   "source": [
    "import pandas as pd\n",
    "from sklearn.pipeline import make_pipeline\n",
    "from sklearn.ensemble import RandomForestClassifier\n",
    "from sklearn.model_selection import cross_val_score\n",
    "\n",
    "# Read the data\n",
    "data = pd.read_csv('../input/aer-credit-card-datacsv/AER_credit_card_data.csv', \n",
    "                   true_values = ['yes'], false_values = ['no'])\n",
    "\n",
    "# Select target\n",
    "y = data.card\n",
    "\n",
    "# Select predictors\n",
    "X = data.drop(['card'], axis=1)\n",
    "\n",
    "print(\"Number of rows in the dataset:\", X.shape[0])\n",
    "X.head()\n",
    "\n",
    "\n",
    "\n",
    "# Since there is no preprocessing, we don't need a pipeline (used anyway as best practice!)\n",
    "my_pipeline = make_pipeline(RandomForestClassifier(n_estimators=100))\n",
    "cv_scores = cross_val_score(my_pipeline, X, y, \n",
    "                            cv=5,\n",
    "                            scoring='accuracy')\n",
    "\n",
    "print(\"Cross-validation accuracy: %f\" % cv_scores.mean())"
   ]
  },
  {
   "cell_type": "code",
   "execution_count": 13,
   "id": "f444a69a",
   "metadata": {
    "execution": {
     "iopub.execute_input": "2022-10-10T14:20:37.683613Z",
     "iopub.status.busy": "2022-10-10T14:20:37.683228Z",
     "iopub.status.idle": "2022-10-10T14:20:38.970519Z",
     "shell.execute_reply": "2022-10-10T14:20:38.969260Z"
    },
    "papermill": {
     "duration": 1.299687,
     "end_time": "2022-10-10T14:20:38.973288",
     "exception": false,
     "start_time": "2022-10-10T14:20:37.673601",
     "status": "completed"
    },
    "tags": []
   },
   "outputs": [
    {
     "name": "stdout",
     "output_type": "stream",
     "text": [
      "Cross-val accuracy: 0.830171\n"
     ]
    }
   ],
   "source": [
    "# Drop leaky predictors from dataset\n",
    "potential_leaks = ['expenditure', 'share', 'active', 'majorcards']\n",
    "X2 = X.drop(potential_leaks, axis=1)\n",
    "\n",
    "# Evaluate the model with leaky predictors removed\n",
    "cv_scores = cross_val_score(my_pipeline, X2, y, \n",
    "                            cv=5,\n",
    "                            scoring='accuracy')\n",
    "\n",
    "print(\"Cross-val accuracy: %f\" % cv_scores.mean())"
   ]
  },
  {
   "cell_type": "markdown",
   "id": "6f22ef82",
   "metadata": {
    "papermill": {
     "duration": 0.008221,
     "end_time": "2022-10-10T14:20:38.989918",
     "exception": false,
     "start_time": "2022-10-10T14:20:38.981697",
     "status": "completed"
    },
    "tags": []
   },
   "source": [
    "As you can see, eventhough accuracy dropped a bit, it will always be consistent above 80% by preventing data leakage."
   ]
  }
 ],
 "metadata": {
  "kernelspec": {
   "display_name": "Python 3",
   "language": "python",
   "name": "python3"
  },
  "language_info": {
   "codemirror_mode": {
    "name": "ipython",
    "version": 3
   },
   "file_extension": ".py",
   "mimetype": "text/x-python",
   "name": "python",
   "nbconvert_exporter": "python",
   "pygments_lexer": "ipython3",
   "version": "3.7.12"
  },
  "papermill": {
   "default_parameters": {},
   "duration": 37.232443,
   "end_time": "2022-10-10T14:20:39.821880",
   "environment_variables": {},
   "exception": null,
   "input_path": "__notebook__.ipynb",
   "output_path": "__notebook__.ipynb",
   "parameters": {},
   "start_time": "2022-10-10T14:20:02.589437",
   "version": "2.3.4"
  }
 },
 "nbformat": 4,
 "nbformat_minor": 5
}
